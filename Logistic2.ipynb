{
 "cells": [
  {
   "cell_type": "code",
   "execution_count": null,
   "id": "7e575c2a-6b01-4b18-8f19-0d1b3a997b8b",
   "metadata": {},
   "outputs": [],
   "source": [
    "#Q1. What is the purpose of grid search cv in machine learning, and how does it work?\n",
    "Grid search cv is a technique to finds best model by trying all combination hyperparameter."
   ]
  },
  {
   "cell_type": "code",
   "execution_count": null,
   "id": "0021b70e-297e-4658-b008-0f13d55592bb",
   "metadata": {},
   "outputs": [],
   "source": [
    "#Q2. Describe the difference between grid search cv and randomize search cv, and when might you choose\n",
    "#one over the other?\n",
    "Grid search cv is a technique to finds best model by trying all combination hyperparameter.\n",
    "randomize search cv is a technique to finds best model by trying random combination hyperparameter.\n",
    "\n",
    "Largedataset = randomize search cv\n",
    "Smalldataset = Grid search cv "
   ]
  },
  {
   "cell_type": "code",
   "execution_count": null,
   "id": "6377d2e7-2bd5-4ca7-8f09-2ffb5e04b74f",
   "metadata": {},
   "outputs": [],
   "source": [
    "#Q3. What is data leakage, and why is it a problem in machine learning? Provide an example.\n",
    "Data leakage is when information from the test set unintentionally influences model training, leading to unrealistic \n",
    "performance. Example: Using target-related data like future information.\n"
   ]
  },
  {
   "cell_type": "code",
   "execution_count": 1,
   "id": "1f54a90a-65d6-44a8-b34d-e8aff6c6ec10",
   "metadata": {},
   "outputs": [],
   "source": [
    "#Q4. How can you prevent data leakage when building a machine learning model?\n",
    "Prevent data leakage by separating training and testing sets strictly, avoiding using future information or data \n",
    "from the target variable."
   ]
  },
  {
   "cell_type": "code",
   "execution_count": null,
   "id": "0880d638-4ed6-437f-ba2b-f9ec3570b6f0",
   "metadata": {},
   "outputs": [],
   "source": [
    "#Q5. What is a confusion matrix, and what does it tell you about the performance of a classification model?\n",
    "A confusion matrix displays the model's performance by comparing predicted and actual classes, showing true\n",
    "positives, false positives, etc.\n"
   ]
  },
  {
   "cell_type": "code",
   "execution_count": null,
   "id": "8a5f3329-5e3b-42f9-9594-089b011f12e9",
   "metadata": {},
   "outputs": [],
   "source": [
    "#Q6. Explain the difference between precision and recall in the context of a confusion matrix.\n",
    "Precision measures the proportion of true positive predictions out of all positive predictions, while recall \n",
    "measures the proportion of true positives out of all actual positives."
   ]
  },
  {
   "cell_type": "code",
   "execution_count": null,
   "id": "b14bbce1-bb03-4c56-9aef-5496b886dbc9",
   "metadata": {},
   "outputs": [],
   "source": [
    "#Q7. How can you interpret a confusion matrix to determine which types of errors your model is making?\n",
    "By examining off-diagonal elements: false positives (Type I errors) indicate overestimation, false negatives \n",
    "(Type II errors) indicate underestimation."
   ]
  },
  {
   "cell_type": "code",
   "execution_count": null,
   "id": "cfb909b9-60fb-45bb-97b5-933bc5355d56",
   "metadata": {},
   "outputs": [],
   "source": [
    "#Q8. What are some common metrics that can be derived from a confusion matrix, and how are they\n",
    "#calculated?\n",
    "Common metrics include accuracy, precision, recall, F1 score. They are calculated using values from the confusion \n",
    "matrix."
   ]
  },
  {
   "cell_type": "code",
   "execution_count": null,
   "id": "0067ec1a-7dc3-43a7-876c-cc301aca724b",
   "metadata": {},
   "outputs": [],
   "source": [
    "#Q9. What is the relationship between the accuracy of a model and the values in its confusion matrix?\n",
    "The accuracy of a model is the proportion of correct predictions out of all predictions and is derived from the\n",
    "confusion matrix.\n"
   ]
  },
  {
   "cell_type": "code",
   "execution_count": null,
   "id": "ae6bb3e1-4367-4241-b55b-1bdad4650ad4",
   "metadata": {},
   "outputs": [],
   "source": [
    "#Q10. How can you use a confusion matrix to identify potential biases or limitations in your machine learning\n",
    "#model?\n"
   ]
  }
 ],
 "metadata": {
  "kernelspec": {
   "display_name": "Python 3 (ipykernel)",
   "language": "python",
   "name": "python3"
  },
  "language_info": {
   "codemirror_mode": {
    "name": "ipython",
    "version": 3
   },
   "file_extension": ".py",
   "mimetype": "text/x-python",
   "name": "python",
   "nbconvert_exporter": "python",
   "pygments_lexer": "ipython3",
   "version": "3.9.13"
  }
 },
 "nbformat": 4,
 "nbformat_minor": 5
}
