{
 "cells": [
  {
   "cell_type": "code",
   "execution_count": null,
   "id": "73aea813-78b0-494a-963d-21930b141973",
   "metadata": {},
   "outputs": [],
   "source": [
    "Q1. Explain the basic concept of clustering and give examples of applications where clustering is useful.\n",
    "\n",
    "Clustering groups similar data points together based on features, useful in market segmentation, \n",
    "image analysis, and anomaly detection.\n"
   ]
  },
  {
   "cell_type": "code",
   "execution_count": null,
   "id": "a3013b0c-d762-482e-ad4a-d42a9764b7a7",
   "metadata": {},
   "outputs": [],
   "source": [
    "What is DBSCAN and how does it differ from other clustering algorithms such as k-means and\n",
    "hierarchical clustering?\n",
    "\n",
    "DBSCAN clusters based on density, identifying noise and varying shapes, \n",
    "unlike K-means (fixed clusters) and hierarchical (tree structure)."
   ]
  },
  {
   "cell_type": "code",
   "execution_count": null,
   "id": "ec583927-09b2-4295-b210-ec7328d51cfb",
   "metadata": {},
   "outputs": [],
   "source": [
    "How does DBSCAN clustering handle outliers in a dataset?\n",
    "\n",
    "DBSCAN identifies outliers as noise points not fitting into any dense cluster, excluding them from \n",
    "final cluster results."
   ]
  },
  {
   "cell_type": "code",
   "execution_count": null,
   "id": "9ed83e66-757e-461b-9ddd-6429de57fc79",
   "metadata": {},
   "outputs": [],
   "source": [
    "Q5. How does DBSCAN clustering differ from k-means clustering?\n",
    "\n",
    "DBSCAN clusters based on density and shape, handles outliers, while K-means requires predefined cluster \n",
    "count and assumes spherical clusters."
   ]
  }
 ],
 "metadata": {
  "kernelspec": {
   "display_name": "Python 3 (ipykernel)",
   "language": "python",
   "name": "python3"
  },
  "language_info": {
   "codemirror_mode": {
    "name": "ipython",
    "version": 3
   },
   "file_extension": ".py",
   "mimetype": "text/x-python",
   "name": "python",
   "nbconvert_exporter": "python",
   "pygments_lexer": "ipython3",
   "version": "3.9.13"
  }
 },
 "nbformat": 4,
 "nbformat_minor": 5
}
