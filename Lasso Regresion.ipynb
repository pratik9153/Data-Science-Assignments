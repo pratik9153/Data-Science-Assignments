{
 "cells": [
  {
   "cell_type": "code",
   "execution_count": null,
   "id": "99461ccc-a3c4-418c-8092-8297e159f1ae",
   "metadata": {},
   "outputs": [],
   "source": [
    "#Q1. What is Lasso Regression, and how does it differ from other regression techniques?\n",
    "\n",
    "Lasso regression is a L1 regularization technique that is use in feature selection , It select only important feature\n",
    "and shrinking the coefficient of less important feature to zero.\n",
    "\n",
    "It is differ from other regression because in this when the value of lamda(hyperparameter) will increase then the \n",
    "value of theta will decrease and the value of theta will be zero .\n",
    "\n"
   ]
  },
  {
   "cell_type": "code",
   "execution_count": null,
   "id": "676081bf-b65c-461e-b695-c89a52bea3ed",
   "metadata": {},
   "outputs": [],
   "source": [
    "#Q2. What is the main advantage of using Lasso Regression in feature selection?\n",
    "\n",
    "Advantage:-\n",
    "1.It can prevent overfitting \n",
    "2.It help in feature selection \n",
    "3.It reduce the coefficient of less important feature to zeroes "
   ]
  },
  {
   "cell_type": "code",
   "execution_count": null,
   "id": "cd00a751-c9fb-45b1-a2c6-815b70272f30",
   "metadata": {},
   "outputs": [],
   "source": [
    "#Q3. How do you interpret the coefficients of a Lasso Regression model?\n",
    "\n",
    "In Lasso Regression, coefficients represent the magnitude and direction of the impact of each feature on the target \n",
    "variable. Coefficients closer to zero indicate weaker or no influence, facilitating feature selection by \n",
    "shrinking less important features to zero."
   ]
  },
  {
   "cell_type": "code",
   "execution_count": null,
   "id": "627e05a2-4647-4ee3-b669-4c3d892a8f16",
   "metadata": {},
   "outputs": [],
   "source": [
    "#Q4. What are the tuning parameters that can be adjusted in Lasso Regression, and how do they affect the\n",
    "#model's performance?\n",
    "\n",
    "In Lasso Regression, the main tuning parameter is the regularization strength, typically controlled by the lambda\n",
    "parameter. Higher values of lambda increase regularization, leading to more coefficients pushed towards zero, \n",
    "potentially improving model generalization by preventing overfitting and facilitating feature selection."
   ]
  },
  {
   "cell_type": "code",
   "execution_count": null,
   "id": "3296f351-bd81-4779-b5f4-afc4bc532eb6",
   "metadata": {},
   "outputs": [],
   "source": [
    "#Q5. Can Lasso Regression be used for non-linear regression problems? If yes, how?\n",
    "Lasso Regression inherently performs linear regression by penalizing the absolute size of coefficients. \n",
    "However, it can be combined with feature engineering or kernel tricks to handle non-linearities in data."
   ]
  },
  {
   "cell_type": "code",
   "execution_count": null,
   "id": "ca50b01a-00ee-4146-8bbe-bd64d426c901",
   "metadata": {},
   "outputs": [],
   "source": [
    "#Q6. What is the difference between Ridge Regression and Lasso Regression?\n",
    "\n",
    "Ridge Regression is a linear regression method that add penalty to large coefficients to prevent over fitting\n",
    "it is L2 regularization \n",
    "when the value of lamda(hyperparameter) will increase the value of theta will decrease but can not be zero.\n",
    "\n",
    "Lasso Regression is a linear regression method that add penalty to absolute of coefficient and shrink the less important\n",
    "feature coefficient to zero.\n",
    "it is L1 regularization \n",
    "when the value of lamda(hyperparameter) will increase the value of theta will decrease  and will be zero"
   ]
  },
  {
   "cell_type": "code",
   "execution_count": null,
   "id": "14a419c5-150c-4fd1-808e-2328060e9fbc",
   "metadata": {},
   "outputs": [],
   "source": [
    "#Q7. Can Lasso Regression handle multicollinearity in the input features? If yes, how?\n",
    "Yes, Lasso Regression can handle multicollinearity by automatically selecting only one \n",
    "feature from a group of highly correlated features, effectively performing feature selection and reducing \n",
    "redundancy in the model."
   ]
  },
  {
   "cell_type": "code",
   "execution_count": null,
   "id": "6dccf7dc-aa55-45b7-b446-9075324b41a3",
   "metadata": {},
   "outputs": [],
   "source": [
    "#Q8. How do you choose the optimal value of the regularization parameter (lambda) in Lasso Regression?\n",
    "The optimal lambda value in Lasso Regression is typically chosen through techniques like cross-validation, where\n",
    "different values are tested to find the one that minimizes prediction error or other performance metrics.\n"
   ]
  },
  {
   "cell_type": "code",
   "execution_count": null,
   "id": "527c99b8-fea9-4e99-9123-2db08dbf3728",
   "metadata": {},
   "outputs": [],
   "source": []
  }
 ],
 "metadata": {
  "kernelspec": {
   "display_name": "Python 3 (ipykernel)",
   "language": "python",
   "name": "python3"
  },
  "language_info": {
   "codemirror_mode": {
    "name": "ipython",
    "version": 3
   },
   "file_extension": ".py",
   "mimetype": "text/x-python",
   "name": "python",
   "nbconvert_exporter": "python",
   "pygments_lexer": "ipython3",
   "version": "3.9.13"
  }
 },
 "nbformat": 4,
 "nbformat_minor": 5
}
