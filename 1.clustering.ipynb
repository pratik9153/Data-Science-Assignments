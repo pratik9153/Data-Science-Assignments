{
 "cells": [
  {
   "cell_type": "code",
   "execution_count": null,
   "id": "15b616a3-bf94-4f08-ad16-d7bc99b78f15",
   "metadata": {},
   "outputs": [],
   "source": [
    "What are the different types of clustering algorithms, and how do they differ in terms of their approach\n",
    "and underlying assumptions?\n",
    "\n",
    "clustering algorithms include K-means, hierarchical, DBSCAN, and Gaussian Mixture, differing in \n",
    "data assumptions, distance metrics, and cluster shapes.\n"
   ]
  },
  {
   "cell_type": "code",
   "execution_count": null,
   "id": "6c795c87-1d98-4eab-96f9-a3b466a9c2cc",
   "metadata": {},
   "outputs": [],
   "source": [
    "Q2.What is K-means clustering, and how does it work?\n",
    "\n",
    "K-means clustering partitions data into k clusters by minimizing within-cluster variance, \n",
    "iteratively updating centroids and assignments."
   ]
  },
  {
   "cell_type": "code",
   "execution_count": null,
   "id": "e21dcbe8-55c8-4a76-87f3-e01abfd3ccb1",
   "metadata": {},
   "outputs": [],
   "source": [
    "What are some advantages and limitations of K-means clustering compared to other clustering\n",
    "techniques?\n",
    "\n",
    "K-means is simple, efficient, but struggles with non-spherical clusters, sensitive to outliers,\n",
    "and requires predefined cluster count."
   ]
  },
  {
   "cell_type": "code",
   "execution_count": null,
   "id": "1669d5bd-5191-451b-b1a4-58889be5f92e",
   "metadata": {},
   "outputs": [],
   "source": [
    "What are some applications of K-means clustering in real-world scenarios, and how has it been used\n",
    "to solve specific problems?\n",
    "\n",
    "K-means clustering is applied in customer segmentation, image compression, anomaly detection, \n",
    "and market research for pattern recognition and decision-making.\n"
   ]
  }
 ],
 "metadata": {
  "kernelspec": {
   "display_name": "Python 3 (ipykernel)",
   "language": "python",
   "name": "python3"
  },
  "language_info": {
   "codemirror_mode": {
    "name": "ipython",
    "version": 3
   },
   "file_extension": ".py",
   "mimetype": "text/x-python",
   "name": "python",
   "nbconvert_exporter": "python",
   "pygments_lexer": "ipython3",
   "version": "3.9.13"
  }
 },
 "nbformat": 4,
 "nbformat_minor": 5
}
