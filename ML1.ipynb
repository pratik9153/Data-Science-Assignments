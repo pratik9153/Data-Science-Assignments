{
 "cells": [
  {
   "cell_type": "code",
   "execution_count": null,
   "id": "8e627f77-4d1e-429e-86bc-612fa39e92ed",
   "metadata": {},
   "outputs": [],
   "source": [
    "Q1.\n",
    "Artificial Intelligence : It is a smart application which perform there own tasks without\n",
    "human intervention.\n",
    "Machine Learning : It is a subset of AI which provides stats tools for analysing , visualizing the data , predict \n",
    "model and also forecasting.\n",
    "Deep Learning : It Mimic the human brain and function. "
   ]
  },
  {
   "cell_type": "code",
   "execution_count": null,
   "id": "8cfa2d10-8c27-4b24-a3f4-770b6fad60a7",
   "metadata": {},
   "outputs": [],
   "source": [
    "Q2.\n",
    "Supervised Learning is a type of Machine learning which is used to deal with problem that is Classification and \n",
    "Regression. In this Learning we aleardy know about the feature of output.\n",
    "\n",
    "example : You have a dataset with classification that are : No.of hours playing ,  No.of hours studing now we have \n",
    "to predict pass/fail."
   ]
  },
  {
   "cell_type": "code",
   "execution_count": null,
   "id": "1983486a-9641-48ea-9bb0-a084d835a79f",
   "metadata": {},
   "outputs": [],
   "source": [
    "Q3.\n",
    "Unsupervised where we create clustring that means group of similar data .\n",
    "Here we don not know the feature of output.\n",
    "\n",
    "example: customer segmentation "
   ]
  },
  {
   "cell_type": "code",
   "execution_count": null,
   "id": "558981a7-9797-4bb1-aa53-f893581d155b",
   "metadata": {},
   "outputs": [],
   "source": [
    "Q4.\n",
    "Artificial Intelligence : It is a smart application which perform there own tasks without\n",
    "human intervention.\n",
    "Machine Learning : It is a subset of AI which provides stats tools for analysing , visualizing the data , predict \n",
    "model and also forecasting.\n",
    "Deep Learning : It Mimic the human brain.\n",
    "Data Science : It include AI,ML,DL . In data science feilds these tools are used."
   ]
  },
  {
   "cell_type": "code",
   "execution_count": null,
   "id": "ce8a44bd-76bc-4cdd-9b18-c2a0d199f376",
   "metadata": {},
   "outputs": [],
   "source": [
    "Q5.\n",
    "Supervised Learning is a type of Machine learning which is used to deal with problem that is Classification and \n",
    "Regression. In this Learning we aleardy know about the feature of output.\n",
    "\n",
    "Unsupervised where we create clustring that means group of similar data .\n",
    "Here we don not know the feature of output.\n",
    "\n",
    "Semisupervised Learning contains both supervised + unsupervised Learning"
   ]
  },
  {
   "cell_type": "code",
   "execution_count": null,
   "id": "de35ba14-a98c-4478-b6c9-2ef4161bc5a9",
   "metadata": {},
   "outputs": [],
   "source": [
    "Q6.\n",
    "Basically a data set can be divivded into 3 part that is :\n",
    "    Training,Validation,Test\n",
    "In training we train the model based on information.\n",
    "In validation we try some other way to increase the accuracy.\n",
    "In Test we finalised that model is able to perform the task or not.\n",
    "\n"
   ]
  },
  {
   "cell_type": "code",
   "execution_count": null,
   "id": "14dcfcb5-53bd-405c-b17f-cd44e6934912",
   "metadata": {},
   "outputs": [],
   "source": [
    "Q7.\n",
    "\n",
    "Unsupervised learning can be particularly useful in anomaly detection because it doesn't require labeled data \n",
    "during the training phase. \n",
    "Anomalies are often rare occurrences, making it challenging to obtain a sufficient number of labeled examples.\n"
   ]
  },
  {
   "cell_type": "code",
   "execution_count": null,
   "id": "d8330926-c6a2-44bf-9c20-a706a099f5e0",
   "metadata": {},
   "outputs": [],
   "source": [
    "Q8.\n",
    "\n",
    "Supervised Learning Algorithms:\n",
    "Linear Regression\n",
    "Logistic Regression\n",
    "Decision Trees\n",
    "Random Fores\n",
    "\n",
    "Unsupervised Learning Algorithms:\n",
    "K-Means Clustering\n",
    "\n",
    "Hierarchical Clustering\n",
    "\n",
    "DBSCAN (Density-Based Spatial Clustering of Applications with Noise): Clusters data based on density, forming clusters of varying shapes and sizes.\n",
    "\n",
    "Principal Component Analysis (PCA)"
   ]
  }
 ],
 "metadata": {
  "kernelspec": {
   "display_name": "Python 3 (ipykernel)",
   "language": "python",
   "name": "python3"
  },
  "language_info": {
   "codemirror_mode": {
    "name": "ipython",
    "version": 3
   },
   "file_extension": ".py",
   "mimetype": "text/x-python",
   "name": "python",
   "nbconvert_exporter": "python",
   "pygments_lexer": "ipython3",
   "version": "3.9.13"
  }
 },
 "nbformat": 4,
 "nbformat_minor": 5
}
