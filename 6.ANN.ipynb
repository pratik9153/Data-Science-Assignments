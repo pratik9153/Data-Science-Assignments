{
 "cells": [
  {
   "cell_type": "code",
   "execution_count": null,
   "id": "93da9a9c-fb2d-4b8c-a326-50388157357c",
   "metadata": {},
   "outputs": [],
   "source": [
    "#^n What is the role of optimization algorithms in artificial neural networksK Why are they necessaryJ\n",
    "\n",
    "Optimization algorithms adjust neural network weights to minimize loss functions, ensuring the model learns\n",
    "effectively andperforms well on tasks."
   ]
  },
  {
   "cell_type": "code",
   "execution_count": null,
   "id": "d213f333-4500-42f2-800c-06ee21ddda21",
   "metadata": {},
   "outputs": [],
   "source": [
    "#Cn Explain the concept of gradient descent and its variants. Discuss their differences and tradeoffs in terms\n",
    "#of convergence speed and memory re?uirementsn\n",
    "\n",
    "Gradient descent optimizes by iteratively updating weights to minimize loss. Variants like SGD, Momentum, and \n",
    "Adam balance convergence speed and memory usage, trading off between efficiency and computational complexity.\n"
   ]
  },
  {
   "cell_type": "code",
   "execution_count": null,
   "id": "e5d73763-f81d-4a47-bbd2-2df5df4256fe",
   "metadata": {},
   "outputs": [],
   "source": []
  }
 ],
 "metadata": {
  "kernelspec": {
   "display_name": "Python 3 (ipykernel)",
   "language": "python",
   "name": "python3"
  },
  "language_info": {
   "codemirror_mode": {
    "name": "ipython",
    "version": 3
   },
   "file_extension": ".py",
   "mimetype": "text/x-python",
   "name": "python",
   "nbconvert_exporter": "python",
   "pygments_lexer": "ipython3",
   "version": "3.9.13"
  }
 },
 "nbformat": 4,
 "nbformat_minor": 5
}
