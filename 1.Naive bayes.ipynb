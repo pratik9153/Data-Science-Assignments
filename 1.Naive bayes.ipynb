{
 "cells": [
  {
   "cell_type": "code",
   "execution_count": null,
   "id": "052a4d8f-fae6-4e6e-9e2c-8837bd5f01c1",
   "metadata": {},
   "outputs": [],
   "source": [
    "#Q1. What is Bayes' theorem?\n",
    "\n",
    "Bayes theorem describes the probability of an event based on prior knowledge or conditions related to the event."
   ]
  },
  {
   "cell_type": "code",
   "execution_count": null,
   "id": "2f8fce48-d392-40e1-bc16-4d2e83dae8f0",
   "metadata": {},
   "outputs": [],
   "source": [
    "#Q2. What is the formula for Bayes' theorem?\n",
    "\n",
    "Bayes theorem formula: P(A/B) = P(A) * P(B/A) / P(B)"
   ]
  },
  {
   "cell_type": "code",
   "execution_count": null,
   "id": "365396e9-0b06-402c-b1d8-004fcaec39fa",
   "metadata": {},
   "outputs": [],
   "source": [
    "#Q3. How is Bayes' theorem used in practice?\n",
    "\n",
    "Bayes theorem is used in statistics, machine learning, and science to update beliefs based on new evidence \n",
    "and prior knowledge."
   ]
  },
  {
   "cell_type": "code",
   "execution_count": null,
   "id": "21ea7e09-119a-4bfa-83fb-10b306897e0f",
   "metadata": {},
   "outputs": [],
   "source": [
    "#Q4. What is the relationship between Bayes' theorem and conditional probability?\n",
    "\n",
    "Bayes' theorem calculates conditional probability, showing how the likelihood of an event changes based on \n",
    "prior knowledge or conditions."
   ]
  },
  {
   "cell_type": "code",
   "execution_count": null,
   "id": "db6f1a26-794a-422a-b54d-cb6a9e66c8b2",
   "metadata": {},
   "outputs": [],
   "source": [
    "#Q5. How do you choose which type of Naive Bayes classifier to use for any given problem?\n",
    "\n",
    "The choice of Naive Bayes classifier typically depends on the distribution of the data"
   ]
  },
  {
   "cell_type": "code",
   "execution_count": null,
   "id": "6b722412-c758-4762-b6fc-fca25f9b7cac",
   "metadata": {},
   "outputs": [],
   "source": [
    "#Q6. Assignment:\n",
    "You have a dataset with two features, X1 and X2, and two possible classes, A and B. You want to use Naive\n",
    "Bayes to classify a new instance with features X1 = 3 and X2 = 4. The following table shows the frequency of\n",
    "each feature value for each class:\n",
    "Class X1=1 X1=2 X1=3 X2=1 X2=2 X2=3 X2=4\n",
    "A 3 3 4 4 3 3 3\n",
    "B 2 2 1 2 2 2 3\n",
    "Assuming equal prior probabilities for each class, which class would Naive Bayes predict the new instance\n",
    "to belong to?"
   ]
  },
  {
   "cell_type": "code",
   "execution_count": null,
   "id": "003a78cf-96fa-421f-9f0e-a09d655cfd8d",
   "metadata": {},
   "outputs": [],
   "source": [
    "Since we assume equal prior probabilities for each class, the prior probabilities P(A)P(A) and P(B)P(B) \n",
    "are both 0.5."
   ]
  },
  {
   "cell_type": "code",
   "execution_count": null,
   "id": "821e6e4d-0a25-46b4-a3ee-bc00ff3aff3a",
   "metadata": {},
   "outputs": [],
   "source": []
  },
  {
   "cell_type": "code",
   "execution_count": null,
   "id": "4ef7cea2-eff4-4b68-9a03-9db8e791e9a7",
   "metadata": {},
   "outputs": [],
   "source": []
  },
  {
   "cell_type": "code",
   "execution_count": null,
   "id": "620a8596-acab-4d42-bbc9-8e3bc530092a",
   "metadata": {},
   "outputs": [],
   "source": []
  },
  {
   "cell_type": "code",
   "execution_count": null,
   "id": "8b0c80db-65b3-4e68-a7f7-8fe826495e89",
   "metadata": {},
   "outputs": [],
   "source": []
  },
  {
   "cell_type": "code",
   "execution_count": null,
   "id": "c3a25cd0-6b59-4118-8f96-29ead93306df",
   "metadata": {},
   "outputs": [],
   "source": [
    "\n",
    "\n"
   ]
  },
  {
   "cell_type": "code",
   "execution_count": null,
   "id": "8385dcda-8b8a-45ce-a325-da76c8c9ad36",
   "metadata": {},
   "outputs": [],
   "source": [
    "\n",
    "\n"
   ]
  }
 ],
 "metadata": {
  "kernelspec": {
   "display_name": "Python 3 (ipykernel)",
   "language": "python",
   "name": "python3"
  },
  "language_info": {
   "codemirror_mode": {
    "name": "ipython",
    "version": 3
   },
   "file_extension": ".py",
   "mimetype": "text/x-python",
   "name": "python",
   "nbconvert_exporter": "python",
   "pygments_lexer": "ipython3",
   "version": "3.9.13"
  }
 },
 "nbformat": 4,
 "nbformat_minor": 5
}
