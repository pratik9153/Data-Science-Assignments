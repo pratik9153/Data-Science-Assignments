{
 "cells": [
  {
   "cell_type": "code",
   "execution_count": 1,
   "id": "df4205f1-3413-4f85-b156-1b8d7fbccde4",
   "metadata": {},
   "outputs": [],
   "source": [
    "#Q1. Describe the decision tree classifier algorithm and how it works to make predictions.\n",
    "\n",
    "Decision tree classifier recursively splits data based on features, aiming to maximize information gain at each node,\n",
    "creating a tree-like structure for classification. Predictions are made by traversing the tree."
   ]
  },
  {
   "cell_type": "code",
   "execution_count": 2,
   "id": "9f916bfe-aa53-42a0-a746-519f66a3f338",
   "metadata": {},
   "outputs": [],
   "source": [
    "#Q2. Provide a step-by-step explanation of the mathematical intuition behind decision tree classification.\n",
    "\n",
    "Decision trees split data based on features, optimizing to minimize impurity in resulting subsets. Using measures \n",
    "like Gini impurity or entropy, it iteratively selects splits to maximize information gain for effective \n",
    "classification."
   ]
  },
  {
   "cell_type": "code",
   "execution_count": null,
   "id": "22ac2098-89bd-4ffa-bbc7-e850827a6dfd",
   "metadata": {},
   "outputs": [],
   "source": [
    "#Q3. Explain how a decision tree classifier can be used to solve a binary classification problem.\n",
    "\n",
    "A decision tree classifier divides data into subsets based on feature values, aiming to separate classes. It \n",
    "repeatedly splits data to create a tree, ultimately classifying instances into one of two categories."
   ]
  },
  {
   "cell_type": "code",
   "execution_count": null,
   "id": "4b925a53-7dc9-472e-846b-2c7048190436",
   "metadata": {},
   "outputs": [],
   "source": [
    "#Q4. Discuss the geometric intuition behind decision tree classification and how it can be used to make\n",
    "#predictions.\n",
    "\n",
    "Decision tree classification geometrically divides feature space into regions, resembling hyperplanes or rectangles.\n",
    "Predictions are made by assigning a class label based on the region in which a data point falls."
   ]
  },
  {
   "cell_type": "code",
   "execution_count": null,
   "id": "b0adc56d-5ebf-49fc-a946-391685198195",
   "metadata": {},
   "outputs": [],
   "source": [
    "#Q5. Define the confusion matrix and describe how it can be used to evaluate the performance of a\n",
    "#classification model.\n",
    "\n",
    "A confusion matrix is a table that summarizes the performance of a classification model by comparing predicted and \n",
    "actual class labels, providing insights into true positives, true negatives, false positives, and false negatives."
   ]
  },
  {
   "cell_type": "code",
   "execution_count": null,
   "id": "8fa0289a-aac5-4cdc-a561-aa4cdf648ad8",
   "metadata": {},
   "outputs": [],
   "source": [
    "#Q6. Provide an example of a confusion matrix and explain how precision, recall, and F1 score can be\n",
    "#calculated from it.\n",
    "\n",
    "Precision = TP / (TP + FP)\n",
    "Recall = TP / (TP + FN)\n",
    "F1 Score = 2 * (Precision * Recall) / (Precision + Recall)"
   ]
  },
  {
   "cell_type": "code",
   "execution_count": null,
   "id": "fb4097ba-6c72-47d8-90d0-b7106d525f2e",
   "metadata": {},
   "outputs": [],
   "source": [
    "#Q7. Discuss the importance of choosing an appropriate evaluation metric for a classification problem and\n",
    "#explain how this can be done.\n",
    "\n",
    "Choosing the right evaluation metric ensures accurate assessment of a classification model's performance. \n",
    "Selection depends on task specifics: precision/recall for imbalanced data, accuracy for balanced data, and F1 score\n",
    "for a balance between precision and recall."
   ]
  },
  {
   "cell_type": "code",
   "execution_count": null,
   "id": "68254e7e-a507-417e-9943-0cebf16d53be",
   "metadata": {},
   "outputs": [],
   "source": [
    "#Q8. Provide an example of a classification problem where precision is the most important metric, and\n",
    "#explain why.\n",
    "\n",
    "In medical diagnosis, precision is crucial. High precision ensures that predicted positive cases are accurate, \n",
    "minimizing false alarms and unnecessary treatments, which can be costly or harmful to patients."
   ]
  },
  {
   "cell_type": "code",
   "execution_count": null,
   "id": "0695354d-6eb4-429f-be45-fb85d53576e8",
   "metadata": {},
   "outputs": [],
   "source": [
    "#Q9. Provide an example of a classification problem where recall is the most important metric, and explain\n",
    "#why.\n",
    "\n",
    "\n",
    "In fraud detection, recall is vital. High recall ensures that as many fraudulent cases as possible are detected, \n",
    "minimizing financial losses."
   ]
  }
 ],
 "metadata": {
  "kernelspec": {
   "display_name": "Python 3 (ipykernel)",
   "language": "python",
   "name": "python3"
  },
  "language_info": {
   "codemirror_mode": {
    "name": "ipython",
    "version": 3
   },
   "file_extension": ".py",
   "mimetype": "text/x-python",
   "name": "python",
   "nbconvert_exporter": "python",
   "pygments_lexer": "ipython3",
   "version": "3.9.13"
  }
 },
 "nbformat": 4,
 "nbformat_minor": 5
}
