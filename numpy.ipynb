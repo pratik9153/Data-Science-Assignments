{
 "cells": [
  {
   "cell_type": "code",
   "execution_count": 1,
   "id": "3efed61a",
   "metadata": {},
   "outputs": [],
   "source": [
    "#Q1\n",
    "\n",
    "import numpy as np\n",
    "list_ = [ '1' ,'2' , '3' , '4' , '5' ]\n",
    "array_list = np.array(object = list_)"
   ]
  },
  {
   "cell_type": "code",
   "execution_count": 2,
   "id": "b882a0a9",
   "metadata": {},
   "outputs": [
    {
     "data": {
      "text/plain": [
       "list"
      ]
     },
     "execution_count": 2,
     "metadata": {},
     "output_type": "execute_result"
    }
   ],
   "source": [
    "type(list_)"
   ]
  },
  {
   "cell_type": "code",
   "execution_count": 3,
   "id": "f6d230c3",
   "metadata": {},
   "outputs": [
    {
     "data": {
      "text/plain": [
       "numpy.ndarray"
      ]
     },
     "execution_count": 3,
     "metadata": {},
     "output_type": "execute_result"
    }
   ],
   "source": [
    "type(array_list)"
   ]
  },
  {
   "cell_type": "markdown",
   "id": "008b8832-50ff-44ff-b37d-14cb69633fe7",
   "metadata": {},
   "source": [
    "yes , there is differnce between data types list_ is a python list and array_list is numpy narray"
   ]
  },
  {
   "cell_type": "code",
   "execution_count": 4,
   "id": "08f71289-1376-41d5-aa95-990ea965e2b3",
   "metadata": {},
   "outputs": [
    {
     "name": "stdout",
     "output_type": "stream",
     "text": [
      "1 <class 'str'>\n",
      "2 <class 'str'>\n",
      "3 <class 'str'>\n",
      "4 <class 'str'>\n",
      "5 <class 'str'>\n"
     ]
    }
   ],
   "source": [
    "#Q2\n",
    "\n",
    "for i in list_:\n",
    "    print(i,type(i))"
   ]
  },
  {
   "cell_type": "code",
   "execution_count": 5,
   "id": "6c387a42-701a-4a9d-8d33-76fff506c924",
   "metadata": {},
   "outputs": [
    {
     "name": "stdout",
     "output_type": "stream",
     "text": [
      "1 <class 'numpy.str_'>\n",
      "2 <class 'numpy.str_'>\n",
      "3 <class 'numpy.str_'>\n",
      "4 <class 'numpy.str_'>\n",
      "5 <class 'numpy.str_'>\n"
     ]
    }
   ],
   "source": [
    "for i in array_list:\n",
    "    print(i,type(i))"
   ]
  },
  {
   "cell_type": "code",
   "execution_count": 6,
   "id": "eb5191f3-09f5-41b1-a99d-0c6675199a88",
   "metadata": {},
   "outputs": [
    {
     "data": {
      "text/plain": [
       "['1', '2', '3', '4', '5']"
      ]
     },
     "execution_count": 6,
     "metadata": {},
     "output_type": "execute_result"
    }
   ],
   "source": [
    "#Q3\n",
    "\n",
    "\n",
    "list_"
   ]
  },
  {
   "cell_type": "code",
   "execution_count": 7,
   "id": "93ba7d95-651b-49d5-9dae-fb8ce18380c5",
   "metadata": {},
   "outputs": [],
   "source": [
    "array_list = np.array(object = list_ , dtype = int)"
   ]
  },
  {
   "cell_type": "code",
   "execution_count": 8,
   "id": "2525240d-b37f-45d9-8447-d2cb7615c503",
   "metadata": {},
   "outputs": [
    {
     "data": {
      "text/plain": [
       "array([1, 2, 3, 4, 5])"
      ]
     },
     "execution_count": 8,
     "metadata": {},
     "output_type": "execute_result"
    }
   ],
   "source": [
    "array_list"
   ]
  },
  {
   "cell_type": "code",
   "execution_count": 9,
   "id": "0eab1115-9ad3-4f53-99d8-29a103be99ab",
   "metadata": {},
   "outputs": [
    {
     "data": {
      "text/plain": [
       "list"
      ]
     },
     "execution_count": 9,
     "metadata": {},
     "output_type": "execute_result"
    }
   ],
   "source": [
    "type(list_)"
   ]
  },
  {
   "cell_type": "code",
   "execution_count": 10,
   "id": "5083d49f-9a59-40a8-b1da-1e6d86a421ed",
   "metadata": {},
   "outputs": [
    {
     "data": {
      "text/plain": [
       "numpy.ndarray"
      ]
     },
     "execution_count": 10,
     "metadata": {},
     "output_type": "execute_result"
    }
   ],
   "source": [
    "type(array_list)"
   ]
  },
  {
   "cell_type": "code",
   "execution_count": 11,
   "id": "4e62e626-36ad-45e3-8f92-ab061d10ec54",
   "metadata": {},
   "outputs": [
    {
     "name": "stdout",
     "output_type": "stream",
     "text": [
      "1 <class 'str'>\n",
      "2 <class 'str'>\n",
      "3 <class 'str'>\n",
      "4 <class 'str'>\n",
      "5 <class 'str'>\n"
     ]
    }
   ],
   "source": [
    "for i in list_:\n",
    "    print(i,type(i))"
   ]
  },
  {
   "cell_type": "code",
   "execution_count": 12,
   "id": "8adf3f7d-9add-4962-bdbb-02f365aaaca5",
   "metadata": {},
   "outputs": [
    {
     "name": "stdout",
     "output_type": "stream",
     "text": [
      "1 <class 'numpy.int32'>\n",
      "2 <class 'numpy.int32'>\n",
      "3 <class 'numpy.int32'>\n",
      "4 <class 'numpy.int32'>\n",
      "5 <class 'numpy.int32'>\n"
     ]
    }
   ],
   "source": [
    "for i in array_list:\n",
    "    print(i,type(i))"
   ]
  },
  {
   "cell_type": "code",
   "execution_count": null,
   "id": "e5d3ef00-efb3-47b1-a96a-ba6748ecd50c",
   "metadata": {},
   "outputs": [],
   "source": [
    "#Q4\n",
    "import numpy as np\n",
    "num_list = [ [ 1 , 2 , 3 ] , [ 4 , 5 , 6 ] ]\n",
    "num_array = np.array(object = num_list)"
   ]
  }
 ],
 "metadata": {
  "kernelspec": {
   "display_name": "Python 3 (ipykernel)",
   "language": "python",
   "name": "python3"
  },
  "language_info": {
   "codemirror_mode": {
    "name": "ipython",
    "version": 3
   },
   "file_extension": ".py",
   "mimetype": "text/x-python",
   "name": "python",
   "nbconvert_exporter": "python",
   "pygments_lexer": "ipython3",
   "version": "3.9.13"
  }
 },
 "nbformat": 4,
 "nbformat_minor": 5
}
