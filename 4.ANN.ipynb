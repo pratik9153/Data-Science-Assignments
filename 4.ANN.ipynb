{
 "cells": [
  {
   "cell_type": "code",
   "execution_count": null,
   "id": "c6f78905-4d6f-4bfe-821f-63be281293c9",
   "metadata": {},
   "outputs": [],
   "source": [
    "#Q1. What is the purpose of forward propagation in a neural network?\n",
    "\n",
    "Forward propagation is the peocess in neural network where inputs are passed through layers to produce outputs."
   ]
  },
  {
   "cell_type": "code",
   "execution_count": null,
   "id": "4f24352f-ac90-4d8b-98a2-fb7829f98823",
   "metadata": {},
   "outputs": [],
   "source": [
    "#How is forward propagation implemented mathematically in a single-layer feedforward neural network?\n",
    "\n",
    "Forward propagation in a single-layer feedforward neural network involves computing the output of the network \n",
    "given an input.\n",
    "\n",
    "X as the input vector of size nn (where nn is the number of input features).\n",
    "WW as the weight vector of size nn (each weight corresponds to a feature).\n",
    "bb as the bias term.\n",
    "σσ as the activation function (e.g., sigmoid, ReLU)."
   ]
  },
  {
   "cell_type": "code",
   "execution_count": null,
   "id": "29696646-9a61-490e-a25e-3a0d236a6bb4",
   "metadata": {},
   "outputs": [],
   "source": [
    "# How are activation functions used during forward propagation?\n",
    "\n",
    "Activation functions are an essential component of artificial neural networks, used during forward propagation \n",
    "to introduce non-linearity into the network's output. They are applied to the weighted sum of inputs and biases \n",
    "at each neuron to determine the output of that neuron."
   ]
  },
  {
   "cell_type": "code",
   "execution_count": null,
   "id": "082787d3-b8a7-4541-9f2c-780cdd31ce33",
   "metadata": {},
   "outputs": [],
   "source": []
  }
 ],
 "metadata": {
  "kernelspec": {
   "display_name": "Python 3 (ipykernel)",
   "language": "python",
   "name": "python3"
  },
  "language_info": {
   "codemirror_mode": {
    "name": "ipython",
    "version": 3
   },
   "file_extension": ".py",
   "mimetype": "text/x-python",
   "name": "python",
   "nbconvert_exporter": "python",
   "pygments_lexer": "ipython3",
   "version": "3.9.13"
  }
 },
 "nbformat": 4,
 "nbformat_minor": 5
}
