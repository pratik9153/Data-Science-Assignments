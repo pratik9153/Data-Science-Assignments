{
 "cells": [
  {
   "cell_type": "code",
   "execution_count": null,
   "id": "ee6060ef-c596-4d43-bc76-b0449d6c3370",
   "metadata": {},
   "outputs": [],
   "source": [
    "Q1. What is Gradient Boosting Regression?\n",
    "\n",
    "Gradient Boosting Regression is an ensemble learning method that builds sequential models to minimize prediction\n",
    "errors using gradient descent."
   ]
  },
  {
   "cell_type": "code",
   "execution_count": null,
   "id": "74f8e13b-b5ce-4d20-87d0-dcf3f6bccab2",
   "metadata": {},
   "outputs": [],
   "source": [
    "Q2. What is a weak learner in Gradient Boosting?\n",
    "\n",
    "A weak learner in Gradient Boosting is a simple model, like a shallow decision tree,\n",
    "with slightly better-than-random performance.\n"
   ]
  },
  {
   "cell_type": "code",
   "execution_count": null,
   "id": "9017306d-6070-438c-8797-9f93c6b2df02",
   "metadata": {},
   "outputs": [],
   "source": [
    "What is the intuition behind the Gradient Boosting algorithm?\n",
    "\n",
    "Gradient Boosting iteratively improves predictions by correcting errors from previous models, \n",
    "optimizing through gradient descent to minimize loss.\n"
   ]
  },
  {
   "cell_type": "code",
   "execution_count": null,
   "id": "54e341fa-4c21-4502-95e4-c6a96ea0ee63",
   "metadata": {},
   "outputs": [],
   "source": [
    "How does Gradient Boosting algorithm build an ensemble of weak learners?\n",
    "\n",
    "Gradient Boosting sequentially adds weak learners, each trained to correct residual errors from \n",
    "the previous learners, minimizing overall prediction error.\n"
   ]
  },
  {
   "cell_type": "code",
   "execution_count": null,
   "id": "b367d80f-daef-4b0d-bed8-158fe89b7c64",
   "metadata": {},
   "outputs": [],
   "source": []
  },
  {
   "cell_type": "code",
   "execution_count": null,
   "id": "58ed50e3-3192-47c3-85ab-fa5d7a59921a",
   "metadata": {},
   "outputs": [],
   "source": []
  },
  {
   "cell_type": "code",
   "execution_count": null,
   "id": "2783c910-6025-48e8-b226-73667de089a0",
   "metadata": {},
   "outputs": [],
   "source": []
  },
  {
   "cell_type": "code",
   "execution_count": null,
   "id": "c432f07d-b210-4de8-b093-c48b17e4a9be",
   "metadata": {},
   "outputs": [],
   "source": []
  },
  {
   "cell_type": "code",
   "execution_count": null,
   "id": "179ffc94-bd42-4348-999d-d69d4d19ad03",
   "metadata": {},
   "outputs": [],
   "source": []
  },
  {
   "cell_type": "code",
   "execution_count": null,
   "id": "b2a7e34c-9735-44f9-8306-ec8f78348dcc",
   "metadata": {},
   "outputs": [],
   "source": []
  }
 ],
 "metadata": {
  "kernelspec": {
   "display_name": "Python 3 (ipykernel)",
   "language": "python",
   "name": "python3"
  },
  "language_info": {
   "codemirror_mode": {
    "name": "ipython",
    "version": 3
   },
   "file_extension": ".py",
   "mimetype": "text/x-python",
   "name": "python",
   "nbconvert_exporter": "python",
   "pygments_lexer": "ipython3",
   "version": "3.9.13"
  }
 },
 "nbformat": 4,
 "nbformat_minor": 5
}
