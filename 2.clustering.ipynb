{
 "cells": [
  {
   "cell_type": "code",
   "execution_count": null,
   "id": "b7fe58d4-6411-4636-96b7-d0e44301cbdc",
   "metadata": {},
   "outputs": [],
   "source": [
    "Q1. What is hierarchical clustering, and how is it different from other clustering techniques?\n",
    "\n",
    "Hierarchical clustering builds a tree-like cluster structure, unlike flat clustering (e.g., K-means),\n",
    "by iteratively merging or splitting clusters."
   ]
  },
  {
   "cell_type": "code",
   "execution_count": null,
   "id": "0ef7f895-cacb-4f8b-accf-31bacbd1bd21",
   "metadata": {},
   "outputs": [],
   "source": [
    " What are the two main types of hierarchical clustering algorithms? Describe each in brief. \n",
    "\n",
    "The two types are agglomerative (bottom-up, merging clusters) and divisive (top-down, splitting clusters) \n",
    "hierarchical clustering approaches."
   ]
  },
  {
   "cell_type": "code",
   "execution_count": null,
   "id": "80c20efd-cccd-469c-8608-b7ba50b470e6",
   "metadata": {},
   "outputs": [],
   "source": [
    "Q3. How do you determine the distance between two clusters in hierarchical clustering, and what are the\n",
    "common distance metrics used?\n",
    "\n",
    "Distance between clusters is measured using metrics like single-link, complete-link, or average-link, \n",
    "based on inter-cluster or intra-cluster distances.\n"
   ]
  },
  {
   "cell_type": "code",
   "execution_count": null,
   "id": "33037556-cab4-4c86-9b83-1295a131a032",
   "metadata": {},
   "outputs": [],
   "source": [
    "Dendrograms visualize hierarchical clustering results, showing cluster merges or splits at different levels, aiding in\n",
    "determining cluster structure."
   ]
  }
 ],
 "metadata": {
  "kernelspec": {
   "display_name": "Python 3 (ipykernel)",
   "language": "python",
   "name": "python3"
  },
  "language_info": {
   "codemirror_mode": {
    "name": "ipython",
    "version": 3
   },
   "file_extension": ".py",
   "mimetype": "text/x-python",
   "name": "python",
   "nbconvert_exporter": "python",
   "pygments_lexer": "ipython3",
   "version": "3.9.13"
  }
 },
 "nbformat": 4,
 "nbformat_minor": 5
}
