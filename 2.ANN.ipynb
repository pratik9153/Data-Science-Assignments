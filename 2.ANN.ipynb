{
 "cells": [
  {
   "cell_type": "code",
   "execution_count": null,
   "id": "36277506-48ad-4d0c-bfd4-5a5fe910ad0c",
   "metadata": {},
   "outputs": [],
   "source": [
    "# Explain the concept of batch normalization in the context of Artificial Neural Networks.\n",
    "\n",
    "Batch normaization normalize values in each layers to make training stable and efficient.\n",
    "It helps neural network to learn better .\n",
    "It a layer that insert after dense layer and before activation function that means every data coming from dense layer\n",
    "should fist go to normalization after that activation "
   ]
  },
  {
   "cell_type": "code",
   "execution_count": null,
   "id": "a6d63c3f-4e2b-4333-a0af-b00af9c373a0",
   "metadata": {},
   "outputs": [],
   "source": [
    "# Describe the benefits of using batch normalization during training\n",
    "\n",
    "1. Better training \n",
    "2. Provide Stability\n",
    "3. Internal covariate shift"
   ]
  },
  {
   "cell_type": "code",
   "execution_count": null,
   "id": "e03fa2e2-94cd-42ce-b297-a370d7c9f847",
   "metadata": {},
   "outputs": [],
   "source": [
    "#@r Discuss the working principle of batch normalization, including the normalization step and the learnable\n",
    "#parameters.\n",
    "\n",
    "Batch normalization works by standardizing the inputs to each layer based on mini-batch statistics and then scaling \n",
    "and shifting these normalized values using learnable parameters γγ and ββ. This process helps stabilize and \n",
    "accelerate the training of neural networks, allowing for higher learning rates and better generalization."
   ]
  },
  {
   "cell_type": "markdown",
   "id": "6725684f-3d22-4373-a10e-6acbc8966845",
   "metadata": {},
   "source": [
    "## Implementation"
   ]
  },
  {
   "cell_type": "code",
   "execution_count": 2,
   "id": "a80fa831-333f-48cd-ab50-2928b701e2fb",
   "metadata": {},
   "outputs": [],
   "source": [
    "import tensorflow \n",
    "from tensorflow.keras.datasets import mnist"
   ]
  },
  {
   "cell_type": "code",
   "execution_count": 3,
   "id": "c1196f4e-53e1-4376-bb5d-50444b012239",
   "metadata": {},
   "outputs": [],
   "source": [
    "(X_train_full,y_train_full) , (X_test,y_test) = mnist.load_data()"
   ]
  },
  {
   "cell_type": "code",
   "execution_count": 4,
   "id": "6a195b91-91ef-41eb-a7aa-4b35460e8ab2",
   "metadata": {},
   "outputs": [
    {
     "data": {
      "text/plain": [
       "(60000, 28, 28)"
      ]
     },
     "execution_count": 4,
     "metadata": {},
     "output_type": "execute_result"
    }
   ],
   "source": [
    "X_train_full.shape"
   ]
  },
  {
   "cell_type": "code",
   "execution_count": 5,
   "id": "d8067fac-8d6d-4a26-accd-a2a15cfc281a",
   "metadata": {},
   "outputs": [
    {
     "data": {
      "text/plain": [
       "(60000,)"
      ]
     },
     "execution_count": 5,
     "metadata": {},
     "output_type": "execute_result"
    }
   ],
   "source": [
    "y_train_full.shape"
   ]
  },
  {
   "cell_type": "code",
   "execution_count": 7,
   "id": "c78822cb-af2b-4d0b-b781-68a6846cfe27",
   "metadata": {},
   "outputs": [
    {
     "data": {
      "text/plain": [
       "(10000, 28, 28)"
      ]
     },
     "execution_count": 7,
     "metadata": {},
     "output_type": "execute_result"
    }
   ],
   "source": [
    "X_test.shape"
   ]
  },
  {
   "cell_type": "code",
   "execution_count": 8,
   "id": "16bc4b05-7e80-43d3-8205-c21de85fbf4f",
   "metadata": {},
   "outputs": [
    {
     "data": {
      "text/plain": [
       "(10000,)"
      ]
     },
     "execution_count": 8,
     "metadata": {},
     "output_type": "execute_result"
    }
   ],
   "source": [
    "y_test.shape"
   ]
  },
  {
   "cell_type": "code",
   "execution_count": 9,
   "id": "cdaea8fb-caee-4f5c-a072-211772c2ef46",
   "metadata": {},
   "outputs": [],
   "source": [
    "#create a validation  data set from the full training data \n",
    "#scale the data between 0 and 1 by dividing it by 255 as its an unsigned data between 0-255 range\n",
    "X_valid , X_train = X_train_full[:5000]/255 , X_train_full[5000:]/255\n",
    "y_valid , y_train = y_train_full[:5000] , y_train_full[5000:]\n",
    "\n",
    "#Scale the test as well \n",
    "X_test = X_test/255"
   ]
  },
  {
   "cell_type": "code",
   "execution_count": 11,
   "id": "69b636c5-e427-47dc-806b-0a9f5b6d2d84",
   "metadata": {},
   "outputs": [],
   "source": [
    "#Layers \n",
    "\n",
    "Layers = [tensorflow.keras.layers.Flatten(input_shape=[28,28],name='InputLayer'),\n",
    "         tensorflow.keras.layers.Dense(300,activation='relu',name='HiddenLayer1'),\n",
    "         tensorflow.keras.layers.Dense(100,activation='relu',name='HiddenLayer2'),\n",
    "         tensorflow.keras.layers.Dense(10,activation='softmax',name='outputlayer')]\n",
    "\n",
    "model_clf = tensorflow.keras.models.Sequential(Layers)"
   ]
  },
  {
   "cell_type": "code",
   "execution_count": 12,
   "id": "9e2a054c-5d39-4288-9585-8b4ff7e32af3",
   "metadata": {},
   "outputs": [
    {
     "data": {
      "text/plain": [
       "[<Flatten name=InputLayer, built=True>,\n",
       " <Dense name=HiddenLayer1, built=True>,\n",
       " <Dense name=HiddenLayer2, built=True>,\n",
       " <Dense name=outputlayer, built=True>]"
      ]
     },
     "execution_count": 12,
     "metadata": {},
     "output_type": "execute_result"
    }
   ],
   "source": [
    "model_clf.layers"
   ]
  },
  {
   "cell_type": "code",
   "execution_count": 13,
   "id": "6d9f2892-96fa-453a-a5f6-3287c6600e33",
   "metadata": {},
   "outputs": [
    {
     "data": {
      "text/html": [
       "<pre style=\"white-space:pre;overflow-x:auto;line-height:normal;font-family:Menlo,'DejaVu Sans Mono',consolas,'Courier New',monospace\"><span style=\"font-weight: bold\">Model: \"sequential_1\"</span>\n",
       "</pre>\n"
      ],
      "text/plain": [
       "\u001b[1mModel: \"sequential_1\"\u001b[0m\n"
      ]
     },
     "metadata": {},
     "output_type": "display_data"
    },
    {
     "data": {
      "text/html": [
       "<pre style=\"white-space:pre;overflow-x:auto;line-height:normal;font-family:Menlo,'DejaVu Sans Mono',consolas,'Courier New',monospace\">┏━━━━━━━━━━━━━━━━━━━━━━━━━━━━━━━━━┳━━━━━━━━━━━━━━━━━━━━━━━━┳━━━━━━━━━━━━━━━┓\n",
       "┃<span style=\"font-weight: bold\"> Layer (type)                    </span>┃<span style=\"font-weight: bold\"> Output Shape           </span>┃<span style=\"font-weight: bold\">       Param # </span>┃\n",
       "┡━━━━━━━━━━━━━━━━━━━━━━━━━━━━━━━━━╇━━━━━━━━━━━━━━━━━━━━━━━━╇━━━━━━━━━━━━━━━┩\n",
       "│ InputLayer (<span style=\"color: #0087ff; text-decoration-color: #0087ff\">Flatten</span>)            │ (<span style=\"color: #00d7ff; text-decoration-color: #00d7ff\">None</span>, <span style=\"color: #00af00; text-decoration-color: #00af00\">784</span>)            │             <span style=\"color: #00af00; text-decoration-color: #00af00\">0</span> │\n",
       "├─────────────────────────────────┼────────────────────────┼───────────────┤\n",
       "│ HiddenLayer1 (<span style=\"color: #0087ff; text-decoration-color: #0087ff\">Dense</span>)            │ (<span style=\"color: #00d7ff; text-decoration-color: #00d7ff\">None</span>, <span style=\"color: #00af00; text-decoration-color: #00af00\">300</span>)            │       <span style=\"color: #00af00; text-decoration-color: #00af00\">235,500</span> │\n",
       "├─────────────────────────────────┼────────────────────────┼───────────────┤\n",
       "│ HiddenLayer2 (<span style=\"color: #0087ff; text-decoration-color: #0087ff\">Dense</span>)            │ (<span style=\"color: #00d7ff; text-decoration-color: #00d7ff\">None</span>, <span style=\"color: #00af00; text-decoration-color: #00af00\">100</span>)            │        <span style=\"color: #00af00; text-decoration-color: #00af00\">30,100</span> │\n",
       "├─────────────────────────────────┼────────────────────────┼───────────────┤\n",
       "│ outputlayer (<span style=\"color: #0087ff; text-decoration-color: #0087ff\">Dense</span>)             │ (<span style=\"color: #00d7ff; text-decoration-color: #00d7ff\">None</span>, <span style=\"color: #00af00; text-decoration-color: #00af00\">10</span>)             │         <span style=\"color: #00af00; text-decoration-color: #00af00\">1,010</span> │\n",
       "└─────────────────────────────────┴────────────────────────┴───────────────┘\n",
       "</pre>\n"
      ],
      "text/plain": [
       "┏━━━━━━━━━━━━━━━━━━━━━━━━━━━━━━━━━┳━━━━━━━━━━━━━━━━━━━━━━━━┳━━━━━━━━━━━━━━━┓\n",
       "┃\u001b[1m \u001b[0m\u001b[1mLayer (type)                   \u001b[0m\u001b[1m \u001b[0m┃\u001b[1m \u001b[0m\u001b[1mOutput Shape          \u001b[0m\u001b[1m \u001b[0m┃\u001b[1m \u001b[0m\u001b[1m      Param #\u001b[0m\u001b[1m \u001b[0m┃\n",
       "┡━━━━━━━━━━━━━━━━━━━━━━━━━━━━━━━━━╇━━━━━━━━━━━━━━━━━━━━━━━━╇━━━━━━━━━━━━━━━┩\n",
       "│ InputLayer (\u001b[38;5;33mFlatten\u001b[0m)            │ (\u001b[38;5;45mNone\u001b[0m, \u001b[38;5;34m784\u001b[0m)            │             \u001b[38;5;34m0\u001b[0m │\n",
       "├─────────────────────────────────┼────────────────────────┼───────────────┤\n",
       "│ HiddenLayer1 (\u001b[38;5;33mDense\u001b[0m)            │ (\u001b[38;5;45mNone\u001b[0m, \u001b[38;5;34m300\u001b[0m)            │       \u001b[38;5;34m235,500\u001b[0m │\n",
       "├─────────────────────────────────┼────────────────────────┼───────────────┤\n",
       "│ HiddenLayer2 (\u001b[38;5;33mDense\u001b[0m)            │ (\u001b[38;5;45mNone\u001b[0m, \u001b[38;5;34m100\u001b[0m)            │        \u001b[38;5;34m30,100\u001b[0m │\n",
       "├─────────────────────────────────┼────────────────────────┼───────────────┤\n",
       "│ outputlayer (\u001b[38;5;33mDense\u001b[0m)             │ (\u001b[38;5;45mNone\u001b[0m, \u001b[38;5;34m10\u001b[0m)             │         \u001b[38;5;34m1,010\u001b[0m │\n",
       "└─────────────────────────────────┴────────────────────────┴───────────────┘\n"
      ]
     },
     "metadata": {},
     "output_type": "display_data"
    },
    {
     "data": {
      "text/html": [
       "<pre style=\"white-space:pre;overflow-x:auto;line-height:normal;font-family:Menlo,'DejaVu Sans Mono',consolas,'Courier New',monospace\"><span style=\"font-weight: bold\"> Total params: </span><span style=\"color: #00af00; text-decoration-color: #00af00\">266,610</span> (1.02 MB)\n",
       "</pre>\n"
      ],
      "text/plain": [
       "\u001b[1m Total params: \u001b[0m\u001b[38;5;34m266,610\u001b[0m (1.02 MB)\n"
      ]
     },
     "metadata": {},
     "output_type": "display_data"
    },
    {
     "data": {
      "text/html": [
       "<pre style=\"white-space:pre;overflow-x:auto;line-height:normal;font-family:Menlo,'DejaVu Sans Mono',consolas,'Courier New',monospace\"><span style=\"font-weight: bold\"> Trainable params: </span><span style=\"color: #00af00; text-decoration-color: #00af00\">266,610</span> (1.02 MB)\n",
       "</pre>\n"
      ],
      "text/plain": [
       "\u001b[1m Trainable params: \u001b[0m\u001b[38;5;34m266,610\u001b[0m (1.02 MB)\n"
      ]
     },
     "metadata": {},
     "output_type": "display_data"
    },
    {
     "data": {
      "text/html": [
       "<pre style=\"white-space:pre;overflow-x:auto;line-height:normal;font-family:Menlo,'DejaVu Sans Mono',consolas,'Courier New',monospace\"><span style=\"font-weight: bold\"> Non-trainable params: </span><span style=\"color: #00af00; text-decoration-color: #00af00\">0</span> (0.00 B)\n",
       "</pre>\n"
      ],
      "text/plain": [
       "\u001b[1m Non-trainable params: \u001b[0m\u001b[38;5;34m0\u001b[0m (0.00 B)\n"
      ]
     },
     "metadata": {},
     "output_type": "display_data"
    }
   ],
   "source": [
    "model_clf.summary()"
   ]
  },
  {
   "cell_type": "code",
   "execution_count": 15,
   "id": "88be1ae4-596f-4619-b01c-5af8a1b48d5b",
   "metadata": {},
   "outputs": [],
   "source": [
    "model_clf.compile(loss=['sparse_categorical_crossentropy'],optimizer='SGD',metrics=['acc'])"
   ]
  },
  {
   "cell_type": "code",
   "execution_count": 16,
   "id": "6d763ccc-e1cb-41fe-9c32-c91135e99a51",
   "metadata": {},
   "outputs": [
    {
     "name": "stdout",
     "output_type": "stream",
     "text": [
      "Epoch 1/20\n",
      "\u001b[1m1719/1719\u001b[0m \u001b[32m━━━━━━━━━━━━━━━━━━━━\u001b[0m\u001b[37m\u001b[0m \u001b[1m5s\u001b[0m 3ms/step - acc: 0.7449 - loss: 1.0134 - val_acc: 0.9180 - val_loss: 0.3006\n",
      "Epoch 2/20\n",
      "\u001b[1m1719/1719\u001b[0m \u001b[32m━━━━━━━━━━━━━━━━━━━━\u001b[0m\u001b[37m\u001b[0m \u001b[1m5s\u001b[0m 3ms/step - acc: 0.9114 - loss: 0.3087 - val_acc: 0.9344 - val_loss: 0.2353\n",
      "Epoch 3/20\n",
      "\u001b[1m1719/1719\u001b[0m \u001b[32m━━━━━━━━━━━━━━━━━━━━\u001b[0m\u001b[37m\u001b[0m \u001b[1m5s\u001b[0m 3ms/step - acc: 0.9309 - loss: 0.2470 - val_acc: 0.9426 - val_loss: 0.2041\n",
      "Epoch 4/20\n",
      "\u001b[1m1719/1719\u001b[0m \u001b[32m━━━━━━━━━━━━━━━━━━━━\u001b[0m\u001b[37m\u001b[0m \u001b[1m4s\u001b[0m 3ms/step - acc: 0.9405 - loss: 0.2051 - val_acc: 0.9538 - val_loss: 0.1771\n",
      "Epoch 5/20\n",
      "\u001b[1m1719/1719\u001b[0m \u001b[32m━━━━━━━━━━━━━━━━━━━━\u001b[0m\u001b[37m\u001b[0m \u001b[1m5s\u001b[0m 3ms/step - acc: 0.9495 - loss: 0.1773 - val_acc: 0.9596 - val_loss: 0.1579\n",
      "Epoch 6/20\n",
      "\u001b[1m1719/1719\u001b[0m \u001b[32m━━━━━━━━━━━━━━━━━━━━\u001b[0m\u001b[37m\u001b[0m \u001b[1m5s\u001b[0m 3ms/step - acc: 0.9568 - loss: 0.1530 - val_acc: 0.9632 - val_loss: 0.1426\n",
      "Epoch 7/20\n",
      "\u001b[1m1719/1719\u001b[0m \u001b[32m━━━━━━━━━━━━━━━━━━━━\u001b[0m\u001b[37m\u001b[0m \u001b[1m5s\u001b[0m 3ms/step - acc: 0.9592 - loss: 0.1439 - val_acc: 0.9646 - val_loss: 0.1323\n",
      "Epoch 8/20\n",
      "\u001b[1m1719/1719\u001b[0m \u001b[32m━━━━━━━━━━━━━━━━━━━━\u001b[0m\u001b[37m\u001b[0m \u001b[1m5s\u001b[0m 3ms/step - acc: 0.9627 - loss: 0.1314 - val_acc: 0.9678 - val_loss: 0.1239\n",
      "Epoch 9/20\n",
      "\u001b[1m1719/1719\u001b[0m \u001b[32m━━━━━━━━━━━━━━━━━━━━\u001b[0m\u001b[37m\u001b[0m \u001b[1m5s\u001b[0m 3ms/step - acc: 0.9674 - loss: 0.1161 - val_acc: 0.9692 - val_loss: 0.1151\n",
      "Epoch 10/20\n",
      "\u001b[1m1719/1719\u001b[0m \u001b[32m━━━━━━━━━━━━━━━━━━━━\u001b[0m\u001b[37m\u001b[0m \u001b[1m4s\u001b[0m 3ms/step - acc: 0.9711 - loss: 0.1059 - val_acc: 0.9726 - val_loss: 0.1092\n",
      "Epoch 11/20\n",
      "\u001b[1m1719/1719\u001b[0m \u001b[32m━━━━━━━━━━━━━━━━━━━━\u001b[0m\u001b[37m\u001b[0m \u001b[1m5s\u001b[0m 3ms/step - acc: 0.9737 - loss: 0.0951 - val_acc: 0.9730 - val_loss: 0.1043\n",
      "Epoch 12/20\n",
      "\u001b[1m1719/1719\u001b[0m \u001b[32m━━━━━━━━━━━━━━━━━━━━\u001b[0m\u001b[37m\u001b[0m \u001b[1m4s\u001b[0m 3ms/step - acc: 0.9746 - loss: 0.0917 - val_acc: 0.9736 - val_loss: 0.0992\n",
      "Epoch 13/20\n",
      "\u001b[1m1719/1719\u001b[0m \u001b[32m━━━━━━━━━━━━━━━━━━━━\u001b[0m\u001b[37m\u001b[0m \u001b[1m5s\u001b[0m 3ms/step - acc: 0.9766 - loss: 0.0839 - val_acc: 0.9730 - val_loss: 0.0964\n",
      "Epoch 14/20\n",
      "\u001b[1m1719/1719\u001b[0m \u001b[32m━━━━━━━━━━━━━━━━━━━━\u001b[0m\u001b[37m\u001b[0m \u001b[1m4s\u001b[0m 2ms/step - acc: 0.9793 - loss: 0.0775 - val_acc: 0.9736 - val_loss: 0.0905\n",
      "Epoch 15/20\n",
      "\u001b[1m1719/1719\u001b[0m \u001b[32m━━━━━━━━━━━━━━━━━━━━\u001b[0m\u001b[37m\u001b[0m \u001b[1m5s\u001b[0m 3ms/step - acc: 0.9809 - loss: 0.0708 - val_acc: 0.9746 - val_loss: 0.0888\n",
      "Epoch 16/20\n",
      "\u001b[1m1719/1719\u001b[0m \u001b[32m━━━━━━━━━━━━━━━━━━━━\u001b[0m\u001b[37m\u001b[0m \u001b[1m4s\u001b[0m 3ms/step - acc: 0.9814 - loss: 0.0690 - val_acc: 0.9762 - val_loss: 0.0848\n",
      "Epoch 17/20\n",
      "\u001b[1m1719/1719\u001b[0m \u001b[32m━━━━━━━━━━━━━━━━━━━━\u001b[0m\u001b[37m\u001b[0m \u001b[1m5s\u001b[0m 3ms/step - acc: 0.9831 - loss: 0.0634 - val_acc: 0.9756 - val_loss: 0.0829\n",
      "Epoch 18/20\n",
      "\u001b[1m1719/1719\u001b[0m \u001b[32m━━━━━━━━━━━━━━━━━━━━\u001b[0m\u001b[37m\u001b[0m \u001b[1m5s\u001b[0m 3ms/step - acc: 0.9837 - loss: 0.0610 - val_acc: 0.9766 - val_loss: 0.0808\n",
      "Epoch 19/20\n",
      "\u001b[1m1719/1719\u001b[0m \u001b[32m━━━━━━━━━━━━━━━━━━━━\u001b[0m\u001b[37m\u001b[0m \u001b[1m5s\u001b[0m 3ms/step - acc: 0.9856 - loss: 0.0556 - val_acc: 0.9774 - val_loss: 0.0763\n",
      "Epoch 20/20\n",
      "\u001b[1m1719/1719\u001b[0m \u001b[32m━━━━━━━━━━━━━━━━━━━━\u001b[0m\u001b[37m\u001b[0m \u001b[1m5s\u001b[0m 3ms/step - acc: 0.9862 - loss: 0.0529 - val_acc: 0.9788 - val_loss: 0.0763\n"
     ]
    }
   ],
   "source": [
    "history = model_clf.fit(X_train,y_train,epochs=20,validation_data=[X_valid,y_valid])"
   ]
  },
  {
   "cell_type": "code",
   "execution_count": 17,
   "id": "ee9a592f-c65e-48cf-917d-5c581edeaea8",
   "metadata": {},
   "outputs": [
    {
     "data": {
      "text/html": [
       "<div>\n",
       "<style scoped>\n",
       "    .dataframe tbody tr th:only-of-type {\n",
       "        vertical-align: middle;\n",
       "    }\n",
       "\n",
       "    .dataframe tbody tr th {\n",
       "        vertical-align: top;\n",
       "    }\n",
       "\n",
       "    .dataframe thead th {\n",
       "        text-align: right;\n",
       "    }\n",
       "</style>\n",
       "<table border=\"1\" class=\"dataframe\">\n",
       "  <thead>\n",
       "    <tr style=\"text-align: right;\">\n",
       "      <th></th>\n",
       "      <th>acc</th>\n",
       "      <th>loss</th>\n",
       "      <th>val_acc</th>\n",
       "      <th>val_loss</th>\n",
       "    </tr>\n",
       "  </thead>\n",
       "  <tbody>\n",
       "    <tr>\n",
       "      <th>0</th>\n",
       "      <td>0.849473</td>\n",
       "      <td>0.598924</td>\n",
       "      <td>0.9180</td>\n",
       "      <td>0.300639</td>\n",
       "    </tr>\n",
       "    <tr>\n",
       "      <th>1</th>\n",
       "      <td>0.918509</td>\n",
       "      <td>0.285099</td>\n",
       "      <td>0.9344</td>\n",
       "      <td>0.235284</td>\n",
       "    </tr>\n",
       "    <tr>\n",
       "      <th>2</th>\n",
       "      <td>0.933600</td>\n",
       "      <td>0.235106</td>\n",
       "      <td>0.9426</td>\n",
       "      <td>0.204066</td>\n",
       "    </tr>\n",
       "    <tr>\n",
       "      <th>3</th>\n",
       "      <td>0.942564</td>\n",
       "      <td>0.201663</td>\n",
       "      <td>0.9538</td>\n",
       "      <td>0.177126</td>\n",
       "    </tr>\n",
       "    <tr>\n",
       "      <th>4</th>\n",
       "      <td>0.949909</td>\n",
       "      <td>0.175840</td>\n",
       "      <td>0.9596</td>\n",
       "      <td>0.157852</td>\n",
       "    </tr>\n",
       "    <tr>\n",
       "      <th>5</th>\n",
       "      <td>0.955491</td>\n",
       "      <td>0.156337</td>\n",
       "      <td>0.9632</td>\n",
       "      <td>0.142561</td>\n",
       "    </tr>\n",
       "    <tr>\n",
       "      <th>6</th>\n",
       "      <td>0.960636</td>\n",
       "      <td>0.140478</td>\n",
       "      <td>0.9646</td>\n",
       "      <td>0.132328</td>\n",
       "    </tr>\n",
       "    <tr>\n",
       "      <th>7</th>\n",
       "      <td>0.964200</td>\n",
       "      <td>0.127042</td>\n",
       "      <td>0.9678</td>\n",
       "      <td>0.123905</td>\n",
       "    </tr>\n",
       "    <tr>\n",
       "      <th>8</th>\n",
       "      <td>0.967291</td>\n",
       "      <td>0.115873</td>\n",
       "      <td>0.9692</td>\n",
       "      <td>0.115054</td>\n",
       "    </tr>\n",
       "    <tr>\n",
       "      <th>9</th>\n",
       "      <td>0.970618</td>\n",
       "      <td>0.105964</td>\n",
       "      <td>0.9726</td>\n",
       "      <td>0.109191</td>\n",
       "    </tr>\n",
       "    <tr>\n",
       "      <th>10</th>\n",
       "      <td>0.972709</td>\n",
       "      <td>0.098007</td>\n",
       "      <td>0.9730</td>\n",
       "      <td>0.104343</td>\n",
       "    </tr>\n",
       "    <tr>\n",
       "      <th>11</th>\n",
       "      <td>0.974727</td>\n",
       "      <td>0.090152</td>\n",
       "      <td>0.9736</td>\n",
       "      <td>0.099186</td>\n",
       "    </tr>\n",
       "    <tr>\n",
       "      <th>12</th>\n",
       "      <td>0.976891</td>\n",
       "      <td>0.083725</td>\n",
       "      <td>0.9730</td>\n",
       "      <td>0.096362</td>\n",
       "    </tr>\n",
       "    <tr>\n",
       "      <th>13</th>\n",
       "      <td>0.978745</td>\n",
       "      <td>0.077796</td>\n",
       "      <td>0.9736</td>\n",
       "      <td>0.090502</td>\n",
       "    </tr>\n",
       "    <tr>\n",
       "      <th>14</th>\n",
       "      <td>0.979909</td>\n",
       "      <td>0.072549</td>\n",
       "      <td>0.9746</td>\n",
       "      <td>0.088750</td>\n",
       "    </tr>\n",
       "    <tr>\n",
       "      <th>15</th>\n",
       "      <td>0.981527</td>\n",
       "      <td>0.067687</td>\n",
       "      <td>0.9762</td>\n",
       "      <td>0.084848</td>\n",
       "    </tr>\n",
       "    <tr>\n",
       "      <th>16</th>\n",
       "      <td>0.983055</td>\n",
       "      <td>0.063581</td>\n",
       "      <td>0.9756</td>\n",
       "      <td>0.082878</td>\n",
       "    </tr>\n",
       "    <tr>\n",
       "      <th>17</th>\n",
       "      <td>0.983800</td>\n",
       "      <td>0.059400</td>\n",
       "      <td>0.9766</td>\n",
       "      <td>0.080822</td>\n",
       "    </tr>\n",
       "    <tr>\n",
       "      <th>18</th>\n",
       "      <td>0.985255</td>\n",
       "      <td>0.055643</td>\n",
       "      <td>0.9774</td>\n",
       "      <td>0.076258</td>\n",
       "    </tr>\n",
       "    <tr>\n",
       "      <th>19</th>\n",
       "      <td>0.986055</td>\n",
       "      <td>0.052652</td>\n",
       "      <td>0.9788</td>\n",
       "      <td>0.076259</td>\n",
       "    </tr>\n",
       "  </tbody>\n",
       "</table>\n",
       "</div>"
      ],
      "text/plain": [
       "         acc      loss  val_acc  val_loss\n",
       "0   0.849473  0.598924   0.9180  0.300639\n",
       "1   0.918509  0.285099   0.9344  0.235284\n",
       "2   0.933600  0.235106   0.9426  0.204066\n",
       "3   0.942564  0.201663   0.9538  0.177126\n",
       "4   0.949909  0.175840   0.9596  0.157852\n",
       "5   0.955491  0.156337   0.9632  0.142561\n",
       "6   0.960636  0.140478   0.9646  0.132328\n",
       "7   0.964200  0.127042   0.9678  0.123905\n",
       "8   0.967291  0.115873   0.9692  0.115054\n",
       "9   0.970618  0.105964   0.9726  0.109191\n",
       "10  0.972709  0.098007   0.9730  0.104343\n",
       "11  0.974727  0.090152   0.9736  0.099186\n",
       "12  0.976891  0.083725   0.9730  0.096362\n",
       "13  0.978745  0.077796   0.9736  0.090502\n",
       "14  0.979909  0.072549   0.9746  0.088750\n",
       "15  0.981527  0.067687   0.9762  0.084848\n",
       "16  0.983055  0.063581   0.9756  0.082878\n",
       "17  0.983800  0.059400   0.9766  0.080822\n",
       "18  0.985255  0.055643   0.9774  0.076258\n",
       "19  0.986055  0.052652   0.9788  0.076259"
      ]
     },
     "execution_count": 17,
     "metadata": {},
     "output_type": "execute_result"
    }
   ],
   "source": [
    "import pandas as pd \n",
    "pd.DataFrame(history.history)"
   ]
  },
  {
   "cell_type": "code",
   "execution_count": null,
   "id": "3ddbdc40-cb53-4265-8d74-36deb5d91159",
   "metadata": {},
   "outputs": [
    {
     "name": "stdout",
     "output_type": "stream",
     "text": [
      "Epoch 1/20\n",
      "\u001b[1m1719/1719\u001b[0m \u001b[32m━━━━━━━━━━━━━━━━━━━━\u001b[0m\u001b[37m\u001b[0m \u001b[1m4s\u001b[0m 3ms/step - acc: 0.9882 - loss: 0.0485 - val_acc: 0.9782 - val_loss: 0.0746\n",
      "Epoch 2/20\n",
      "\u001b[1m1719/1719\u001b[0m \u001b[32m━━━━━━━━━━━━━━━━━━━━\u001b[0m\u001b[37m\u001b[0m \u001b[1m5s\u001b[0m 3ms/step - acc: 0.9884 - loss: 0.0467 - val_acc: 0.9788 - val_loss: 0.0751\n",
      "Epoch 3/20\n",
      "\u001b[1m1719/1719\u001b[0m \u001b[32m━━━━━━━━━━━━━━━━━━━━\u001b[0m\u001b[37m\u001b[0m \u001b[1m5s\u001b[0m 3ms/step - acc: 0.9899 - loss: 0.0421 - val_acc: 0.9796 - val_loss: 0.0719\n",
      "Epoch 4/20\n",
      "\u001b[1m1719/1719\u001b[0m \u001b[32m━━━━━━━━━━━━━━━━━━━━\u001b[0m\u001b[37m\u001b[0m \u001b[1m5s\u001b[0m 3ms/step - acc: 0.9900 - loss: 0.0402 - val_acc: 0.9796 - val_loss: 0.0742\n",
      "Epoch 5/20\n",
      "\u001b[1m1719/1719\u001b[0m \u001b[32m━━━━━━━━━━━━━━━━━━━━\u001b[0m\u001b[37m\u001b[0m \u001b[1m5s\u001b[0m 3ms/step - acc: 0.9915 - loss: 0.0381 - val_acc: 0.9792 - val_loss: 0.0710\n",
      "Epoch 6/20\n",
      "\u001b[1m1719/1719\u001b[0m \u001b[32m━━━━━━━━━━━━━━━━━━━━\u001b[0m\u001b[37m\u001b[0m \u001b[1m5s\u001b[0m 3ms/step - acc: 0.9909 - loss: 0.0374 - val_acc: 0.9798 - val_loss: 0.0694\n",
      "Epoch 7/20\n",
      "\u001b[1m 209/1719\u001b[0m \u001b[32m━━\u001b[0m\u001b[37m━━━━━━━━━━━━━━━━━━\u001b[0m \u001b[1m3s\u001b[0m 2ms/step - acc: 0.9925 - loss: 0.0319"
     ]
    }
   ],
   "source": [
    "history = model_clf.fit(X_train,y_train,epochs=20,validation_data=[X_valid,y_valid],batch_size=32)"
   ]
  },
  {
   "cell_type": "code",
   "execution_count": null,
   "id": "2ba3941c-52d4-4fe1-a549-966d76d2ede1",
   "metadata": {},
   "outputs": [],
   "source": [
    "import pandas as pd \n",
    "pd.DataFrame(history.history)"
   ]
  }
 ],
 "metadata": {
  "kernelspec": {
   "display_name": "Python 3 (ipykernel)",
   "language": "python",
   "name": "python3"
  },
  "language_info": {
   "codemirror_mode": {
    "name": "ipython",
    "version": 3
   },
   "file_extension": ".py",
   "mimetype": "text/x-python",
   "name": "python",
   "nbconvert_exporter": "python",
   "pygments_lexer": "ipython3",
   "version": "3.9.13"
  }
 },
 "nbformat": 4,
 "nbformat_minor": 5
}
