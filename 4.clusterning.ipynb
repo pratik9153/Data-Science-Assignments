{
 "cells": [
  {
   "cell_type": "code",
   "execution_count": null,
   "id": "80083e7e-0c1d-46cd-9ea1-1c4f9897ccf2",
   "metadata": {},
   "outputs": [],
   "source": [
    "Q1. Explain the concept of homogeneity and completeness in clustering evaluation. How are they\n",
    "calculated?\n",
    "\n",
    "Homogeneity measures if clusters contain only true class members; completeness measures if all true \n",
    "class members are clustered together."
   ]
  },
  {
   "cell_type": "code",
   "execution_count": null,
   "id": "2e1c1a20-ada4-44e8-8e69-f6e012d67726",
   "metadata": {},
   "outputs": [],
   "source": [
    "Q2. What is the V-measure in clustering evaluation? How is it related to homogeneity and completeness?\n",
    "\n",
    "V-measure combines homogeneity and completeness into a single metric, balancing between cluster purity and \n",
    "coverage of true class members."
   ]
  },
  {
   "cell_type": "code",
   "execution_count": null,
   "id": "ecbd83c9-1d8a-4f6a-aff3-78e4305ff16d",
   "metadata": {},
   "outputs": [],
   "source": [
    "How is the Silhouette Coefficient used to evaluate the quality of a clustering result? What is the range\n",
    "of its values?\n",
    "\n",
    "The Silhouette Coefficient evaluates clustering quality by measuring intra-cluster cohesion versus \n",
    "inter-cluster separation, ranging from -1 (bad) to 1 (good).\n"
   ]
  },
  {
   "cell_type": "code",
   "execution_count": null,
   "id": "fa45dce0-277f-4707-8562-85ef57e418ea",
   "metadata": {},
   "outputs": [],
   "source": [
    "Can a clustering result have a high homogeneity but low completeness? Explain with an example."
   ]
  }
 ],
 "metadata": {
  "kernelspec": {
   "display_name": "Python 3 (ipykernel)",
   "language": "python",
   "name": "python3"
  },
  "language_info": {
   "codemirror_mode": {
    "name": "ipython",
    "version": 3
   },
   "file_extension": ".py",
   "mimetype": "text/x-python",
   "name": "python",
   "nbconvert_exporter": "python",
   "pygments_lexer": "ipython3",
   "version": "3.9.13"
  }
 },
 "nbformat": 4,
 "nbformat_minor": 5
}
