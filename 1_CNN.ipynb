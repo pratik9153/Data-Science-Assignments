{
  "nbformat": 4,
  "nbformat_minor": 0,
  "metadata": {
    "colab": {
      "provenance": [],
      "authorship_tag": "ABX9TyMq/rNlIb9FMXRUBzpd41V4",
      "include_colab_link": true
    },
    "kernelspec": {
      "name": "python3",
      "display_name": "Python 3"
    },
    "language_info": {
      "name": "python"
    }
  },
  "cells": [
    {
      "cell_type": "markdown",
      "metadata": {
        "id": "view-in-github",
        "colab_type": "text"
      },
      "source": [
        "<a href=\"https://colab.research.google.com/github/pratik9153/Data-Science-Assignments/blob/main/1_CNN.ipynb\" target=\"_parent\"><img src=\"https://colab.research.google.com/assets/colab-badge.svg\" alt=\"Open In Colab\"/></a>"
      ]
    },
    {
      "cell_type": "code",
      "execution_count": null,
      "metadata": {
        "id": "i0rL_tba1YSo"
      },
      "outputs": [],
      "source": [
        "#bp Desccire the pucpose and renejits oj pooling in CNNp\n",
        "\n",
        "Pooling in CNNs reduces spatial dimensions, retains essential features, enhances computational efficiency, and provides translation invariance\n",
        "in image recognition."
      ]
    },
    {
      "cell_type": "code",
      "source": [
        "#ip Explain the dijjecence retween Xin pooling and Xax poolingp\n",
        "\n",
        "Min pooling selects the smallest value from a region, while max pooling chooses the largest value within that region."
      ],
      "metadata": {
        "id": "ADawqdKl1hW9"
      },
      "execution_count": null,
      "outputs": []
    },
    {
      "cell_type": "code",
      "source": [
        "#Wp Discuss the concept oj padding in CNN and its signijicancep\n",
        "\n",
        "Padding in CNNs adds extra borders to input images, preserving spatial dimensions, enhancing feature extraction, and preventing dimensionality\n",
        "reduction.\n"
      ],
      "metadata": {
        "id": "LMYrubxS1nx8"
      },
      "execution_count": null,
      "outputs": []
    },
    {
      "cell_type": "code",
      "source": [
        "#qp CoXpace and contcast zeco-padding and valid-padding in tecXs oj theic ejjects on the output\n",
        "#jeatuce Xap size.\n",
        "\n",
        "Zero-padding maintains input size by adding borders, while valid-padding reduces output size by discarding border regions during convolution."
      ],
      "metadata": {
        "id": "KfdIuc711uOf"
      },
      "execution_count": null,
      "outputs": []
    },
    {
      "cell_type": "code",
      "source": [
        "#bp Pcesent an ovecview oj the AlexNet acchitectucep\n",
        "\n",
        "AlexNet architecture features five convolutional layers, three fully connected layers, ReLU activation, dropout, and max-pooling, revolutionizing image classification."
      ],
      "metadata": {
        "id": "Q_q7Dcd012hN"
      },
      "execution_count": null,
      "outputs": []
    },
    {
      "cell_type": "code",
      "source": [
        "#ip Explain the acchitectucal innovations intcoduced in AlexNet that contciruted to its rceakthcough\n",
        "#pecjocXancep\n",
        "\n",
        "AlexNet introduced ReLU activation, dropout for regularization, GPU parallelism, overlapping pooling, and data augmentation,\n",
        "significantly improving deep learning performance.\n"
      ],
      "metadata": {
        "id": "43gTL5Zo17-g"
      },
      "execution_count": null,
      "outputs": []
    }
  ]
}