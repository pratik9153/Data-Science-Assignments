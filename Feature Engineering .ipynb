{
 "cells": [
  {
   "cell_type": "code",
   "execution_count": null,
   "id": "86aeacb3-1ad2-41b3-9a92-3e9957126cb5",
   "metadata": {},
   "outputs": [],
   "source": [
    "#Q1. What is the difference between Ordinal Encoding and Label Encoding? Provide an example of when you\n",
    "#might choose one over the other.\n",
    "\n",
    "Ordinal encoding assigns integer values to categorical variables based on their order, while label encoding assigns\n",
    "unique integers to each category. Ordinal encoding is suitable when categories have a meaningful order, like low, \n",
    "medium, high. Label encoding is preferable when categories have no intrinsic order, like color (red, blue, green)."
   ]
  },
  {
   "cell_type": "code",
   "execution_count": null,
   "id": "a563a930-2f6f-462d-a2c3-d2c61af53f89",
   "metadata": {},
   "outputs": [],
   "source": [
    "#Q2. Explain how Target Guided Ordinal Encoding works and provide an example of when you might use it in\n",
    "#a machine learning project.\n",
    "\n",
    "Target Guided Ordinal Encoding involves encoding categorical variables based on their relationship with the target \n",
    "variable's mean or median. It's useful when preserving target-related information in ordinal encoding, such as in\n",
    "risk assessment models."
   ]
  },
  {
   "cell_type": "code",
   "execution_count": null,
   "id": "10cb33ef-9785-4e31-b7b0-f78fd2a42ff1",
   "metadata": {},
   "outputs": [],
   "source": [
    "#Q3. Define covariance and explain why it is important in statistical analysis. How is covariance calculated?\n",
    "\n",
    "Covariance measures the degree to which two variables change together. It's crucial in statistical analysis as it \n",
    "indicates the direction of linear relationship between variables. Positive covariance suggests they increase \n",
    "together, negative implies one decreases as the other increases. Covariance is calculated by averaging the product \n",
    "of deviations from the means of two variables."
   ]
  },
  {
   "cell_type": "code",
   "execution_count": 8,
   "id": "095c3b66-fe0c-478c-bc2d-b45d953d785d",
   "metadata": {},
   "outputs": [
    {
     "name": "stdout",
     "output_type": "stream",
     "text": [
      "   colour  size  material\n",
      "0       2     2         2\n",
      "1       1     1         0\n",
      "2       0     0         1\n"
     ]
    }
   ],
   "source": [
    "#Q4. For a dataset with the following categorical variables: Color (red, green, blue), Size (small, medium,\n",
    "#large), and Material (wood, metal, plastic), perform label encoding using Python's scikit-learn library.\n",
    "#Show your code and explain the output.\n",
    "\n",
    "import pandas as pd \n",
    "\n",
    "data = pd.DataFrame({'colour':['red','green','blue'],\n",
    "                     'size'  :['small','medium','large'],\n",
    "                      'material':['wood','metal','plastic']\n",
    "                    })\n",
    "from sklearn.preprocessing import LabelEncoder\n",
    "encoder = LabelEncoder()\n",
    "\n",
    "for column in data.columns:\n",
    "    data[column] = encoder.fit_transform(data[column])\n",
    "\n",
    "print(data)\n"
   ]
  },
  {
   "cell_type": "code",
   "execution_count": 10,
   "id": "ca7150b3-4409-4b6e-9c3a-080486ab331c",
   "metadata": {},
   "outputs": [
    {
     "name": "stdout",
     "output_type": "stream",
     "text": [
      "Covariance Matrix:\n",
      "[[2.5e+02 2.5e+05 5.0e+01]\n",
      " [2.5e+05 2.5e+08 5.0e+04]\n",
      " [5.0e+01 5.0e+04 1.0e+01]]\n"
     ]
    }
   ],
   "source": [
    "#Q5. Calculate the covariance matrix for the following variables in a dataset: Age, Income, and Education\n",
    "#level. Interpret the results.\n",
    "\n",
    "import numpy as np\n",
    "\n",
    "\n",
    "df = pd.DataFrame({'Age': [30, 40, 50, 60, 70],\n",
    "                   'Income': [50000, 60000, 70000, 80000, 90000],\n",
    "                   'Education': [12, 14, 16, 18, 20]})\n",
    "\n",
    "\n",
    "cov_matrix = np.cov(df.T)\n",
    "\n",
    "print(\"Covariance Matrix:\")\n",
    "print(cov_matrix)\n"
   ]
  },
  {
   "cell_type": "code",
   "execution_count": null,
   "id": "9743a10a-f992-440d-a4c8-31cd111e6916",
   "metadata": {},
   "outputs": [],
   "source": [
    "    Interpretion :\n",
    "    \n",
    "    Positive covariance implies that the variables tend to increase or decrease together.\n",
    "    Negative covariance implies that one variable tends to increase as the other decreases.\n",
    "    A covariance of 0 indicates no linear relationship between the variables."
   ]
  },
  {
   "cell_type": "code",
   "execution_count": null,
   "id": "e5a0e690-f9bd-4ab7-bf00-e107be5c6a84",
   "metadata": {},
   "outputs": [],
   "source": [
    "#Q6. You are working on a machine learning project with a dataset containing several categorical\n",
    "#variables, including \"Gender\" (Male/Female), \"Education Level\" (High School/Bachelor's/Master's/PhD),\n",
    "#and \"Employment Status\" (Unemployed/Part-Time/Full-Time). Which encoding method would you use for\n",
    "#each variable, and why?\n",
    "\n",
    "    Gender (Male/Female):\n",
    "    For gender, a binary encoding method like one-hot encoding can be used. Each category (Male, Female) is \n",
    "    represented by a binary value (0 or 1). This method is suitable as gender has no ordinal relationship.\n",
    "\n",
    "    Education Level (High School/Bachelor's/Master's/PhD):\n",
    "    For education level, ordinal encoding can be used. The categories have a clear hierarchical order\n",
    "    (High School < Bachelor's < Master's < PhD), making ordinal encoding appropriate to preserve this order.\n",
    "\n",
    "    Employment Status (Unemployed/Part-Time/Full-Time):\n",
    "    For employment status, one-hot encoding is suitable. Employment status categories do not have a clear\n",
    "    ordinal relationship, and one-hot encoding preserves the categorical distinction without imposing any ordinality."
   ]
  },
  {
   "cell_type": "code",
   "execution_count": null,
   "id": "d4c3c7c4-fb84-4a0f-97a3-0009ef79a2a7",
   "metadata": {},
   "outputs": [],
   "source": [
    "#Q7. You are analyzing a dataset with two continuous variables, \"Temperature\" and \"Humidity\", and two\n",
    "#categorical variables, \"Weather Condition\" (Sunny/Cloudy/Rainy) and \"Wind Direction\" (North/South/\n",
    "#East/West). Calculate the covariance between each pair of variables and interpret the results.\n",
    "\n"
   ]
  }
 ],
 "metadata": {
  "kernelspec": {
   "display_name": "Python 3 (ipykernel)",
   "language": "python",
   "name": "python3"
  },
  "language_info": {
   "codemirror_mode": {
    "name": "ipython",
    "version": 3
   },
   "file_extension": ".py",
   "mimetype": "text/x-python",
   "name": "python",
   "nbconvert_exporter": "python",
   "pygments_lexer": "ipython3",
   "version": "3.9.13"
  }
 },
 "nbformat": 4,
 "nbformat_minor": 5
}
