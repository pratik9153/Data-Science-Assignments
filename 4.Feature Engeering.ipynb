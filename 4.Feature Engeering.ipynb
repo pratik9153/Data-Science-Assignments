{
 "cells": [
  {
   "cell_type": "code",
   "execution_count": null,
   "id": "ee5e7a5a-846a-4eca-89a6-b0d5e990ed79",
   "metadata": {},
   "outputs": [],
   "source": [
    "#Q1. What is data encoding? How is it useful in data science?\n",
    "\n",
    "Data encoding is a process of transforming categorical data into numerical data .\n",
    "types:\n",
    "    Nominal & One Hot Encoding \n",
    "    Lable & ordinal Encoding\n",
    "    Target guided Encoding\n",
    "    \n",
    "It is useful in data science by transforming the categorical data into numerical data because ML model do not \n",
    "understand categorical values . "
   ]
  },
  {
   "cell_type": "code",
   "execution_count": null,
   "id": "26063be2-9cc1-40b6-b3eb-a9fa38e28651",
   "metadata": {},
   "outputs": [],
   "source": [
    "#Q2. What is nominal encoding? Provide an example of how you would use it in a real-world scenario.\n",
    "\n",
    "Nominal encoding is a method of representing categorical data with unique numerical labels.\n",
    "Example: assigning numeric codes (0, 1, 2) to categorical variables like car models (Toyota, Honda, Ford)."
   ]
  },
  {
   "cell_type": "code",
   "execution_count": null,
   "id": "241ae622-6075-4b48-89dd-4cfb1f42cb37",
   "metadata": {},
   "outputs": [],
   "source": [
    "#Q3. In what situations is nominal encoding preferred over one-hot encoding? Provide a practical example.\n",
    "\n",
    "Nominal encoding is preferred over one-hot encoding when the number of categories is large, to reduce dimensionality.\n",
    "Example: Encoding product categories in e-commerce where hundreds of distinct categories exist."
   ]
  },
  {
   "cell_type": "code",
   "execution_count": null,
   "id": "816e8ea4-f581-4058-9f51-bd07dce8a7c6",
   "metadata": {},
   "outputs": [],
   "source": [
    "#Q4. Suppose you have a dataset containing categorical data with 5 unique values. Which encoding\n",
    "#technique would you use to transform this data into a format suitable for machine learning algorithms?\n",
    "#Explain why you made this choice.\n",
    "\n",
    "I will use One-Hot-Encoding,\n",
    "\n",
    "The reason for choosing OHE in this case is that it ensures each category is represented by a binary feature, \n",
    "which prevents any ordinal relationship being assumed between the categories. This is crucial in many machine \n",
    "learning algorithms where the magnitude of values can affect model performance unintentionally.\n",
    "Additionally, OHE allows for easy interpretation and implementation in most ML algorithms without introducing \n",
    "bias due to the number of categories."
   ]
  },
  {
   "cell_type": "code",
   "execution_count": null,
   "id": "13d37047-d744-40f3-a4b0-94381263843a",
   "metadata": {},
   "outputs": [],
   "source": [
    "#Q5. In a machine learning project, you have a dataset with 1000 rows and 5 columns. Two of the columns\n",
    "#are categorical, and the remaining three columns are numerical. If you were to use nominal encoding to\n",
    "#transform the categorical data, how many new columns would be created? Show your calculations.\n",
    "\n",
    "For nominal encoding, each unique category within a column is assigned a unique numerical label. \n",
    "Since nominal encoding does not expand the dimensionality like one-hot encoding, the number of new columns created\n",
    "is equal to the number of categorical columns.\n",
    "\n",
    " Therefore, using nominal encoding, i would create 2 new columns."
   ]
  },
  {
   "cell_type": "code",
   "execution_count": null,
   "id": "e1b6effc-fa19-4ee3-9d76-ff02f6c9ad51",
   "metadata": {},
   "outputs": [],
   "source": [
    "#Q6. You are working with a dataset containing information about different types of animals, including their\n",
    "#species, habitat, and diet. Which encoding technique would you use to transform the categorical data into\n",
    "#a format suitable for machine learning algorithms? Justify your answer.\n",
    "\n",
    "   one-Hot Encoding (OHE) is a suitable choice for transforming categorical data like species, habitat, and diet into\n",
    "    a format suitable for machine learning algorithms in this scenario.\n",
    "\n",
    "    Preservation of Information: OHE preserves the information about the categorical variables without assuming any \n",
    "    ordinal relationship between the categories. Each category is represented by a binary feature column, ensuring \n",
    "    that no false assumptions about the relationships between categories are made.\n",
    "\n",
    "    Suitable for Most Algorithms: OHE is compatible with most machine learning algorithms, including linear models, \n",
    "    decision trees, and neural networks. It allows for easy interpretation and implementation without introducing \n",
    "    bias due to the number of categories.\n",
    "\n",
    "    Interpretability: The resulting dataset after OHE transformation remains interpretable, as each new binary \n",
    "    feature represents a specific category. This can be particularly useful when analyzing model outputs or \n",
    "    explaining predictions."
   ]
  },
  {
   "cell_type": "code",
   "execution_count": null,
   "id": "2bad6a4f-220a-44fd-bca5-ee1e6f206d32",
   "metadata": {},
   "outputs": [],
   "source": [
    "#Q7.You are working on a project that involves predicting customer churn for a telecommunications\n",
    "#company. You have a dataset with 5 features, including the customer's gender, age, contract type,\n",
    "#monthly charges, and tenure. Which encoding technique(s) would you use to transform the categorical\n",
    "#data into numerical data? Provide a step-by-step explanation of how you would implement the encoding.\n",
    "\n",
    "For encoding categorical data in the telecommunications churn prediction project, I would use Label Encoding for \n",
    "gender and contract type since they possess ordinal relationships (e.g., male/female, contract types). \n",
    "Then, I'd apply Standardization or Min-Max Scaling to numerical features like age, monthly charges, and \n",
    "tenure to ensure uniform scales across features, aiding model performance."
   ]
  }
 ],
 "metadata": {
  "kernelspec": {
   "display_name": "Python 3 (ipykernel)",
   "language": "python",
   "name": "python3"
  },
  "language_info": {
   "codemirror_mode": {
    "name": "ipython",
    "version": 3
   },
   "file_extension": ".py",
   "mimetype": "text/x-python",
   "name": "python",
   "nbconvert_exporter": "python",
   "pygments_lexer": "ipython3",
   "version": "3.9.13"
  }
 },
 "nbformat": 4,
 "nbformat_minor": 5
}
