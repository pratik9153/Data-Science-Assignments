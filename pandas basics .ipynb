{
 "cells": [
  {
   "cell_type": "code",
   "execution_count": 2,
   "id": "6332a092-c2d4-4e9f-8986-a989907e2160",
   "metadata": {},
   "outputs": [
    {
     "name": "stdout",
     "output_type": "stream",
     "text": [
      "0     4\n",
      "1     8\n",
      "2    15\n",
      "3    16\n",
      "4    23\n",
      "5    42\n",
      "dtype: int64\n"
     ]
    }
   ],
   "source": [
    "#Q1. Create a Pandas Series that contains the following data: 4, 8, 15, 16, 23, and 42. Then, print the series.\n",
    "\n",
    "import pandas as pd \n",
    "\n",
    "data = [4,8,15,16,23,42]\n",
    "series_list = pd.Series(data)\n",
    "print(series_list)"
   ]
  },
  {
   "cell_type": "code",
   "execution_count": 3,
   "id": "cdfa5e75-7b9c-4e57-9d83-96b5ee953c6f",
   "metadata": {},
   "outputs": [
    {
     "name": "stdout",
     "output_type": "stream",
     "text": [
      "0     1\n",
      "1     2\n",
      "2     3\n",
      "3     4\n",
      "4     5\n",
      "5     6\n",
      "6     7\n",
      "7     8\n",
      "8     9\n",
      "9    10\n",
      "dtype: int64\n"
     ]
    }
   ],
   "source": [
    "#Q2. Create a variable of list type containing 10 elements in it, and apply pandas.Series function on the\n",
    "#variable print it.\n",
    "\n",
    "data1= [1,2,3,4,5,6,7,8,9,10]\n",
    "my_series = pd.Series(data1)\n",
    "print(my_series)"
   ]
  },
  {
   "cell_type": "code",
   "execution_count": 4,
   "id": "96fc9f72-ba96-42bc-8447-e7fa8bf5262a",
   "metadata": {},
   "outputs": [
    {
     "name": "stdout",
     "output_type": "stream",
     "text": [
      "     Name  Age  Gender\n",
      "0   Alice   25  Female\n",
      "1     Bob   30    Male\n",
      "2  Clarie   27  Female\n"
     ]
    }
   ],
   "source": [
    "#Q3. Create a Pandas DataFrame that contains the following data:\n",
    "\n",
    "data2 = {'Name' : ['Alice','Bob','Clarie'],\n",
    "         'Age'  : [25 , 30 , 27],\n",
    "         'Gender':['Female','Male','Female']\n",
    "        }\n",
    "df = pd.DataFrame(data2)\n",
    "print(df)\n"
   ]
  },
  {
   "cell_type": "code",
   "execution_count": null,
   "id": "bad2cd51-6606-4572-b7ad-110cba826512",
   "metadata": {},
   "outputs": [],
   "source": [
    "#What is ‘DataFrame’ in pandas and how is it different from pandas.series? Explain with an example.\n",
    "Data frame is a two-dimensional structure that is designed to handle tabular form of data as sql or spreadsheet.\n",
    "it is most common data structure used in pandas . Data frame is a collection of pandas series where every column is\n",
    "series.\n",
    "\n",
    "Series is one-dimensional structure that is designed to represent a single column of data .\n",
    "\n",
    "for example : As we can see the above question 1 and 3 that is a example of series and data frame .\n",
    "In example 1 i create a series that represent a single column of data .\n",
    "In example 2 i create a data frame using collection of series of data."
   ]
  },
  {
   "cell_type": "code",
   "execution_count": 6,
   "id": "a940b199-8e17-4735-888f-4dc5ab3d689f",
   "metadata": {},
   "outputs": [
    {
     "data": {
      "text/html": [
       "<div>\n",
       "<style scoped>\n",
       "    .dataframe tbody tr th:only-of-type {\n",
       "        vertical-align: middle;\n",
       "    }\n",
       "\n",
       "    .dataframe tbody tr th {\n",
       "        vertical-align: top;\n",
       "    }\n",
       "\n",
       "    .dataframe thead th {\n",
       "        text-align: right;\n",
       "    }\n",
       "</style>\n",
       "<table border=\"1\" class=\"dataframe\">\n",
       "  <thead>\n",
       "    <tr style=\"text-align: right;\">\n",
       "      <th></th>\n",
       "      <th>Name</th>\n",
       "      <th>Age</th>\n",
       "      <th>Gender</th>\n",
       "    </tr>\n",
       "  </thead>\n",
       "  <tbody>\n",
       "    <tr>\n",
       "      <th>0</th>\n",
       "      <td>Alice</td>\n",
       "      <td>25</td>\n",
       "      <td>Female</td>\n",
       "    </tr>\n",
       "    <tr>\n",
       "      <th>1</th>\n",
       "      <td>Bob</td>\n",
       "      <td>30</td>\n",
       "      <td>Male</td>\n",
       "    </tr>\n",
       "  </tbody>\n",
       "</table>\n",
       "</div>"
      ],
      "text/plain": [
       "    Name  Age  Gender\n",
       "0  Alice   25  Female\n",
       "1    Bob   30    Male"
      ]
     },
     "execution_count": 6,
     "metadata": {},
     "output_type": "execute_result"
    }
   ],
   "source": [
    "#What are some common functions you can use to manipulate data in a Pandas DataFrame? Can\n",
    "#you give an example of when you might use one of these functions?\n",
    "\n",
    "df.head(2) #this is used to extract data from beginning  side."
   ]
  },
  {
   "cell_type": "code",
   "execution_count": 7,
   "id": "1269db4c-4667-4c49-aaea-c557440a31c5",
   "metadata": {},
   "outputs": [
    {
     "data": {
      "text/html": [
       "<div>\n",
       "<style scoped>\n",
       "    .dataframe tbody tr th:only-of-type {\n",
       "        vertical-align: middle;\n",
       "    }\n",
       "\n",
       "    .dataframe tbody tr th {\n",
       "        vertical-align: top;\n",
       "    }\n",
       "\n",
       "    .dataframe thead th {\n",
       "        text-align: right;\n",
       "    }\n",
       "</style>\n",
       "<table border=\"1\" class=\"dataframe\">\n",
       "  <thead>\n",
       "    <tr style=\"text-align: right;\">\n",
       "      <th></th>\n",
       "      <th>Name</th>\n",
       "      <th>Age</th>\n",
       "      <th>Gender</th>\n",
       "    </tr>\n",
       "  </thead>\n",
       "  <tbody>\n",
       "    <tr>\n",
       "      <th>1</th>\n",
       "      <td>Bob</td>\n",
       "      <td>30</td>\n",
       "      <td>Male</td>\n",
       "    </tr>\n",
       "    <tr>\n",
       "      <th>2</th>\n",
       "      <td>Clarie</td>\n",
       "      <td>27</td>\n",
       "      <td>Female</td>\n",
       "    </tr>\n",
       "  </tbody>\n",
       "</table>\n",
       "</div>"
      ],
      "text/plain": [
       "     Name  Age  Gender\n",
       "1     Bob   30    Male\n",
       "2  Clarie   27  Female"
      ]
     },
     "execution_count": 7,
     "metadata": {},
     "output_type": "execute_result"
    }
   ],
   "source": [
    "df.tail(2) #this is  used to extract data from end side."
   ]
  },
  {
   "cell_type": "code",
   "execution_count": 8,
   "id": "97f7bdcd-ce94-4748-ba43-0c268a9af466",
   "metadata": {},
   "outputs": [
    {
     "data": {
      "text/plain": [
       "Index(['Name', 'Age', 'Gender'], dtype='object')"
      ]
     },
     "execution_count": 8,
     "metadata": {},
     "output_type": "execute_result"
    }
   ],
   "source": [
    "df.columns  #this is used to print columns"
   ]
  },
  {
   "cell_type": "code",
   "execution_count": 9,
   "id": "c7009fd5-cef7-4858-81e2-05cb3122819e",
   "metadata": {},
   "outputs": [
    {
     "data": {
      "text/plain": [
       "pandas.core.frame.DataFrame"
      ]
     },
     "execution_count": 9,
     "metadata": {},
     "output_type": "execute_result"
    }
   ],
   "source": [
    "type(df) #this is used to check type"
   ]
  },
  {
   "cell_type": "code",
   "execution_count": 10,
   "id": "6ba0cf56-7ec4-40ed-95e0-75f356a10b33",
   "metadata": {},
   "outputs": [
    {
     "data": {
      "text/plain": [
       "0    25\n",
       "1    30\n",
       "2    27\n",
       "Name: Age, dtype: int64"
      ]
     },
     "execution_count": 10,
     "metadata": {},
     "output_type": "execute_result"
    }
   ],
   "source": [
    "df['Age'] #this is use to extract data from specific columns"
   ]
  },
  {
   "cell_type": "code",
   "execution_count": null,
   "id": "1d3bee53-8a05-4238-b8b0-74276dbec171",
   "metadata": {},
   "outputs": [],
   "source": [
    "#Q6. Which of the following is mutable in nature Series, DataFrame, Panel?\n",
    "\n",
    "in pandas both Data frame and Series are mutable but panel is immutable."
   ]
  },
  {
   "cell_type": "code",
   "execution_count": null,
   "id": "2b26659a-1af3-4534-819a-09da3dcf2bac",
   "metadata": {},
   "outputs": [],
   "source": [
    "#Q7. Create a DataFrame using multiple Series. Explain with an example.\n",
    "\n",
    "names  = pd.Series(['Alice' , 'Bob' , 'Clarie'])\n",
    "age  = pd.Series([25 , 30 , 27)]\n",
    "gender = pd.Series(['Female' , 'Male' , 'Female'])\n",
    "\n",
    "data4 = {'Name' : names ,'Age' : age 'Gender' : gender}\n",
    " \n",
    "       df = pd.DataFrame(data4)          \n",
    "print("
   ]
  }
 ],
 "metadata": {
  "kernelspec": {
   "display_name": "Python 3 (ipykernel)",
   "language": "python",
   "name": "python3"
  },
  "language_info": {
   "codemirror_mode": {
    "name": "ipython",
    "version": 3
   },
   "file_extension": ".py",
   "mimetype": "text/x-python",
   "name": "python",
   "nbconvert_exporter": "python",
   "pygments_lexer": "ipython3",
   "version": "3.9.13"
  }
 },
 "nbformat": 4,
 "nbformat_minor": 5
}
