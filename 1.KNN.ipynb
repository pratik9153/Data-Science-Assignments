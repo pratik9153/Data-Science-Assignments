{
 "cells": [
  {
   "cell_type": "code",
   "execution_count": null,
   "id": "4e2ee1f5-7436-44b2-b7e7-22af78a759b1",
   "metadata": {},
   "outputs": [],
   "source": [
    "#Q1. What is the KNN algorithm?\n",
    "\n",
    "K-Nearest Neighbors (KNN) is a simple, non-parametric algorithm for classification and regression. It classifies \n",
    "data points based on majority vote of their k-nearest neighbors in feature space."
   ]
  },
  {
   "cell_type": "code",
   "execution_count": null,
   "id": "d0a0a1b7-84aa-4ad8-a167-e53c1f72b50b",
   "metadata": {},
   "outputs": [],
   "source": [
    "#Q2. How do you choose the value of K in KNN?\n",
    "\n",
    "The value of K in KNN is typically chosen through cross-validation, balancing between bias and variance.\n",
    "Higher K reduces noise but can oversmooth, while lower K increases sensitivity but may overfit."
   ]
  },
  {
   "cell_type": "code",
   "execution_count": null,
   "id": "51a6e5b4-af8c-4da4-8fc6-7e6c6a2b0fae",
   "metadata": {},
   "outputs": [],
   "source": [
    "#Q3. What is the difference between KNN classifier and KNN regressor?\n",
    "\n",
    "KNN classifier predicts class labels for data points, while KNN regressor predicts continuous output values based \n",
    "on nearby neighbors."
   ]
  },
  {
   "cell_type": "code",
   "execution_count": null,
   "id": "b8ad5db6-8827-41a9-940f-9d28aac01d38",
   "metadata": {},
   "outputs": [],
   "source": [
    "#Q4. How do you measure the performance of KNN?\n",
    "\n",
    "The performance of KNN is typically measured using metrics such as accuracy, precision, recall, F1-score, or \n",
    "Mean Squared Error."
   ]
  },
  {
   "cell_type": "code",
   "execution_count": null,
   "id": "dba68c8a-442a-48cb-94d7-d71aad766bc4",
   "metadata": {},
   "outputs": [],
   "source": [
    "#Q5. What is the curse of dimensionality in KNN?\n",
    "\n",
    "The curse of dimensionality in KNN refers to deteriorating performance as dimensionality increases, \n",
    "due to sparse data distribution."
   ]
  },
  {
   "cell_type": "code",
   "execution_count": null,
   "id": "6db44298-3b2b-44cf-8788-42f9eab8be70",
   "metadata": {},
   "outputs": [],
   "source": [
    "#Q6. How do you handle missing values in KNN?\n",
    "\n",
    "Missing values in KNN can be handled by imputation."
   ]
  },
  {
   "cell_type": "code",
   "execution_count": null,
   "id": "086cbd46-e807-426b-89d1-a3b50e380411",
   "metadata": {},
   "outputs": [],
   "source": [
    "#Q7. Compare and contrast the performance of the KNN classifier and regressor. Which one is better for\n",
    "#which type of problem?\n",
    "\n",
    "KNN classifier is suited for classification tasks, predicting discrete classes, while KNN regressor is ideal for \n",
    "regression problems, predicting continuous values. Selection depends on the nature of the problem."
   ]
  },
  {
   "cell_type": "code",
   "execution_count": null,
   "id": "9de46b8f-7292-49ee-90e9-a60398e683de",
   "metadata": {},
   "outputs": [],
   "source": [
    "#Q8. What are the strengths and weaknesses of the KNN algorithm for classification and regression tasks,\n",
    "#and how can these be addressed?\n",
    "\n",
    "Strengths: Simple, intuitive, works well with small datasets.\n",
    "Weaknesses: Computationally expensive, sensitive to irrelevant features.\n",
    "Address by feature selection, dimensionality reduction, or algorithmic improvements."
   ]
  },
  {
   "cell_type": "code",
   "execution_count": null,
   "id": "fe3fdc03-8a51-4668-b5de-7b53ce9e2ce5",
   "metadata": {},
   "outputs": [],
   "source": [
    "#Q9. What is the difference between Euclidean distance and Manhattan distance in KNN?\n",
    "\n",
    "Euclidean distance measures the straight-line distance between two points, while Manhattan distance measures the\n",
    "sum of absolute differences along each dimension."
   ]
  },
  {
   "cell_type": "code",
   "execution_count": null,
   "id": "0879c2f5-03b2-4179-a73d-c0e26e965960",
   "metadata": {},
   "outputs": [],
   "source": [
    "#Q10. What is the role of feature scaling in KNN?\n",
    "\n",
    "Feature scaling ensures all features contribute equally to distance calculations, preventing dominance by features\n",
    "with larger scales in KNN."
   ]
  }
 ],
 "metadata": {
  "kernelspec": {
   "display_name": "Python 3 (ipykernel)",
   "language": "python",
   "name": "python3"
  },
  "language_info": {
   "codemirror_mode": {
    "name": "ipython",
    "version": 3
   },
   "file_extension": ".py",
   "mimetype": "text/x-python",
   "name": "python",
   "nbconvert_exporter": "python",
   "pygments_lexer": "ipython3",
   "version": "3.9.13"
  }
 },
 "nbformat": 4,
 "nbformat_minor": 5
}
