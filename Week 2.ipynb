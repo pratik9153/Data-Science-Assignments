{
 "cells": [
  {
   "cell_type": "code",
   "execution_count": null,
   "id": "f9df2f64-8250-4ab0-b19c-9ae6169254bd",
   "metadata": {},
   "outputs": [],
   "source": [
    "1.How do you comment code in Python? What are the different types of comments?\n",
    "\n",
    "To comment code in pyhton we use # or \"\"\" \"\"\"\n",
    "\n",
    "Different type of comments in python is :-\n",
    "1) #\n",
    "2) \"\"\" \"\"\"\n",
    "\n",
    "for example:\n",
    "    a=4\n",
    "    #type(a)\n",
    "we can see that i commented type(a)"
   ]
  },
  {
   "cell_type": "code",
   "execution_count": null,
   "id": "1c99ac1b-affd-4349-977e-474ca4a6d209",
   "metadata": {},
   "outputs": [],
   "source": [
    "2.What are variables in Python? How do you declare and assign values to variables?\n",
    "\n",
    "Variables are the container that store the values.\n",
    "\n",
    "a=5\n",
    "p=\"pratik\""
   ]
  },
  {
   "cell_type": "code",
   "execution_count": null,
   "id": "7817bb10-d6ac-438a-996d-09ff83c61707",
   "metadata": {},
   "outputs": [],
   "source": [
    "3. How do you convert one data type to another in Python?\n",
    "\n",
    "In python we covert one datatype into another data type by using typecasting.\n",
    "\n"
   ]
  },
  {
   "cell_type": "code",
   "execution_count": null,
   "id": "4ff485bb-b181-4b42-b25c-cbd6ab8ab15b",
   "metadata": {},
   "outputs": [],
   "source": [
    "4. How do you write and execute a Python script from the command line?\n",
    "\n",
    "print(\"hello , world!\")"
   ]
  },
  {
   "cell_type": "code",
   "execution_count": 1,
   "id": "3839c6b3-bf56-46b4-a703-f1f8b7b24212",
   "metadata": {},
   "outputs": [],
   "source": [
    "# 5. Given a list my_list = [1, 2, 3, 4, 5], write the code to slice the list and obtain the sub-list [2, 3].\n",
    "\n",
    "my_list = [1,2,3,4,5]"
   ]
  },
  {
   "cell_type": "code",
   "execution_count": 2,
   "id": "ef834bce-3327-42e8-862b-77920098ff90",
   "metadata": {},
   "outputs": [
    {
     "data": {
      "text/plain": [
       "[2, 3]"
      ]
     },
     "execution_count": 2,
     "metadata": {},
     "output_type": "execute_result"
    }
   ],
   "source": [
    "my_list[1:3:1]"
   ]
  },
  {
   "cell_type": "code",
   "execution_count": null,
   "id": "0cf2190c-5152-4d86-9f3d-86466df4b92d",
   "metadata": {},
   "outputs": [],
   "source": [
    "6.What is a complex number in mathematics, and how is it represented in Python?\n",
    "\n",
    "A complex number in mathematics is a number that comprises both a real part and an imaginary part.\n",
    "In pyhton complex number are represented by letter 'j' example a = 2+3j"
   ]
  },
  {
   "cell_type": "code",
   "execution_count": 3,
   "id": "d7b48158-b831-48c8-aa49-75765d5d2add",
   "metadata": {},
   "outputs": [],
   "source": [
    "a=2+3j"
   ]
  },
  {
   "cell_type": "code",
   "execution_count": 4,
   "id": "05ddc32f-7b02-4bc3-a97e-5dec5ea530ce",
   "metadata": {},
   "outputs": [
    {
     "data": {
      "text/plain": [
       "complex"
      ]
     },
     "execution_count": 4,
     "metadata": {},
     "output_type": "execute_result"
    }
   ],
   "source": [
    "type(a)"
   ]
  },
  {
   "cell_type": "code",
   "execution_count": null,
   "id": "e6c2124a-ad6f-4636-8e1d-2b106418bc0a",
   "metadata": {},
   "outputs": [],
   "source": [
    "7.What is the correct way to declare a variable named age and assign the value 25 to it?\n",
    "\n",
    "   age = 25"
   ]
  },
  {
   "cell_type": "code",
   "execution_count": null,
   "id": "07721f09-8323-4a66-acd9-8c2e6f4b8368",
   "metadata": {},
   "outputs": [],
   "source": [
    "8.Declare a variable named price and assign the value 9.99 to it. What data type does this variable\n",
    "belong to?\n",
    "\n",
    "     price = 9.99 \n",
    "    it belongs to float"
   ]
  },
  {
   "cell_type": "code",
   "execution_count": 6,
   "id": "d8b1b16a-2b6d-4443-9fe7-e1624d316f16",
   "metadata": {},
   "outputs": [],
   "source": [
    "price = 9.99"
   ]
  },
  {
   "cell_type": "code",
   "execution_count": 7,
   "id": "fdce54f7-708b-4f21-b278-719de46c5626",
   "metadata": {},
   "outputs": [
    {
     "data": {
      "text/plain": [
       "float"
      ]
     },
     "execution_count": 7,
     "metadata": {},
     "output_type": "execute_result"
    }
   ],
   "source": [
    "type(price)"
   ]
  },
  {
   "cell_type": "code",
   "execution_count": 9,
   "id": "8b93247c-00f8-4152-9388-e6edacdf4d46",
   "metadata": {},
   "outputs": [
    {
     "name": "stdout",
     "output_type": "stream",
     "text": [
      "pratik choudhary\n"
     ]
    }
   ],
   "source": [
    "\"\"\"9.Create a variable named name and assign your full name to it as a string. How would you print the\n",
    "value of this variable?\"\"\"\n",
    "\n",
    "name = \"pratik choudhary\"\n",
    "print(name)\n"
   ]
  },
  {
   "cell_type": "code",
   "execution_count": 12,
   "id": "59813044-88da-40e3-ad72-a49873ea707b",
   "metadata": {},
   "outputs": [
    {
     "data": {
      "text/plain": [
       "'World'"
      ]
     },
     "execution_count": 12,
     "metadata": {},
     "output_type": "execute_result"
    }
   ],
   "source": [
    "#10.Given the string \"Hello, World!\", extract the substring \"World\".\n",
    "string = \"Hello, World!\"\n",
    "string[7:12]"
   ]
  },
  {
   "cell_type": "code",
   "execution_count": null,
   "id": "c3cf492f-36eb-4fc6-9202-a8bfbbe24206",
   "metadata": {},
   "outputs": [],
   "source": [
    "\"\"\"11.Create a variable named \"is_student\" and assign it a boolean value indicating whether you are\n",
    "currently a student or not.\"\"\"\n",
    "\n",
    "is_student = True # if i am student currently\n",
    "\n",
    "is_student = False # if i am not student currently "
   ]
  }
 ],
 "metadata": {
  "kernelspec": {
   "display_name": "Python 3 (ipykernel)",
   "language": "python",
   "name": "python3"
  },
  "language_info": {
   "codemirror_mode": {
    "name": "ipython",
    "version": 3
   },
   "file_extension": ".py",
   "mimetype": "text/x-python",
   "name": "python",
   "nbconvert_exporter": "python",
   "pygments_lexer": "ipython3",
   "version": "3.9.13"
  }
 },
 "nbformat": 4,
 "nbformat_minor": 5
}
