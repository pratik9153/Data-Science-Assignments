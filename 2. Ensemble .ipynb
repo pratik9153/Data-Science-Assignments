{
 "cells": [
  {
   "cell_type": "code",
   "execution_count": null,
   "id": "fc3a1eb8-51e8-495a-8c9b-758fc4e65ab8",
   "metadata": {},
   "outputs": [],
   "source": [
    "#Q1. How does bagging reduce overfitting in decision trees?\n",
    "\n",
    "Bagging reduces overfitting by training multiple decision trees on bootstrapped samples and averaging their \n",
    "predictions, increasing generalization."
   ]
  },
  {
   "cell_type": "code",
   "execution_count": null,
   "id": "e819ed5d-5ef0-4a10-ae2e-76fd68bced9f",
   "metadata": {},
   "outputs": [],
   "source": [
    "#Q2. What are the advantages and disadvantages of using different types of base learners in bagging?\n",
    "\n",
    "Advantages:\n",
    "\n",
    "    Diverse models reduce overfitting.\n",
    "    Improved performance through model averaging.\n",
    "    Can handle various types of data and problem domains.\n",
    "\n",
    "Disadvantages:\n",
    "\n",
    "    Increased computational complexity.\n",
    "    Difficult to interpret ensemble predictions with diverse models.\n",
    "    Selection of appropriate base learners requires domain knowledge."
   ]
  },
  {
   "cell_type": "code",
   "execution_count": null,
   "id": "c5bd4942-6327-4ebd-81d0-88467e821ece",
   "metadata": {},
   "outputs": [],
   "source": [
    "#Q3. How does the choice of base learner affect the bias-variance tradeoff in bagging?\n",
    "\n",
    "The choice of base learner affects bias-variance tradeoff; diverse base learners can reduce variance, while \n",
    "less flexible learners increase bias."
   ]
  },
  {
   "cell_type": "code",
   "execution_count": null,
   "id": "0c9a642c-58eb-4966-a40b-9ff40310edda",
   "metadata": {},
   "outputs": [],
   "source": [
    "#Q4. Can bagging be used for both classification and regression tasks? How does it differ in each case?\n",
    "\n",
    "Yes, bagging can be used for both tasks. For regression, bagging averages predictions from multiple models. \n",
    "For classification, it aggregates predictions using voting or averaging."
   ]
  },
  {
   "cell_type": "code",
   "execution_count": null,
   "id": "9ff84e8a-4d25-49ad-a1f0-e17d30b5e0f8",
   "metadata": {},
   "outputs": [],
   "source": [
    "#Q5. What is the role of ensemble size in bagging? How many models should be included in the ensemble?\n",
    "\n",
    "Ensemble size in bagging affects model diversity and computational cost. Generally, larger ensembles \n",
    "improve performance, but there's no fixed rule."
   ]
  },
  {
   "cell_type": "code",
   "execution_count": null,
   "id": "9b639d55-abb5-4e1d-a9a5-61a4222a3ab5",
   "metadata": {},
   "outputs": [],
   "source": [
    "#Q6. Can you provide an example of a real-world application of bagging in machine learning?\n",
    "\n",
    "One real-world application of bagging is in medical diagnosis, where multiple decision trees are trained on \n",
    "different patient datasets to predict disease outcomes."
   ]
  },
  {
   "cell_type": "code",
   "execution_count": null,
   "id": "8377e5a0-814e-4aea-bb27-0c257aaaeb5f",
   "metadata": {},
   "outputs": [],
   "source": [
    "\n"
   ]
  },
  {
   "cell_type": "code",
   "execution_count": null,
   "id": "e0552aba-01c9-4d10-a2ac-88988e37f40a",
   "metadata": {},
   "outputs": [],
   "source": []
  },
  {
   "cell_type": "code",
   "execution_count": null,
   "id": "dcf9c740-f149-414d-aadc-5c8a6670b286",
   "metadata": {},
   "outputs": [],
   "source": []
  },
  {
   "cell_type": "code",
   "execution_count": null,
   "id": "77f7569d-023e-48fd-a6d9-3a78af236c2e",
   "metadata": {},
   "outputs": [],
   "source": []
  },
  {
   "cell_type": "code",
   "execution_count": null,
   "id": "30f68bae-2a33-4b71-8b20-6da386ed81a1",
   "metadata": {},
   "outputs": [],
   "source": []
  }
 ],
 "metadata": {
  "kernelspec": {
   "display_name": "Python 3 (ipykernel)",
   "language": "python",
   "name": "python3"
  },
  "language_info": {
   "codemirror_mode": {
    "name": "ipython",
    "version": 3
   },
   "file_extension": ".py",
   "mimetype": "text/x-python",
   "name": "python",
   "nbconvert_exporter": "python",
   "pygments_lexer": "ipython3",
   "version": "3.9.13"
  }
 },
 "nbformat": 4,
 "nbformat_minor": 5
}
