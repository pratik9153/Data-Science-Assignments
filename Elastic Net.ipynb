{
 "cells": [
  {
   "cell_type": "code",
   "execution_count": null,
   "id": "4e2c3ddf-9a09-4add-b810-854c804ce598",
   "metadata": {},
   "outputs": [],
   "source": [
    "#Q1. What is Elastic Net Regression and how does it differ from other regression techniques?\n",
    "\n",
    "Elastic Net regression combines both L1(Lasso) and L2(Ridge) to prevent overfitting and handling multicollinearity.\n",
    "\n",
    "on other hand Ridge regression is a linear regression method that adds penalty to large coefficients to prevent \n",
    "overfitting \n",
    "\n",
    "Lasso Regression is linear regression method that add absolute penalty and shrinking the less importand feature \n",
    "coefficents to zero."
   ]
  },
  {
   "cell_type": "code",
   "execution_count": null,
   "id": "b606b1b1-9dc1-47a1-822f-70443d0d3880",
   "metadata": {},
   "outputs": [],
   "source": [
    "#Q2. How do you choose the optimal values of the regularization parameters for Elastic Net Regression?\n",
    "Optimal regularization parameters for Elastic Net Regression are often chosen using techniques like cross-validation \n",
    "to minimize overfitting."
   ]
  },
  {
   "cell_type": "code",
   "execution_count": null,
   "id": "01a6e38e-8e9c-4ed7-9b6c-5b62081cdd12",
   "metadata": {},
   "outputs": [],
   "source": [
    "#Q3. What are the advantages and disadvantages of Elastic Net Regression?\n",
    "Advantages: Handles multicollinearity, prevents overfitting, maintains variable selection. Disadvantages: Requires \n",
    "tuning parameters, computationally expensive, less interpretable coefficients compared to simpler models."
   ]
  },
  {
   "cell_type": "code",
   "execution_count": null,
   "id": "4c7c1e31-2df9-4978-980a-4fe6f3012c17",
   "metadata": {},
   "outputs": [],
   "source": [
    "#Q4. What are some common use cases for Elastic Net Regression?\n",
    "Common use cases include predicting house prices, analyzing healthcare data, financial forecasting, and \n",
    "identifying influential factors in complex datasets."
   ]
  },
  {
   "cell_type": "code",
   "execution_count": null,
   "id": "34ab8684-9aa6-40fe-b1c5-b008080a37e9",
   "metadata": {},
   "outputs": [],
   "source": [
    "#Q5. How do you interpret the coefficients in Elastic Net Regression?\n",
    "Interpreting coefficients involves understanding their magnitude and sign: larger coefficients indicate stronger \n",
    "influence, positive/negative sign indicates positive/negative relationship with the dependent variable, respectively."
   ]
  },
  {
   "cell_type": "code",
   "execution_count": null,
   "id": "8555a9c3-be08-4e81-a03c-33c112bd4062",
   "metadata": {},
   "outputs": [],
   "source": [
    "#Q6. How do you handle missing values when using Elastic Net Regression?\n",
    "Missing values can be handled by imputation techniques like mean, median, or mode imputation, or using algorithms \n",
    "that support missing data directly.\n"
   ]
  },
  {
   "cell_type": "code",
   "execution_count": null,
   "id": "2f810c33-e3cc-46d9-8440-32054833e66f",
   "metadata": {},
   "outputs": [],
   "source": [
    "#Q7. How do you use Elastic Net Regression for feature selection?\n",
    "Elastic Net Regression's penalty term encourages sparse coefficients, effectively performing feature selection \n",
    "by shrinking coefficients of less important features towards zero while retaining important ones."
   ]
  },
  {
   "cell_type": "code",
   "execution_count": null,
   "id": "edb5a301-76d9-4ffc-88ab-628ad7c190d1",
   "metadata": {},
   "outputs": [],
   "source": [
    "#Q9. What is the purpose of pickling a model in machine learning?\n",
    "To pickle: pickle.dump(model, open('model.pkl', 'wb')). To unpickle: model = pickle.load(open('model.pkl', 'rb'))."
   ]
  }
 ],
 "metadata": {
  "kernelspec": {
   "display_name": "Python 3 (ipykernel)",
   "language": "python",
   "name": "python3"
  },
  "language_info": {
   "codemirror_mode": {
    "name": "ipython",
    "version": 3
   },
   "file_extension": ".py",
   "mimetype": "text/x-python",
   "name": "python",
   "nbconvert_exporter": "python",
   "pygments_lexer": "ipython3",
   "version": "3.9.13"
  }
 },
 "nbformat": 4,
 "nbformat_minor": 5
}
