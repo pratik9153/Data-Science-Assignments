{
 "cells": [
  {
   "cell_type": "code",
   "execution_count": 45,
   "id": "6ba13bb3-62bb-4763-aa55-0c3906650310",
   "metadata": {},
   "outputs": [],
   "source": [
    "#1.Which keyword is used to create a function? Create a function to return a list of odd numbers in the\n",
    "#range of 1 to 25.\n",
    "\n",
    "#solution \n",
    "\n",
    "#def keyword is used to create a function in python.\n",
    "l = [1,2,3,4,5,6,7,8,9,10,11,12,13,14,15,16,17,18,19,20,21,22,23,24,25]\n",
    "def odd(n):\n",
    "    l1=[]\n",
    "    for i in l:\n",
    "        if i%2 != 0:\n",
    "            l1.append(i)\n",
    "    return l1"
   ]
  },
  {
   "cell_type": "code",
   "execution_count": 46,
   "id": "5d8981dd-bbfb-4396-8c85-dd37ef5a52b0",
   "metadata": {},
   "outputs": [
    {
     "data": {
      "text/plain": [
       "[1, 3, 5, 7, 9, 11, 13, 15, 17, 19, 21, 23, 25]"
      ]
     },
     "execution_count": 46,
     "metadata": {},
     "output_type": "execute_result"
    }
   ],
   "source": [
    "odd(25)"
   ]
  },
  {
   "cell_type": "code",
   "execution_count": 41,
   "id": "f9c5f547-38c9-43fa-a50e-c407f11407e0",
   "metadata": {},
   "outputs": [],
   "source": [
    "#2. Why *args and **kwargs is used in some functions? Create a function each for *args and **kwargs\n",
    "#to demonstrate their use.\n",
    "\n",
    "#solution\n",
    "\n",
    "# *args are use in pyhton to pass multiple number of argument .\n",
    "# **kwargs is used in pyhton to pass multiple number of dictionary values.\n",
    "\n",
    "def xyz(*args):\n",
    "    return args"
   ]
  },
  {
   "cell_type": "code",
   "execution_count": 17,
   "id": "72117333-709b-4f9f-b009-34038a9def7b",
   "metadata": {},
   "outputs": [
    {
     "data": {
      "text/plain": [
       "(1, 2, 3, 4, 5, 6)"
      ]
     },
     "execution_count": 17,
     "metadata": {},
     "output_type": "execute_result"
    }
   ],
   "source": [
    "xyz(1,2,3,4,5,6)"
   ]
  },
  {
   "cell_type": "code",
   "execution_count": 19,
   "id": "3eb4bbbf-9738-46be-a10a-9c6088dc4026",
   "metadata": {},
   "outputs": [],
   "source": [
    "def abc(**kwargs):\n",
    "    return kwargs"
   ]
  },
  {
   "cell_type": "code",
   "execution_count": 24,
   "id": "9c5eedd1-1260-4206-9a07-cc7b500d00e6",
   "metadata": {},
   "outputs": [
    {
     "data": {
      "text/plain": [
       "{'a': 5, 'b': 6}"
      ]
     },
     "execution_count": 24,
     "metadata": {},
     "output_type": "execute_result"
    }
   ],
   "source": [
    "abc(a=5,b=6)"
   ]
  },
  {
   "cell_type": "code",
   "execution_count": 25,
   "id": "4a2db8a0-e0f6-480e-ba67-f700f8fa47bf",
   "metadata": {},
   "outputs": [],
   "source": [
    "#3.What is an iterator in python? Name the method used to initialise the iterator object and the method\n",
    "#used for iteration. Use these methods to print the first five elements of the given list [2, 4, 6, 8, 10, 12, 14,\n",
    "#16, 18, 20].\n",
    "\n",
    "#soluton\n",
    "#iterator are used in pyhton to extract next value. next() and iter() are the two method.\n",
    "\n",
    "l=[2,4,6,8,10,12,14,16,18,20]\n",
    "l1=iter(l)\n",
    "\n",
    "    "
   ]
  },
  {
   "cell_type": "code",
   "execution_count": 26,
   "id": "97a84ba5-f49e-4aef-9e6b-9b74c5fc7403",
   "metadata": {},
   "outputs": [
    {
     "data": {
      "text/plain": [
       "2"
      ]
     },
     "execution_count": 26,
     "metadata": {},
     "output_type": "execute_result"
    }
   ],
   "source": [
    "next(l1)"
   ]
  },
  {
   "cell_type": "code",
   "execution_count": 27,
   "id": "cbfee012-18de-4cd2-86bf-7ed36ae09cac",
   "metadata": {},
   "outputs": [
    {
     "data": {
      "text/plain": [
       "4"
      ]
     },
     "execution_count": 27,
     "metadata": {},
     "output_type": "execute_result"
    }
   ],
   "source": [
    "next(l1)"
   ]
  },
  {
   "cell_type": "code",
   "execution_count": 28,
   "id": "e797f24f-550d-4386-b5fb-6d62f88ad43c",
   "metadata": {},
   "outputs": [
    {
     "data": {
      "text/plain": [
       "6"
      ]
     },
     "execution_count": 28,
     "metadata": {},
     "output_type": "execute_result"
    }
   ],
   "source": [
    "next(l1)\n"
   ]
  },
  {
   "cell_type": "code",
   "execution_count": 29,
   "id": "9dff66b4-4fe3-4f11-a2cf-7005d2fbc45c",
   "metadata": {},
   "outputs": [
    {
     "data": {
      "text/plain": [
       "8"
      ]
     },
     "execution_count": 29,
     "metadata": {},
     "output_type": "execute_result"
    }
   ],
   "source": [
    "next(l1)"
   ]
  },
  {
   "cell_type": "code",
   "execution_count": 31,
   "id": "d8fb1dc6-8080-4be6-9f59-3d22f37bd11a",
   "metadata": {},
   "outputs": [
    {
     "data": {
      "text/plain": [
       "10"
      ]
     },
     "execution_count": 31,
     "metadata": {},
     "output_type": "execute_result"
    }
   ],
   "source": [
    "next(l1)"
   ]
  },
  {
   "cell_type": "code",
   "execution_count": 33,
   "id": "14c7edbd-6bf6-40c6-ad2c-41d6a48f3285",
   "metadata": {},
   "outputs": [],
   "source": [
    "#4.What is a generator function in python? Why yield keyword is used? Give an example of a generator\n",
    "#function.\n",
    "\n",
    "#solution\n",
    "\n",
    "#generator function in python is used efficiently manage the memory.It generate the value as per condition,it does not hold value.\n",
    "\n",
    "#yield keyword used to declare generator function. It hold the current value of variable used in programm.\n",
    "\n",
    "def test_fib(n):\n",
    "    a,b=0,1\n",
    "    for i in range(n):\n",
    "        yield a\n",
    "        a,b=b,a+b\n",
    "    "
   ]
  },
  {
   "cell_type": "code",
   "execution_count": 35,
   "id": "099da540-b1ec-43d2-b71b-a039a3d934d7",
   "metadata": {},
   "outputs": [
    {
     "name": "stdout",
     "output_type": "stream",
     "text": [
      "0\n",
      "1\n",
      "1\n",
      "2\n",
      "3\n"
     ]
    }
   ],
   "source": [
    "for i in test_fib(5):\n",
    "    print(i)"
   ]
  },
  {
   "cell_type": "code",
   "execution_count": 60,
   "id": "37635e1b-1b7c-4a7b-88e7-0a469bc21586",
   "metadata": {},
   "outputs": [
    {
     "name": "stdout",
     "output_type": "stream",
     "text": [
      "2\n",
      "3\n",
      "5\n",
      "7\n",
      "11\n",
      "13\n",
      "17\n",
      "19\n",
      "23\n",
      "29\n",
      "31\n",
      "37\n",
      "41\n",
      "43\n",
      "47\n",
      "53\n",
      "59\n",
      "61\n",
      "67\n",
      "71\n"
     ]
    }
   ],
   "source": [
    "#5.Create a generator function for prime numbers less than 1000. Use the next() method to print the\n",
    "#first 20 prime numbers.\n",
    "\n",
    "#solution\n",
    "\n",
    "def primes():\n",
    "     yield 2\n",
    "    primes_list = [2]\n",
    "    for i in range(3, 1000):\n",
    "        is_prime = True\n",
    "        for prime in primes_list:\n",
    "            if i % prime == 0:\n",
    "                is_prime = False\n",
    "                break\n",
    "        if is_prime:\n",
    "            primes_list.append(i)\n",
    "            yield i\n",
    "\n",
    "prime_gen = primes()\n",
    "for i in range(20):\n",
    "    print(next(prime_gen))\n",
    "    "
   ]
  },
  {
   "cell_type": "code",
   "execution_count": 61,
   "id": "c1f4a326-5e70-47b3-8062-982663228547",
   "metadata": {},
   "outputs": [],
   "source": [
    "#6.Write a python program to print the first 10 Fibonacci numbers using a while loop.\n",
    "\n",
    "#solution\n",
    "\n",
    "def test_fib(n):\n",
    "    a,b=0,1\n",
    "    i=0\n",
    "    while i < n:\n",
    "        print(a)\n",
    "        a,b=b,a+b\n",
    "        i+=1\n",
    "        \n",
    "        "
   ]
  },
  {
   "cell_type": "code",
   "execution_count": 62,
   "id": "41f6e92b-8f5c-47b9-9b38-ee5900728574",
   "metadata": {},
   "outputs": [
    {
     "name": "stdout",
     "output_type": "stream",
     "text": [
      "0\n",
      "1\n",
      "1\n",
      "2\n",
      "3\n",
      "5\n",
      "8\n",
      "13\n",
      "21\n",
      "34\n"
     ]
    }
   ],
   "source": [
    "test_fib(10)"
   ]
  },
  {
   "cell_type": "code",
   "execution_count": 63,
   "id": "7dd13ea7-ed5e-46af-8b44-38e3d93b3b31",
   "metadata": {},
   "outputs": [
    {
     "data": {
      "text/plain": [
       "['p', 'w', 's', 'k', 'i', 'l', 'l', 's']"
      ]
     },
     "execution_count": 63,
     "metadata": {},
     "output_type": "execute_result"
    }
   ],
   "source": [
    "#7.Write a List Comprehension to iterate through the given string: ‘pwskills’.\n",
    "#Expected output: ['p', 'w', 's', 'k', 'i', 'l', 'l', 's']\n",
    "\n",
    "#solution\n",
    "\n",
    "string = \"pwskills\"\n",
    "list(string)"
   ]
  },
  {
   "cell_type": "code",
   "execution_count": 79,
   "id": "caa9735f-be23-42dc-8392-e91885bf3bbe",
   "metadata": {},
   "outputs": [
    {
     "name": "stdin",
     "output_type": "stream",
     "text": [
      "Enter any number:  121\n"
     ]
    },
    {
     "name": "stdout",
     "output_type": "stream",
     "text": [
      "num is a palindrome\n"
     ]
    }
   ],
   "source": [
    "#8.Write a python program to check whether a given number is Palindrome or not using a while loop.\n",
    "\n",
    "\n",
    "def is_palindrome(number):\n",
    "    original_number = number\n",
    "    reversed_number = 0\n",
    "\n",
    "    while number > 0:\n",
    "        last_digit = number % 10\n",
    "        reversed_number = reversed_number * 10 + last_digit  \n",
    "        number = number // 10  \n",
    "\n",
    "    if original_number == reversed_number:\n",
    "        return True\n",
    "    else:\n",
    "        return False\n",
    "\n",
    "num = int(input(\"Enter any number: \"))\n",
    "\n",
    "if is_palindrome(num):\n",
    "    print(\"num is a palindrome\")\n",
    "else:\n",
    "    print(\"num is not a palindrome\")\n",
    "\n",
    "        \n"
   ]
  },
  {
   "cell_type": "code",
   "execution_count": null,
   "id": "6194027b-e340-4c59-bf64-3607be9747b7",
   "metadata": {},
   "outputs": [],
   "source": [
    "#9.\n",
    "#solutio\n",
    "odd_numbers = [x for x in range(1, 101) if x % 2 != 0]\n",
    "\n",
    "for number in odd_numbers:\n",
    "    print(number)\n"
   ]
  }
 ],
 "metadata": {
  "kernelspec": {
   "display_name": "Python 3 (ipykernel)",
   "language": "python",
   "name": "python3"
  },
  "language_info": {
   "codemirror_mode": {
    "name": "ipython",
    "version": 3
   },
   "file_extension": ".py",
   "mimetype": "text/x-python",
   "name": "python",
   "nbconvert_exporter": "python",
   "pygments_lexer": "ipython3",
   "version": "3.9.13"
  }
 },
 "nbformat": 4,
 "nbformat_minor": 5
}
