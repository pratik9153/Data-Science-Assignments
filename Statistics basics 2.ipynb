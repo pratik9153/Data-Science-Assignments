{
 "cells": [
  {
   "cell_type": "code",
   "execution_count": null,
   "id": "0a3a3748-16ed-4344-859f-9dabe0a2e4ec",
   "metadata": {},
   "outputs": [],
   "source": [
    "#Q1. What are the three measures of central tendency?\n",
    "\n",
    "Mean,Median,Mode"
   ]
  },
  {
   "cell_type": "code",
   "execution_count": null,
   "id": "50c00d11-1cb9-4178-8582-f04f87470b85",
   "metadata": {},
   "outputs": [],
   "source": [
    "#Q2. What is the difference between the mean, median, and mode? How are they used to measure the\n",
    "#central tendency of a dataset?\n",
    "\n",
    "Mean is used find the average of data.\n",
    "Median is used to find central tendency when outlier are present.\n",
    "Mode means frequency maximum.\n",
    "\n",
    "df.mode()\n",
    "df.median()\n",
    "df.mode()"
   ]
  },
  {
   "cell_type": "code",
   "execution_count": 1,
   "id": "509a5d07-28de-49e1-8b54-fbcc7bc0a32d",
   "metadata": {},
   "outputs": [],
   "source": [
    "#Q3. Measure the three measures of central tendency for the given height data: \n",
    "data = [178,177,176,177,178.2,178,175,179,180,175,178.9,176.2,177,172.5,178,176.5]"
   ]
  },
  {
   "cell_type": "code",
   "execution_count": 5,
   "id": "0e03f0a5-0a43-4527-8a3d-7d7cdcdad51a",
   "metadata": {},
   "outputs": [],
   "source": [
    "import numpy as np"
   ]
  },
  {
   "cell_type": "code",
   "execution_count": 6,
   "id": "51090190-7fe0-4b81-9dfc-041e82bd4938",
   "metadata": {},
   "outputs": [
    {
     "data": {
      "text/plain": [
       "177.01875"
      ]
     },
     "execution_count": 6,
     "metadata": {},
     "output_type": "execute_result"
    }
   ],
   "source": [
    "np.mean(data)"
   ]
  },
  {
   "cell_type": "code",
   "execution_count": 7,
   "id": "f033d95a-3c34-4d8a-8851-00218b346929",
   "metadata": {},
   "outputs": [
    {
     "data": {
      "text/plain": [
       "177.0"
      ]
     },
     "execution_count": 7,
     "metadata": {},
     "output_type": "execute_result"
    }
   ],
   "source": [
    "np.median(data)"
   ]
  },
  {
   "cell_type": "code",
   "execution_count": 9,
   "id": "f92ae2a7-ad6e-4487-911c-363fd287d553",
   "metadata": {},
   "outputs": [],
   "source": [
    "from scipy import stats"
   ]
  },
  {
   "cell_type": "code",
   "execution_count": 10,
   "id": "0246d54c-407a-4677-9dd3-840b54d690da",
   "metadata": {},
   "outputs": [
    {
     "name": "stderr",
     "output_type": "stream",
     "text": [
      "C:\\Users\\prati\\AppData\\Local\\Temp\\ipykernel_20484\\3267261142.py:1: FutureWarning: Unlike other reduction functions (e.g. `skew`, `kurtosis`), the default behavior of `mode` typically preserves the axis it acts along. In SciPy 1.11.0, this behavior will change: the default value of `keepdims` will become False, the `axis` over which the statistic is taken will be eliminated, and the value None will no longer be accepted. Set `keepdims` to True or False to avoid this warning.\n",
      "  stats.mode(data)\n"
     ]
    },
    {
     "data": {
      "text/plain": [
       "ModeResult(mode=array([177.]), count=array([3]))"
      ]
     },
     "execution_count": 10,
     "metadata": {},
     "output_type": "execute_result"
    }
   ],
   "source": [
    "stats.mode(data)"
   ]
  },
  {
   "cell_type": "code",
   "execution_count": 11,
   "id": "03f5b146-2498-483f-900f-3131fed0840b",
   "metadata": {},
   "outputs": [],
   "source": [
    "#Q4. Find the standard deviation for the given data:\n",
    "data1 = [178,177,176,177,178.2,178,175,179,180,175,178.9,176.2,177,172.5,178,176.5]"
   ]
  },
  {
   "cell_type": "code",
   "execution_count": 12,
   "id": "209b2385-1b22-43b9-b231-93f4cd080257",
   "metadata": {},
   "outputs": [
    {
     "data": {
      "text/plain": [
       "1.7885814036548633"
      ]
     },
     "execution_count": 12,
     "metadata": {},
     "output_type": "execute_result"
    }
   ],
   "source": [
    "np.std(data)"
   ]
  },
  {
   "cell_type": "code",
   "execution_count": null,
   "id": "59b229a4-932c-4375-a82b-babff52dcdc4",
   "metadata": {},
   "outputs": [],
   "source": [
    "#Q5. How are measures of dispersion such as range, variance, and standard deviation used to describe\n",
    "#the spread of a dataset? Provide an example.\n",
    "\n",
    "Range is the simplest measure of dispersion and is calculated as the difference between the maximum \n",
    "and minimum values in a dataset.\n",
    "\n",
    "Dataset A: [10, 15, 20, 25, 30] \n",
    "range (30-10=20) \n",
    "\n",
    "Variance measures the average squared deviation of each data point from the mean of the dataset.\n",
    "\n",
    "dataset C: [5, 10, 15, 20, 25]. The mean is (5+10+15+20+25)/5 = 15. The squared deviations from the mean are [(5-15)^2, (10-15)^2, (15-15)^2,\n",
    "and   (20-15)^2, (25-15)^2], the variance is the average of these squared deviations.\n",
    "\n",
    "Standard deviation is the square root of the variance and provides a more interpretable measure of dispersion.\n",
    "\n"
   ]
  },
  {
   "cell_type": "code",
   "execution_count": null,
   "id": "7db42286-2f93-4cdf-8052-86c3ce981a24",
   "metadata": {},
   "outputs": [],
   "source": [
    "#Q6. What is a Venn diagram?\n",
    "\n",
    "A Venn diagram is a graphical representation that illustrates the relationships and commonalities between different sets or groups. \n",
    "It consists of overlapping circles, each representing a set, \n",
    "with the overlapping regions indicating the elements that are common to those sets\n"
   ]
  },
  {
   "cell_type": "code",
   "execution_count": 6,
   "id": "c90d64fe-f28b-4277-9eea-8bd0ae916c38",
   "metadata": {},
   "outputs": [],
   "source": [
    "#Q7. For the two given sets A = (2,3,4,5,6,7) & B = (0,2,6,8,10). Find:\n",
    "#(i) A B\n",
    "#(ii) A ⋃ B\n",
    "\n",
    "A = (2,3,4,5,6,7)\n",
    "B = (0,2,6,8,10)\n",
    "\n",
    "A ∩ B: {2, 6}\n",
    "A ∪ B: {0, 2, 3, 4, 5, 6, 7, 8, 10}"
   ]
  },
  {
   "cell_type": "code",
   "execution_count": null,
   "id": "cfbc98db-54cb-4326-b84b-7095af3577f7",
   "metadata": {},
   "outputs": [],
   "source": [
    "#Q8. What do you understand about skewness in data?\n",
    "\n",
    "skewness is a measure of direction in wgich values distributed and measure the degree of symmtry and asymmtry of series.\n",
    "\n",
    "no skewess : mean = median = mode\n",
    "right/positive skewess : mean > median > mode\n",
    "left/negative skewness : mean < median < mode"
   ]
  },
  {
   "cell_type": "code",
   "execution_count": null,
   "id": "92e997c9-3c0b-4f50-8468-837c1481c39a",
   "metadata": {},
   "outputs": [],
   "source": [
    "#Q9. If a data is right skewed then what will be the position of median with respect to mean?\n",
    "\n",
    "mean > median > mode"
   ]
  },
  {
   "cell_type": "code",
   "execution_count": null,
   "id": "0cb2ebaa-7ea0-4992-a2b7-dba51fc3e5fb",
   "metadata": {},
   "outputs": [],
   "source": [
    "#Q10. Explain the difference between covariance and correlation. How are these measures used in\n",
    "#statistical analysis?\n",
    "\n",
    "covariance is a relationship between x and y .\n",
    "it can be either negative or positive.\n",
    "\n",
    "correlation states that how x and y are related to each other.\n",
    "result is always between [-1 to 1]\n",
    "it can be either positive and negative\n"
   ]
  },
  {
   "cell_type": "code",
   "execution_count": 14,
   "id": "62f53f21-5f13-44a4-9fd4-2ddb1d62eda2",
   "metadata": {},
   "outputs": [
    {
     "ename": "NameError",
     "evalue": "name 'total_bill' is not defined",
     "output_type": "error",
     "traceback": [
      "\u001b[1;31m---------------------------------------------------------------------------\u001b[0m",
      "\u001b[1;31mNameError\u001b[0m                                 Traceback (most recent call last)",
      "\u001b[1;32m~\\AppData\\Local\\Temp\\ipykernel_8636\\2759932034.py\u001b[0m in \u001b[0;36m<module>\u001b[1;34m\u001b[0m\n\u001b[0;32m      7\u001b[0m \u001b[1;32mimport\u001b[0m \u001b[0mseaborn\u001b[0m \u001b[1;32mas\u001b[0m \u001b[0msns\u001b[0m\u001b[1;33m\u001b[0m\u001b[1;33m\u001b[0m\u001b[0m\n\u001b[0;32m      8\u001b[0m \u001b[0mdf\u001b[0m \u001b[1;33m=\u001b[0m \u001b[0msns\u001b[0m\u001b[1;33m.\u001b[0m\u001b[0mload_dataset\u001b[0m\u001b[1;33m(\u001b[0m\u001b[1;34m\"tips\"\u001b[0m\u001b[1;33m)\u001b[0m\u001b[1;33m\u001b[0m\u001b[1;33m\u001b[0m\u001b[0m\n\u001b[1;32m----> 9\u001b[1;33m \u001b[0mdf\u001b[0m\u001b[1;33m.\u001b[0m\u001b[0mmean\u001b[0m\u001b[1;33m(\u001b[0m\u001b[0mtotal_bill\u001b[0m\u001b[1;33m)\u001b[0m\u001b[1;33m\u001b[0m\u001b[1;33m\u001b[0m\u001b[0m\n\u001b[0m",
      "\u001b[1;31mNameError\u001b[0m: name 'total_bill' is not defined"
     ]
    }
   ],
   "source": [
    "#Q11. What is the formula for calculating the sample mean? Provide an example calculation for a\n",
    "#dataset.\n",
    "\n",
    "#Xˉ = xi/n\n",
    "\n",
    "import numpy as np\n",
    "import seaborn as sns\n",
    "df = sns.load_dataset(\"tips\")\n",
    "df.mean(total_bill)"
   ]
  },
  {
   "cell_type": "code",
   "execution_count": null,
   "id": "eb903a0e-61f2-4d7d-85fd-6fded3ad2262",
   "metadata": {},
   "outputs": [],
   "source": [
    "#Q12. For a normal distribution data what is the relationship between its measure of central tendency?\n",
    "\n",
    "In normal distribution the relationship between its measure of central tendenchy is mean = median = mode"
   ]
  },
  {
   "cell_type": "code",
   "execution_count": null,
   "id": "41ce663b-e9b1-4c48-ba07-e23699763044",
   "metadata": {},
   "outputs": [],
   "source": [
    "#Q13. How is covariance different from correlation?\n",
    "\n",
    "covariance is a relationship between x and y.\n",
    "\n",
    "on other hand correlation states that how x and y related to each other"
   ]
  },
  {
   "cell_type": "code",
   "execution_count": null,
   "id": "4b7dd368-3c06-487f-ae46-2e76317cbaf4",
   "metadata": {},
   "outputs": [],
   "source": [
    "#Q14. How do outliers affect measures of central tendency and dispersion? Provide an example.\n",
    "\n",
    "outliers can distort the perception of both central tendency and dispersion. It is important to be\n",
    "aware of the presence of outliers and, in some cases, consider alternative measures that are less influenced by \n",
    "extreme values."
   ]
  }
 ],
 "metadata": {
  "kernelspec": {
   "display_name": "Python 3 (ipykernel)",
   "language": "python",
   "name": "python3"
  },
  "language_info": {
   "codemirror_mode": {
    "name": "ipython",
    "version": 3
   },
   "file_extension": ".py",
   "mimetype": "text/x-python",
   "name": "python",
   "nbconvert_exporter": "python",
   "pygments_lexer": "ipython3",
   "version": "3.9.13"
  }
 },
 "nbformat": 4,
 "nbformat_minor": 5
}
