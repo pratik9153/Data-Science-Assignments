{
 "cells": [
  {
   "cell_type": "code",
   "execution_count": null,
   "id": "a019ee5b-ba34-4379-9469-e278bf1537ba",
   "metadata": {},
   "outputs": [],
   "source": [
    "#Q1. What is Random Forest Regressor?\n",
    "\n",
    "Random Forest Regressor is an ensemble learning method that builds multiple decision trees and averages their \n",
    "predictions for regression tasks."
   ]
  },
  {
   "cell_type": "code",
   "execution_count": null,
   "id": "b7ba0317-c125-4c06-b740-cfc416d4ab46",
   "metadata": {},
   "outputs": [],
   "source": [
    "#Q2. How does Random Forest Regressor reduce the risk of overfitting?\n",
    "\n",
    "Random Forest Regressor reduces overfitting by training multiple decision trees on random subsets \n",
    "of data and averaging their predictions."
   ]
  },
  {
   "cell_type": "code",
   "execution_count": null,
   "id": "5fbde1b3-cd9e-4962-93e9-33ad89f71fb6",
   "metadata": {},
   "outputs": [],
   "source": [
    "#Q3. How does Random Forest Regressor aggregate the predictions of multiple decision trees?\n",
    "\n",
    "Random Forest Regressor averages the predictions of multiple decision trees to produce a final \n",
    "prediction for regression tasks."
   ]
  },
  {
   "cell_type": "code",
   "execution_count": null,
   "id": "a5230034-cd69-48e7-b721-518989530c95",
   "metadata": {},
   "outputs": [],
   "source": [
    "#Q4. What are the hyperparameters of Random Forest Regressor?\n",
    "\n",
    "Hyperparameters include the number of trees, max depth, minimum samples per leaf, and feature subsampling rate."
   ]
  },
  {
   "cell_type": "code",
   "execution_count": null,
   "id": "6abb4ce2-260b-4d59-929f-298f375754d9",
   "metadata": {},
   "outputs": [],
   "source": [
    "#Q5. What is the difference between Random Forest Regressor and Decision Tree Regressor?\n",
    "\n",
    "Random Forest Regressor builds multiple decision trees on random subsets of data and averages their predictions, \n",
    "reducing overfitting and improving generalization compared to a single decision tree in Decision Tree Regressor."
   ]
  },
  {
   "cell_type": "code",
   "execution_count": null,
   "id": "6a545b8f-3e94-41a4-bc2c-daca91192d92",
   "metadata": {},
   "outputs": [],
   "source": [
    "#Q6. What are the advantages and disadvantages of Random Forest Regressor?\n",
    "\n",
    "Advantages:\n",
    "\n",
    "    Reduced overfitting.\n",
    "    Robust to outliers and noise.\n",
    "\n",
    "Disadvantages:\n",
    "\n",
    "    Less interpretable.\n",
    "    Increased computational complexity and training time."
   ]
  },
  {
   "cell_type": "code",
   "execution_count": null,
   "id": "1e37beb9-380c-42bf-80e8-39fc3805c9fe",
   "metadata": {},
   "outputs": [],
   "source": [
    "#Q7. What is the output of Random Forest Regressor?\n",
    "\n",
    "The output of Random Forest Regressor is a predicted continuous value for regression tasks, representing the \n",
    "target variable's estimation."
   ]
  },
  {
   "cell_type": "code",
   "execution_count": null,
   "id": "a9469dc3-e067-41ba-ad07-00fd72592ac0",
   "metadata": {},
   "outputs": [],
   "source": [
    "#Q8. Can Random Forest Regressor be used for classification tasks?\n",
    "\n",
    "Yes, Random Forest Regressor can be adapted for classification tasks by using it as a base learner\n",
    " in Random Forest Classifier."
   ]
  },
  {
   "cell_type": "code",
   "execution_count": null,
   "id": "67b1b123-ca7c-482a-a58b-b7b12102f974",
   "metadata": {},
   "outputs": [],
   "source": []
  },
  {
   "cell_type": "code",
   "execution_count": null,
   "id": "c84d48aa-4daf-4fe2-ad5f-9a3f77318a24",
   "metadata": {},
   "outputs": [],
   "source": []
  },
  {
   "cell_type": "code",
   "execution_count": null,
   "id": "8e236982-ebaa-49b8-8ffc-7d3fa3ffb6ef",
   "metadata": {},
   "outputs": [],
   "source": []
  },
  {
   "cell_type": "code",
   "execution_count": null,
   "id": "3d71ccad-3c6e-4564-b367-5cd981f3489b",
   "metadata": {},
   "outputs": [],
   "source": []
  }
 ],
 "metadata": {
  "kernelspec": {
   "display_name": "Python 3 (ipykernel)",
   "language": "python",
   "name": "python3"
  },
  "language_info": {
   "codemirror_mode": {
    "name": "ipython",
    "version": 3
   },
   "file_extension": ".py",
   "mimetype": "text/x-python",
   "name": "python",
   "nbconvert_exporter": "python",
   "pygments_lexer": "ipython3",
   "version": "3.9.13"
  }
 },
 "nbformat": 4,
 "nbformat_minor": 5
}
