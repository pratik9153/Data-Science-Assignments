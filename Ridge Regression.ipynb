{
 "cells": [
  {
   "cell_type": "code",
   "execution_count": null,
   "id": "f7848e82-19ab-4d13-a272-f99c5914ed8e",
   "metadata": {},
   "outputs": [],
   "source": [
    "#Q1. What is Ridge Regression, and how does it differ from ordinary least squares regression?\n",
    "\n",
    "Ridge Regression is linear regression method that add penalty to large coefficients to prevent overfitting .\n",
    "It is used to prevent overfitting .\n",
    "It is L2 Regularization .\n",
    "\n",
    "Least squares regression minimizes the sum of squared differences between observed and predicted values to find \n",
    "the best-fitting line."
   ]
  },
  {
   "cell_type": "code",
   "execution_count": null,
   "id": "195801cd-3f86-4168-85f8-700976446223",
   "metadata": {},
   "outputs": [],
   "source": [
    "#Q2. What are the assumptions of Ridge Regression?\n",
    "\n",
    "    Linearity: Relationship between predictors and response is linear.\n",
    "    Independence: Observations are independent.\n",
    "    Homoscedasticity: Residuals have constant variance.\n",
    "    Normality: Residuals are normally distributed.\n",
    "    No multicollinearity: Predictors are not highly correlated."
   ]
  },
  {
   "cell_type": "code",
   "execution_count": null,
   "id": "775ed95b-5978-4917-a575-22ff2a58ab66",
   "metadata": {},
   "outputs": [],
   "source": [
    "#Q3. How do you select the value of the tuning parameter (lambda) in Ridge Regression?\n",
    "\n",
    "The value of the tuning parameter (lambda) in Ridge Regression is typically selected using techniques such as\n",
    "cross-validation or regularization paths"
   ]
  },
  {
   "cell_type": "code",
   "execution_count": null,
   "id": "b769a6c2-eb38-43f0-8d00-b73531aa309a",
   "metadata": {},
   "outputs": [],
   "source": [
    "#Q4. Can Ridge Regression be used for feature selection? If yes, how?\n",
    "\n",
    "Yes, Ridge Regression can be used for feature selection, but it does not perform explicit variable selection by\n",
    "reducing coefficients to exactly zero like Lasso Regression does. Instead, it shrinks the coefficients towards \n",
    "zero, effectively reducing the impact of less important features, but not entirely eliminating them. \n",
    "Therefore, while Ridge Regression can help in feature reduction, it may not perform as well as Lasso Regression \n",
    "for this specific purpose."
   ]
  },
  {
   "cell_type": "code",
   "execution_count": null,
   "id": "e1457a58-70f3-43d3-8c61-f6939c677c12",
   "metadata": {},
   "outputs": [],
   "source": [
    "#Q5. How does the Ridge Regression model perform in the presence of multicollinearity?\n",
    "\n",
    "\n",
    "Ridge Regression performs well in the presence of multicollinearity by stabilizing coefficient estimates. \n",
    "It mitigates multicollinearity's adverse effects by shrinking coefficients, making them less sensitive to \n",
    "collinearity and improving the model's robustness and generalization performance."
   ]
  },
  {
   "cell_type": "code",
   "execution_count": null,
   "id": "e071e6f9-28b2-41a5-8cfa-038cdea17037",
   "metadata": {},
   "outputs": [],
   "source": [
    "#Q6. Can Ridge Regression handle both categorical and continuous independent variables?\n",
    "\n",
    "Yes, Ridge Regression can handle both categorical and continuous independent variables. Categorical \n",
    "variables need to be appropriately encoded before being used in Ridge Regression \n",
    "to ensure compatibility with the model.\n"
   ]
  },
  {
   "cell_type": "code",
   "execution_count": null,
   "id": "ce653c6d-73cf-4c81-9434-ed0ce05ac41c",
   "metadata": {},
   "outputs": [],
   "source": [
    "#Q7. How do you interpret the coefficients of Ridge Regression?\n",
    "\n",
    "Interpreting coefficients in Ridge Regression is similar to ordinary linear regression. \n",
    "However, coefficients are shrunk towards zero, so their magnitude doesn't directly reflect the impact \n",
    "on the dependent variable. Positive coefficients indicate positive relationships, negative coefficients \n",
    "indicate negative relationships."
   ]
  },
  {
   "cell_type": "code",
   "execution_count": null,
   "id": "5e5e437c-b39d-4c57-b395-2211118b3ce6",
   "metadata": {},
   "outputs": [],
   "source": [
    "#Q8. Can Ridge Regression be used for time-series data analysis? If yes, how?\n",
    "\n",
    "Yes, Ridge Regression can be used for time-series data analysis. It can handle time-dependent features by \n",
    "transforming the time series into a regression problem with appropriate features."
   ]
  }
 ],
 "metadata": {
  "kernelspec": {
   "display_name": "Python 3 (ipykernel)",
   "language": "python",
   "name": "python3"
  },
  "language_info": {
   "codemirror_mode": {
    "name": "ipython",
    "version": 3
   },
   "file_extension": ".py",
   "mimetype": "text/x-python",
   "name": "python",
   "nbconvert_exporter": "python",
   "pygments_lexer": "ipython3",
   "version": "3.9.13"
  }
 },
 "nbformat": 4,
 "nbformat_minor": 5
}
