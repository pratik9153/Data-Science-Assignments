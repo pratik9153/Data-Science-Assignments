{
 "cells": [
  {
   "cell_type": "code",
   "execution_count": null,
   "id": "d1437a45-1394-4c91-b319-b85571818ce6",
   "metadata": {},
   "outputs": [],
   "source": [
    "#_k Explain the importance of weight initialization in artificial neural networks. WhE is it necessarE to initialize\n",
    "#the weights carefullED\n",
    "\n",
    "Weight initialization affects model convergence and performance by influencing the starting point of optimization; \n",
    "careful initialization prevents vanishing or exploding gradients."
   ]
  },
  {
   "cell_type": "code",
   "execution_count": null,
   "id": "bf11c59b-5f5b-42c0-ba35-3ccf95f4121b",
   "metadata": {},
   "outputs": [],
   "source": [
    "#Bk Describe the challenges associated with improper weight initialization. How do these issues affect model\n",
    "#training and convergenceD\n",
    "\n",
    "Improper weight initialization can lead to vanishing or exploding gradients, causing slow convergence or\n",
    "divergence during training, hindering model learning and impacting performance."
   ]
  },
  {
   "cell_type": "code",
   "execution_count": null,
   "id": "f6b228fd-0618-401b-bb48-b3197be379fe",
   "metadata": {},
   "outputs": [],
   "source": [
    "#>k Discuss the concept of variance and how it relates to weight initialization. WhE is it crucial to consider the\n",
    "#variance of weights during initializationC"
   ]
  }
 ],
 "metadata": {
  "kernelspec": {
   "display_name": "Python 3 (ipykernel)",
   "language": "python",
   "name": "python3"
  },
  "language_info": {
   "codemirror_mode": {
    "name": "ipython",
    "version": 3
   },
   "file_extension": ".py",
   "mimetype": "text/x-python",
   "name": "python",
   "nbconvert_exporter": "python",
   "pygments_lexer": "ipython3",
   "version": "3.9.13"
  }
 },
 "nbformat": 4,
 "nbformat_minor": 5
}
