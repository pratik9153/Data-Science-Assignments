{
 "cells": [
  {
   "cell_type": "code",
   "execution_count": null,
   "id": "41d66399-58ce-4aa2-992b-cdb208b64dbf",
   "metadata": {},
   "outputs": [],
   "source": [
    "#A company conducted a survey of its employees and found that 70% of the employees use the\n",
    "#company's health insurance plan, while 40% of the employees who use the plan are smokers. What is the\n",
    "#probability that an employee is a smoker given that he/she uses the health insurance plan?\n",
    "\n",
    "P(A∣B) is the probability of using the health insurance plan given that the person is a smoker.\n",
    "P(B)P(B) is the probability of being a smoker.\n",
    "P(A)P(A) is the probability of using the health insurance plan.\n",
    "\n",
    "\n",
    "P(B∣A)=0.700.40×0.70​\n",
    "\n",
    "P(B∣A)=0.40P(B∣A)=0.40\n",
    "\n",
    "So, the probability that an employee is a smoker given that they use the health insurance plan is 0.40, or 40%."
   ]
  },
  {
   "cell_type": "code",
   "execution_count": null,
   "id": "3c6e5745-796e-4757-b7eb-1da923ec81a3",
   "metadata": {},
   "outputs": [],
   "source": [
    "##Q2. What is the difference between Bernoulli Naive Bayes and Multinomial Naive Bayes?\n",
    "\n",
    "Bernoulli Naive Bayes deals with binary features, while Multinomial Naive Bayes handles features representing \n",
    "counts or frequencies."
   ]
  },
  {
   "cell_type": "code",
   "execution_count": null,
   "id": "d29beea4-a6bf-45e9-90a1-839499cb46bd",
   "metadata": {},
   "outputs": [],
   "source": [
    "##Q3. How does Bernoulli Naive Bayes handle missing values?\n",
    "\n",
    "Bernoulli Naive Bayes typically ignores missing values and assumes they do not contribute to the feature presence."
   ]
  },
  {
   "cell_type": "code",
   "execution_count": null,
   "id": "46ed1a64-c4ba-4ead-8f2b-cf3a9b5f756a",
   "metadata": {},
   "outputs": [],
   "source": [
    "##Q4. Can Gaussian Naive Bayes be used for multi-class classification?\n",
    "\n",
    "Yes, Gaussian Naive Bayes can be used for multi-class classification."
   ]
  },
  {
   "cell_type": "code",
   "execution_count": null,
   "id": "18d886ac-5f47-430b-9d08-966494f80d38",
   "metadata": {},
   "outputs": [],
   "source": []
  },
  {
   "cell_type": "code",
   "execution_count": null,
   "id": "b06178cf-dde7-4f6f-a93e-c0855cd3e7bc",
   "metadata": {},
   "outputs": [],
   "source": []
  },
  {
   "cell_type": "code",
   "execution_count": null,
   "id": "00c0c88c-2128-4e02-813f-20fc96f09803",
   "metadata": {},
   "outputs": [],
   "source": []
  },
  {
   "cell_type": "code",
   "execution_count": null,
   "id": "7158c235-0f1e-41fd-ad30-2fe0cb39b082",
   "metadata": {},
   "outputs": [],
   "source": []
  },
  {
   "cell_type": "code",
   "execution_count": null,
   "id": "4a9b00fd-32f3-42e1-aa9a-579324b6c135",
   "metadata": {},
   "outputs": [],
   "source": []
  },
  {
   "cell_type": "code",
   "execution_count": null,
   "id": "1e1f2983-8fea-4570-9e2f-929e330e2591",
   "metadata": {},
   "outputs": [],
   "source": []
  }
 ],
 "metadata": {
  "kernelspec": {
   "display_name": "Python 3 (ipykernel)",
   "language": "python",
   "name": "python3"
  },
  "language_info": {
   "codemirror_mode": {
    "name": "ipython",
    "version": 3
   },
   "file_extension": ".py",
   "mimetype": "text/x-python",
   "name": "python",
   "nbconvert_exporter": "python",
   "pygments_lexer": "ipython3",
   "version": "3.9.13"
  }
 },
 "nbformat": 4,
 "nbformat_minor": 5
}
