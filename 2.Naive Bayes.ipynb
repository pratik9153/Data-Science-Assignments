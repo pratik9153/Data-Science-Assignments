{
 "cells": [
  {
   "cell_type": "code",
   "execution_count": null,
   "id": "41d66399-58ce-4aa2-992b-cdb208b64dbf",
   "metadata": {},
   "outputs": [],
   "source": [
    "#A company conducted a survey of its employees and found that 70% of the employees use the\n",
    "#company's health insurance plan, while 40% of the employees who use the plan are smokers. What is the\n",
    "#probability that an employee is a smoker given that he/she uses the health insurance plan?\n",
    "\n",
    "P(A∣B) is the probability of using the health insurance plan given that the person is a smoker.\n",
    "P(B)P(B) is the probability of being a smoker.\n",
    "P(A)P(A) is the probability of using the health insurance plan.\n",
    "\n",
    "\n",
    "P(B∣A)=0.700.40×0.70​\n",
    "\n",
    "P(B∣A)=0.40P(B∣A)=0.40\n",
    "\n",
    "So, the probability that an employee is a smoker given that they use the health insurance plan is 0.40, or 40%."
   ]
  },
  {
   "cell_type": "code",
   "execution_count": null,
   "id": "3c6e5745-796e-4757-b7eb-1da923ec81a3",
   "metadata": {},
   "outputs": [],
   "source": [
    "##Q2. What is the difference between Bernoulli Naive Bayes and Multinomial Naive Bayes?\n",
    "\n",
    "Bernoulli Naive Bayes deals with binary features, while Multinomial Naive Bayes handles features representing \n",
    "counts or frequencies."
   ]
  },
  {
   "cell_type": "code",
   "execution_count": null,
   "id": "d29beea4-a6bf-45e9-90a1-839499cb46bd",
   "metadata": {},
   "outputs": [],
   "source": [
    "##"
   ]
  }
 ],
 "metadata": {
  "kernelspec": {
   "display_name": "Python 3 (ipykernel)",
   "language": "python",
   "name": "python3"
  },
  "language_info": {
   "codemirror_mode": {
    "name": "ipython",
    "version": 3
   },
   "file_extension": ".py",
   "mimetype": "text/x-python",
   "name": "python",
   "nbconvert_exporter": "python",
   "pygments_lexer": "ipython3",
   "version": "3.9.13"
  }
 },
 "nbformat": 4,
 "nbformat_minor": 5
}
