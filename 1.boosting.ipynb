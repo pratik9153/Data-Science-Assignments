{
 "cells": [
  {
   "cell_type": "code",
   "execution_count": null,
   "id": "0202f552-43a7-4775-aa57-ead6279143f6",
   "metadata": {},
   "outputs": [],
   "source": [
    "#What is boosting in machine learning?\n",
    "\n",
    "Boosting is an ensemble technique that improves model accuracy by combining weak learners sequentially\n",
    "to form a strong learner."
   ]
  },
  {
   "cell_type": "code",
   "execution_count": null,
   "id": "178c5ba3-3781-4c89-bd4e-1c5d7351d985",
   "metadata": {},
   "outputs": [],
   "source": [
    "#What are the advantages and limitations of using boosting techniques?\n",
    "\n",
    " Improves accuracy, reduces bias.\n",
    "Limitations: Prone to overfitting, computationally expensive, sensitive to noisy data and outliers."
   ]
  },
  {
   "cell_type": "code",
   "execution_count": null,
   "id": "f05cb055-909c-40f0-bee2-145d1dcdd87c",
   "metadata": {},
   "outputs": [],
   "source": [
    "#Explain how boosting works.\n",
    "\n",
    "Boosting sequentially trains weak models, adjusting for errors, combining them to create a strong, more \n",
    "accurate model ensemble."
   ]
  }
 ],
 "metadata": {
  "kernelspec": {
   "display_name": "Python 3 (ipykernel)",
   "language": "python",
   "name": "python3"
  },
  "language_info": {
   "codemirror_mode": {
    "name": "ipython",
    "version": 3
   },
   "file_extension": ".py",
   "mimetype": "text/x-python",
   "name": "python",
   "nbconvert_exporter": "python",
   "pygments_lexer": "ipython3",
   "version": "3.9.13"
  }
 },
 "nbformat": 4,
 "nbformat_minor": 5
}
