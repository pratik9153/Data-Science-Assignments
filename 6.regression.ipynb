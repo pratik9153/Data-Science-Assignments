{
 "cells": [
  {
   "cell_type": "code",
   "execution_count": null,
   "id": "8d850bdf-555e-4a1c-bfe9-7b877b5fb5a5",
   "metadata": {},
   "outputs": [],
   "source": [
    "#Q1. What are the key steps involved in building an end-to-end web application, from development to\n",
    "#deployment on the cloud?\n",
    "Develop, design, code, test, deploy, and scale. Use frameworks like Django/Flask for back-end, React/Vue/Angular \n",
    "for front-end. Deploy on AWS/Azure/GCP."
   ]
  },
  {
   "cell_type": "code",
   "execution_count": null,
   "id": "d607e7c1-63a3-44cd-894f-420d3a7cb4a1",
   "metadata": {},
   "outputs": [],
   "source": [
    "#Q2. Explain the difference between traditional web hosting and cloud hosting.\n",
    "Traditional hosting uses physical servers, while cloud hosting utilizes virtual servers accessed over the \n",
    "internet, providing scalability and flexibility."
   ]
  },
  {
   "cell_type": "code",
   "execution_count": null,
   "id": "b9255901-c052-44a9-a054-330473b33ccb",
   "metadata": {},
   "outputs": [],
   "source": [
    "#Q3. How do you choose the right cloud provider for your application deployment, and what factors\n",
    "#should you consider?\n",
    "Consider factors like performance, pricing, scalability, reliability, security, support, geographic location, and \n",
    "compatibility with your technology stack when choosing a cloud provider for application deployment."
   ]
  },
  {
   "cell_type": "code",
   "execution_count": null,
   "id": "12677fe0-886b-4f19-98a9-2e20319bce4f",
   "metadata": {},
   "outputs": [],
   "source": [
    "#Q4. How do you design and build a responsive user interface for your web application, and what are\n",
    "#some best practices to follow?\n",
    "Design UI with mobile-first approach, use responsive frameworks like Bootstrap, ensure flexible layouts, optimize \n",
    "images, prioritize content, and perform cross-browser testing for consistency."
   ]
  },
  {
   "cell_type": "code",
   "execution_count": null,
   "id": "f39bb55a-65f7-4f4c-8471-082d897a59ba",
   "metadata": {},
   "outputs": [],
   "source": [
    "#Q5Design UI with mobile-first approach, use responsive frameworks like Bootstrap, ensure flexible layouts, \n",
    "#optimize images, prioritize content, and perform cross-browser testing for consistency.\n",
    "Design UI starting from mobile layout, utilize Bootstrap or similar responsive frameworks, create flexible layouts, \n",
    "optimize images, prioritize content hierarchy, and conduct cross-browser testing to ensure consistent display."
   ]
  }
 ],
 "metadata": {
  "kernelspec": {
   "display_name": "Python 3 (ipykernel)",
   "language": "python",
   "name": "python3"
  },
  "language_info": {
   "codemirror_mode": {
    "name": "ipython",
    "version": 3
   },
   "file_extension": ".py",
   "mimetype": "text/x-python",
   "name": "python",
   "nbconvert_exporter": "python",
   "pygments_lexer": "ipython3",
   "version": "3.9.13"
  }
 },
 "nbformat": 4,
 "nbformat_minor": 5
}
