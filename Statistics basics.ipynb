{
 "cells": [
  {
   "cell_type": "code",
   "execution_count": null,
   "id": "87b82fdd-3aa4-4295-97fa-8f392778848d",
   "metadata": {},
   "outputs": [],
   "source": [
    "#Q1. What is Statistics?\n",
    "\n",
    "statistics is a science of collecting  , organizing and analyzing of data."
   ]
  },
  {
   "cell_type": "code",
   "execution_count": null,
   "id": "a6797ddd-dc6e-4bd6-98a3-28077ffc76c4",
   "metadata": {},
   "outputs": [],
   "source": [
    "#Q2. Define the different types of statistics and give an example of when each type might be used.\n",
    "\n",
    "1. Descriptive statistics is consist of organizing and summarizing of data.\n",
    "2. Inferenital statistics is consist of using data you have measured to form conclusion.\n",
    "\n",
    "If there is a question , Find the average marks of entire classroom then we should use Descriptive statistics .\n",
    "If there is a question , Are the marks of the students is similar to what you expect in the entire college. "
   ]
  },
  {
   "cell_type": "code",
   "execution_count": null,
   "id": "5d361368-a0e0-4164-9edf-a531b64cae62",
   "metadata": {},
   "outputs": [],
   "source": [
    "#Q3. What are the different types of data and how do they differ from each other? Provide an example of\n",
    "#each type of data.\n",
    "\n",
    "There are two types of data Quantitative and Qualitative data.\n",
    "Quantitative is a numerical data . It has two types Disceret and Continous .\n",
    "Qualitative is a categorical data. It has two types nomial and ordinal.\n",
    "\n",
    "example - Height data of a class: [178.9, 179, 179.5, 176, 177.2, 178.3, 175.8,...] is a Quantitative data\n",
    "example - Grading in exam: A+, A, B+, B, C+, C, D, E is a Qualitative data"
   ]
  },
  {
   "cell_type": "code",
   "execution_count": null,
   "id": "35328b59-caa2-4e1b-b56d-59a3d325936d",
   "metadata": {},
   "outputs": [],
   "source": [
    "#Q4. Categorise the following datasets with respect to quantitative and qualitative data types:\n",
    "(i) Grading in exam: A+, A, B+, B, C+, C, D, E = is a  Qualitative data\n",
    "(ii) Colour of mangoes: yellow, green, orange, red = is a  Qualitative data\n",
    "(iii) Height data of a class: [178.9, 179, 179.5, 176, 177.2, 178.3, 175.8,...] =  is a Quantitative data\n",
    "(iv) Number of mangoes exported by a farm: [500, 600, 478, 672, ...] = is a Quantitative data"
   ]
  },
  {
   "cell_type": "code",
   "execution_count": null,
   "id": "eac96c83-8de6-4bdf-ba5e-4ce807d5cce6",
   "metadata": {},
   "outputs": [],
   "source": [
    "#Q5 .Explain the concept of levels of measurement and give an example of a variable for each level.\n",
    "\n",
    "1. Nominal scale data :-\n",
    "orders not matter and there is no rank.\n",
    "example - Gender \n",
    "2. Ordinal scale data:-\n",
    "orders matters and there is a rank.Difference cannot be measured.\n",
    "example - Customer feedback \n",
    "3.Interval scale data:-\n",
    "orders matter and differnece can be measured.\n",
    "example - Temprature variable\n",
    "4.Ratio scale data:-\n",
    "orders matter and  differnce are measurable including ratio.\n",
    "example - IQ measurement"
   ]
  },
  {
   "cell_type": "code",
   "execution_count": null,
   "id": "274f2e45-72d9-4058-81eb-8d179e74e504",
   "metadata": {},
   "outputs": [],
   "source": [
    "#Why is it important to understand the level of measurement when analyzing data? Provide an\n",
    "#example to illustrate your answer.\n",
    "\n",
    " The level of measurement defines the nature and properties of the data, \n",
    "influencing the statistical methods that can be used for analysis.\n",
    "\n",
    "example - Consider a study investigating the relationship between income and job satisfaction. \n",
    "The income variable is measured on a ratio scale, while job satisfaction is measured using a ordinal.\n",
    "    "
   ]
  },
  {
   "cell_type": "code",
   "execution_count": null,
   "id": "0de8bb48-0ec4-4a34-9f43-9e5d49babba2",
   "metadata": {},
   "outputs": [],
   "source": [
    "#Q7. How nominal data type is different from ordinal data type.\n",
    "\n",
    "nominal data is different from ordinal data because orders does not matter in nominal data but in ordinal data \n",
    "orders matter. example - gender is nominal data because there is no order. but customer feedback is a ordinal \n",
    "data because there is an order of feedback."
   ]
  },
  {
   "cell_type": "code",
   "execution_count": null,
   "id": "65f1149d-0345-489c-b55f-ad73b2577cc5",
   "metadata": {},
   "outputs": [],
   "source": [
    "#Q8. Which type of plot can be used to display data in terms of range?\n",
    "\n",
    "The box represents the interquartile range (IQR), which is the range between the first quartile (Q1) \n",
    "and the third quartile (Q3).\n"
   ]
  },
  {
   "cell_type": "code",
   "execution_count": null,
   "id": "d8ca0a66-a773-49a8-b395-9c963d7007dd",
   "metadata": {},
   "outputs": [],
   "source": [
    "#Q9. Describe the difference between descriptive and inferential statistics. Give an example of each\n",
    "#type of statistics and explain how they are used.\n",
    "\n",
    "1. Descriptive statistics is consist of organizing and summarizing of data.\n",
    "2. Inferenital statistics is consist of using data you have measured to form conclusion.\n",
    "\n",
    "If there is a question , Find the average marks of entire classroom then we should use Descriptive statistics .\n",
    "If there is a question , Are the marks of the students is similar to what you expect in the entire college. "
   ]
  },
  {
   "cell_type": "code",
   "execution_count": null,
   "id": "903061d5-8453-4174-a44a-bcc362b26669",
   "metadata": {},
   "outputs": [],
   "source": [
    "#Q10. What are some common measures of central tendency and variability used in statistics? Explain\n",
    "#how each measure can be used to describe a dataset.\n",
    "\n",
    "Measures of Central Tendency:\n",
    "\n",
    "Mean:\n",
    "Calculation: The sum of all values divided by the number of observations.\n",
    "Use: Represents the arithmetic average and is sensitive to extreme values. It provides a measure of the center of the data.\n",
    "\n",
    "Median:\n",
    "Calculation: The middle value of a dataset when it is ordered. If there is an even number of observations, it is the average of the two middle values.\n",
    "Use: Less sensitive to extreme values than the mean, making it a robust measure of central tendency. It represents the middle point of the data distribution.\n",
    "\n",
    "Mode:\n",
    "Calculation: The value(s) that occur most frequently in a dataset.\n",
    "Use: Represents the most common value(s) in the dataset. Useful for categorical data or discrete distributions."
   ]
  }
 ],
 "metadata": {
  "kernelspec": {
   "display_name": "Python 3 (ipykernel)",
   "language": "python",
   "name": "python3"
  },
  "language_info": {
   "codemirror_mode": {
    "name": "ipython",
    "version": 3
   },
   "file_extension": ".py",
   "mimetype": "text/x-python",
   "name": "python",
   "nbconvert_exporter": "python",
   "pygments_lexer": "ipython3",
   "version": "3.9.13"
  }
 },
 "nbformat": 4,
 "nbformat_minor": 5
}
