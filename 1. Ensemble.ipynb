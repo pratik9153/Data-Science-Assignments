{
 "cells": [
  {
   "cell_type": "code",
   "execution_count": null,
   "id": "f03064b2-226e-4058-881d-572df14a2402",
   "metadata": {},
   "outputs": [],
   "source": [
    "#Q1. What is an ensemble technique in machine learning?\n",
    "\n",
    "Ensemble techniques combine multiple models to improve predictive performance, often yielding better \n",
    "results than individual models."
   ]
  },
  {
   "cell_type": "code",
   "execution_count": null,
   "id": "3e099e37-e8a6-4ea6-945d-5af10a1ea544",
   "metadata": {},
   "outputs": [],
   "source": [
    "#Q2. Why are ensemble techniques used in machine learning?\n",
    "\n",
    "Ensemble techniques reduce overfitting, increase robustness, and improve predictive accuracy by leveraging diverse\n",
    "models collective intelligence."
   ]
  },
  {
   "cell_type": "code",
   "execution_count": null,
   "id": "54355284-a820-4287-b7ac-2f391d790585",
   "metadata": {},
   "outputs": [],
   "source": [
    "#Q3. What is bagging?\n",
    "\n",
    "Bagging (Bootstrap Aggregating) combines multiple models trained on random subsets of data to reduce\n",
    "variance and improve performance."
   ]
  },
  {
   "cell_type": "code",
   "execution_count": null,
   "id": "20757223-8fee-4c37-9f30-2eb9e1035c47",
   "metadata": {},
   "outputs": [],
   "source": [
    "#Q4. What is boosting?\n",
    "\n",
    "Boosting is a machine learning ensemble technique that sequentially trains models, giving more weight to instances \n",
    "previously misclassified, to improve predictive performance."
   ]
  },
  {
   "cell_type": "code",
   "execution_count": null,
   "id": "b94a5b54-1ac2-4ae6-87a9-a7f49055f7f3",
   "metadata": {},
   "outputs": [],
   "source": [
    "#Q5. What are the benefits of using ensemble techniques? \n",
    "\n",
    "Improved Accuracy: Combining models mitigates individual weaknesses.\n",
    "Reduced Overfitting: Diverse models generalize better.\n",
    "Increased Robustness: Less sensitive to noise and outliers.\n",
    "Handles Complex Relationships: Captures intricate patterns more effectively."
   ]
  },
  {
   "cell_type": "code",
   "execution_count": null,
   "id": "a5c2fd99-6ef7-49c3-be6b-a46dd6c43274",
   "metadata": {},
   "outputs": [],
   "source": [
    "#Q6. Are ensemble techniques always better than individual models?\n",
    "\n",
    "Ensemble techniques are often superior, but not always, as effectiveness depends on data, problem complexity, \n",
    "and ensemble design."
   ]
  },
  {
   "cell_type": "code",
   "execution_count": null,
   "id": "1280d29f-a2e9-486b-a72f-04e2dfa46c35",
   "metadata": {},
   "outputs": [],
   "source": [
    "#Q7. How is the confidence interval calculated using bootstrap?\n",
    "\n",
    "Bootstrap calculates confidence interval by resampling data with replacement, computing statistic of interest \n",
    "repeatedly, and estimating its distribution."
   ]
  },
  {
   "cell_type": "code",
   "execution_count": null,
   "id": "d38d01a3-d867-4774-9f3c-b0defaa750d0",
   "metadata": {},
   "outputs": [],
   "source": [
    "#Q8. How does bootstrap work and What are the steps involved in bootstrap?\n",
    "\n",
    "    Resampling: Randomly select data points with replacement.\n",
    "    Compute Statistic: Calculate statistic of interest for each sample.\n",
    "    Estimate Distribution: Build distribution of computed statistics.\n",
    "    Calculate Confidence Interval: Determine range of values around statistic."
   ]
  },
  {
   "cell_type": "code",
   "execution_count": null,
   "id": "22431206-0c09-4c12-8570-b2907641cddf",
   "metadata": {},
   "outputs": [],
   "source": [
    "#Q9. A researcher wants to estimate the mean height of a population of trees. They measure the height of a\n",
    "#sample of 50 trees and obtain a mean height of 15 meters and a standard deviation of 2 meters. Use\n",
    "#bootstrap to estimate the 95% confidence interval for the population mean height.\n",
    "\n",
    "\n",
    "\n",
    "    Resample with replacement from the sample of 50 tree heights.\n",
    "    Calculate mean height for each resampled dataset.\n",
    "    Estimate 95% confidence interval from the distribution of bootstrap means."
   ]
  },
  {
   "cell_type": "code",
   "execution_count": null,
   "id": "0c63877b-2f5a-417e-b56c-39b771185637",
   "metadata": {},
   "outputs": [],
   "source": []
  },
  {
   "cell_type": "code",
   "execution_count": null,
   "id": "d5fc35a4-b2d3-47b5-ad13-952c453fb661",
   "metadata": {},
   "outputs": [],
   "source": [
    "\n"
   ]
  },
  {
   "cell_type": "code",
   "execution_count": null,
   "id": "2887d0c1-6ccd-4cf9-9d68-644d6e861b36",
   "metadata": {},
   "outputs": [],
   "source": []
  },
  {
   "cell_type": "code",
   "execution_count": null,
   "id": "89bab899-1d22-4707-9668-1c16e2c33228",
   "metadata": {},
   "outputs": [],
   "source": [
    "\n",
    "\n",
    "\n",
    "\n"
   ]
  },
  {
   "cell_type": "code",
   "execution_count": null,
   "id": "d7486a94-57a9-4631-9f67-160021f577e2",
   "metadata": {},
   "outputs": [],
   "source": [
    "\n"
   ]
  },
  {
   "cell_type": "code",
   "execution_count": null,
   "id": "1971d68b-f28b-48db-a488-a12b470e2f39",
   "metadata": {},
   "outputs": [],
   "source": []
  },
  {
   "cell_type": "code",
   "execution_count": null,
   "id": "bc8a6a35-6b65-428b-9640-56d5ac60bd29",
   "metadata": {},
   "outputs": [],
   "source": []
  }
 ],
 "metadata": {
  "kernelspec": {
   "display_name": "Python 3 (ipykernel)",
   "language": "python",
   "name": "python3"
  },
  "language_info": {
   "codemirror_mode": {
    "name": "ipython",
    "version": 3
   },
   "file_extension": ".py",
   "mimetype": "text/x-python",
   "name": "python",
   "nbconvert_exporter": "python",
   "pygments_lexer": "ipython3",
   "version": "3.9.13"
  }
 },
 "nbformat": 4,
 "nbformat_minor": 5
}
