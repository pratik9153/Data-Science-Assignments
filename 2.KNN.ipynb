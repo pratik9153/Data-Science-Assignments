{
 "cells": [
  {
   "cell_type": "code",
   "execution_count": null,
   "id": "dee534bf-a7fb-40a4-9a75-9d0453d17114",
   "metadata": {},
   "outputs": [],
   "source": [
    "#Q1. What is the main difference between the Euclidean distance metric and the Manhattan distance\n",
    "#metric in KNN? How might this difference affect the performance of a KNN classifier or regressor?\n",
    "\n",
    "The main difference is how they calculate distance: Euclidean measures straight-line distance, while Manhattan measures along axes. \n",
    "Euclidean might work better for evenly distributed data, while Manhattan may handle sparse or high-dimensional \n",
    "data better."
   ]
  },
  {
   "cell_type": "code",
   "execution_count": null,
   "id": "74f61d76-f7cc-4403-b563-f3ce18951e31",
   "metadata": {},
   "outputs": [],
   "source": [
    "#Q2. How do you choose the optimal value of k for a KNN classifier or regressor? What techniques can be\n",
    "#used to determine the optimal k value?\n",
    "\n",
    "Choosing the optimal k involves balancing bias and variance. Techniques like cross-validation, grid search, or \n",
    "algorithms like elbow method help find the best k by evaluating performance metrics on different k values."
   ]
  },
  {
   "cell_type": "code",
   "execution_count": null,
   "id": "c2df3979-9121-41b0-b1a8-4718cef53501",
   "metadata": {},
   "outputs": [],
   "source": [
    "#Q3. How does the choice of distance metric affect the performance of a KNN classifier or regressor? In\n",
    "#what situations might you choose one distance metric over the other?\n",
    "\n",
    "The choice of distance metric impacts KNN's sensitivity to feature scales and data distribution. Euclidean suits \n",
    "data with continuous features and relatively evenly distributed data, while Manhattan is more robust with sparse or \n",
    "high-dimensional data or when features have different scales."
   ]
  },
  {
   "cell_type": "code",
   "execution_count": null,
   "id": "8885cf68-95b4-4884-90d8-7893885e92f5",
   "metadata": {},
   "outputs": [],
   "source": [
    "#Q4. What are some common hyperparameters in KNN classifiers and regressors, and how do they affect\n",
    "#the performance of the model? How might you go about tuning these hyperparameters to improve\n",
    "#model performance?\n",
    "\n",
    "Common hyperparameters include k (number of neighbors), distance metric, and weights. These affect model complexity \n",
    "and sensitivity. Tuning involves cross-validation or grid search to find the combination optimizing performance\n",
    "metrics."
   ]
  },
  {
   "cell_type": "code",
   "execution_count": null,
   "id": "b1ca8a9a-6d55-479a-a5ce-8d6e899d4ce9",
   "metadata": {},
   "outputs": [],
   "source": [
    "#Q5. How does the size of the training set affect the performance of a KNN classifier or regressor? What\n",
    "#techniques can be used to optimize the size of the training set?\n",
    "\n",
    "The size of the training set affects KNN's generalization and computational cost. Too small may lead to overfitting, \n",
    "while too large can increase computational burden. Techniques like cross-validation can help find the optimal \n",
    "trade-off between performance and efficiency."
   ]
  },
  {
   "cell_type": "code",
   "execution_count": null,
   "id": "88e26e80-f6bf-4975-84f4-0e5fd5b951e5",
   "metadata": {},
   "outputs": [],
   "source": [
    "#Q6. What are some potential drawbacks of using KNN as a classifier or regressor? How might you\n",
    "#overcome these drawbacks to improve the performance of the model?\n",
    "\n",
    "Potential drawbacks include high computational cost, sensitivity to irrelevant features, and the curse of \n",
    "dimensionality. Feature selection, dimensionality reduction techniques like PCA, and algorithmic improvements \n",
    "like approximate nearest neighbor methods can help overcome these challenges."
   ]
  }
 ],
 "metadata": {
  "kernelspec": {
   "display_name": "Python 3 (ipykernel)",
   "language": "python",
   "name": "python3"
  },
  "language_info": {
   "codemirror_mode": {
    "name": "ipython",
    "version": 3
   },
   "file_extension": ".py",
   "mimetype": "text/x-python",
   "name": "python",
   "nbconvert_exporter": "python",
   "pygments_lexer": "ipython3",
   "version": "3.9.13"
  }
 },
 "nbformat": 4,
 "nbformat_minor": 5
}
