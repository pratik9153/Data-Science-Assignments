{
 "cells": [
  {
   "cell_type": "code",
   "execution_count": null,
   "id": "682ea0a2-4014-4e6b-b929-01fe735543b8",
   "metadata": {},
   "outputs": [],
   "source": [
    "Q1.\n",
    "\n",
    "probability density function is a continuous probability distribution for random variables."
   ]
  },
  {
   "cell_type": "code",
   "execution_count": null,
   "id": "b717f032-cd26-4e91-b0e6-f8927c6745d0",
   "metadata": {},
   "outputs": [],
   "source": [
    "Q2.\n",
    "1. Bernoulli Distribution\n",
    "2. Binomial Distribution\n",
    "3. Poisson Distribution \n",
    "4. Uniform Distribution\n",
    "5. Normal distribution "
   ]
  },
  {
   "cell_type": "code",
   "execution_count": 1,
   "id": "8a6f4eb0-0d08-42aa-9d6e-959c45f906c0",
   "metadata": {},
   "outputs": [],
   "source": [
    "#Q3\n",
    "\n",
    "import math\n",
    "\n",
    "def normal_pdf(x,mean,std):\n",
    "    coefficient = 1/(std*math.sqrt(2*math.pi))\n",
    "    exponent =- ((x-mean)**2)/(2*(std**2))\n",
    "    pdf = coefficient*math.exp(exponent)\n",
    "    return pdf"
   ]
  },
  {
   "cell_type": "code",
   "execution_count": 36,
   "id": "c2709f5c-4c93-4602-b720-e4d8ae428c38",
   "metadata": {},
   "outputs": [
    {
     "data": {
      "text/plain": [
       "0.12098536225957168"
      ]
     },
     "execution_count": 36,
     "metadata": {},
     "output_type": "execute_result"
    }
   ],
   "source": [
    "normal_pdf(3,5,2)"
   ]
  },
  {
   "cell_type": "code",
   "execution_count": null,
   "id": "e769589c-acd4-45af-a0d9-b24b95b84e5c",
   "metadata": {},
   "outputs": [],
   "source": [
    "#Q4\n",
    "\n",
    "The binomial distribution is a discrete probability distribution that describe number of successes in a fixed\n",
    "number of independent bernoulli trials.\n",
    "There are two parameters p and n.\n",
    "where p belongs to [0,1]\n",
    "n is a independent number of trial.\n",
    "\n",
    "example : Tossing a coin , sports outcomes \n"
   ]
  },
  {
   "cell_type": "code",
   "execution_count": 3,
   "id": "6611ceae-b921-4f30-8c8f-1f594ff76c96",
   "metadata": {},
   "outputs": [],
   "source": [
    "#5\n",
    "\n",
    "import numpy as np \n",
    "import matplotlib.pyplot as plt "
   ]
  },
  {
   "cell_type": "code",
   "execution_count": 33,
   "id": "77982a0f-aec5-4530-976b-1cfe5af29290",
   "metadata": {},
   "outputs": [
    {
     "data": {
      "image/png": "[encoded data removed]",
      "text/plain": [
       "<Figure size 640x480 with 1 Axes>"
      ]
     },
     "metadata": {},
     "output_type": "display_data"
    }
   ],
   "source": [
    "sample_size = 1000\n",
    "probability_success = 0.4 \n",
    "sample = np.random.binomial(1,probability_success,sample_size)\n",
    "plt.hist(sample,bins=2,rwidth=0.8,align='mid',color='blue')\n",
    "plt.xlabel(\"success\")\n",
    "plt.ylabel(\"frequency\")\n",
    "plt.title(\"binomial distribution : random sample\")\n",
    "plt.xticks([0,1] , ['failure','success'])\n",
    "plt.show()"
   ]
  },
  {
   "cell_type": "code",
   "execution_count": 34,
   "id": "4ae05ccb-eb6a-467e-8d44-2a67893d1731",
   "metadata": {},
   "outputs": [],
   "source": [
    "#Q6.\n",
    "import math\n",
    "\n",
    "def possion_cdf(x,mean):\n",
    "    cdf = 0\n",
    "    for i in range(x+1):\n",
    "        cdf  += (mean**i)*math.exp(-mean)/math.factorial(i)\n",
    "    return cdf"
   ]
  },
  {
   "cell_type": "code",
   "execution_count": 35,
   "id": "ce41a9df-420a-48ee-a1a7-941d67037d70",
   "metadata": {},
   "outputs": [
    {
     "data": {
      "text/plain": [
       "0.4404932850652124"
      ]
     },
     "execution_count": 35,
     "metadata": {},
     "output_type": "execute_result"
    }
   ],
   "source": [
    "possion_cdf(4,5)"
   ]
  },
  {
   "cell_type": "code",
   "execution_count": null,
   "id": "bbaf9629-bbfe-415e-a073-7c99b541f73c",
   "metadata": {},
   "outputs": [],
   "source": [
    "#Q7\n",
    "\n",
    "Binomial distribution is a discrete probability distribution of random variable .\n",
    "There are two parameters in binomial distribution p and n . where p belongs to [0,1] and n belongs to number of \n",
    "independent trial. \tGenerally symmetric.\n",
    "\n",
    "other hand possion distribution is a discrete probability distribution for random variable that describes the number\n",
    "of events occurs in fixed time interval.\n",
    "There are only one parameters  \tAverage rate of events (λ). \tSkewed to the right"
   ]
  },
  {
   "cell_type": "code",
   "execution_count": 51,
   "id": "8bd05f0f-9fb3-4644-94ff-b4a4cdacdf19",
   "metadata": {},
   "outputs": [],
   "source": [
    "#Q8\n",
    "mean = 5\n",
    "sample_size = 1000\n",
    "sample = np.random.poisson(mean,size = sample_size)\n",
    "sample_mean = np.mean(sample)\n",
    "sample_var = np.var(sample)"
   ]
  },
  {
   "cell_type": "code",
   "execution_count": 52,
   "id": "6736cd19-554f-4b4d-9fa3-0211cabb944d",
   "metadata": {},
   "outputs": [
    {
     "data": {
      "text/plain": [
       "4.953"
      ]
     },
     "execution_count": 52,
     "metadata": {},
     "output_type": "execute_result"
    }
   ],
   "source": [
    "sample_mean"
   ]
  },
  {
   "cell_type": "code",
   "execution_count": 53,
   "id": "acbca96d-a4ef-4935-bef9-0d1419aa3720",
   "metadata": {},
   "outputs": [
    {
     "data": {
      "text/plain": [
       "5.0087909999999995"
      ]
     },
     "execution_count": 53,
     "metadata": {},
     "output_type": "execute_result"
    }
   ],
   "source": [
    "sample_var"
   ]
  },
  {
   "cell_type": "code",
   "execution_count": null,
   "id": "71680fbd-8bbc-4c39-983d-c8b5657d8f51",
   "metadata": {},
   "outputs": [],
   "source": [
    "#Q9\n",
    "\n",
    "In the binomial distribution the mean and variance are depends on both the numbers of trials and probability\n",
    "of success.\n",
    "\n",
    "In poisson distribution mean and variance are equally determined by the parameter λ."
   ]
  },
  {
   "cell_type": "code",
   "execution_count": null,
   "id": "685d00c9-c18b-49a2-9fc1-1bd6db1f30b5",
   "metadata": {},
   "outputs": [],
   "source": [
    "#10\n",
    "\n",
    "In a normal distribution, the least frequent data appears at the tails, farthest from the mean. \n",
    "It indicates extreme values."
   ]
  }
 ],
 "metadata": {
  "kernelspec": {
   "display_name": "Python 3 (ipykernel)",
   "language": "python",
   "name": "python3"
  },
  "language_info": {
   "codemirror_mode": {
    "name": "ipython",
    "version": 3
   },
   "file_extension": ".py",
   "mimetype": "text/x-python",
   "name": "python",
   "nbconvert_exporter": "python",
   "pygments_lexer": "ipython3",
   "version": "3.9.13"
  }
 },
 "nbformat": 4,
 "nbformat_minor": 5
}
