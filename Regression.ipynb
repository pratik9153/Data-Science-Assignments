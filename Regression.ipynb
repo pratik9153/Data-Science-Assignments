{
 "cells": [
  {
   "cell_type": "code",
   "execution_count": null,
   "id": "8980b63e-af30-48c1-98e8-26f744e6ec86",
   "metadata": {},
   "outputs": [],
   "source": [
    "#Q1. Explain the difference between simple linear regression and multiple linear regression. Provide an\n",
    "#example of each.\n",
    "\n",
    "simple linear regression is a type of regression algorithm that models the relationship between dependent variable \n",
    "and single independent variable.\n",
    "example : we have to predict the height of a people based on there weight,Here height is a dependent variable and \n",
    "weight is a independent variable\n",
    "\n",
    "multiple linear regression is a type of regression algorithm that models the relationship between multiple independent\n",
    "variables and single dependent variable .\n",
    "example: we have to predict the price of a house based on house location , rooms , sizes so , Here price is a dependent\n",
    "variable and house location , rooms , size is independent feature "
   ]
  },
  {
   "cell_type": "code",
   "execution_count": null,
   "id": "eb21bb7b-7fbe-4f27-81e8-7bb157243072",
   "metadata": {},
   "outputs": [],
   "source": [
    "#Q2. Discuss the assumptions of linear regression. How can you check whether these assumptions hold in\n",
    "#a given dataset?\n",
    "\n",
    "Assumptions of linear regression include linearity, independence, homoscedasticity, and normality of residuals. \n",
    "Check assumptions via scatter plots for linearity, residual plots for homoscedasticity, residual vs. \n",
    "fitted plots for independence, and QQ plots or Shapiro-Wilk tests for normality."
   ]
  },
  {
   "cell_type": "code",
   "execution_count": null,
   "id": "62ad650b-21f7-42a2-b791-3cf7ff537f75",
   "metadata": {},
   "outputs": [],
   "source": [
    "#Q3. How do you interpret the slope and intercept in a linear regression model? Provide an example using\n",
    "#a real-world scenario.\n",
    "\n",
    "The slope represents the change in the dependent variable for a one-unit change in the independent variable. \n",
    "The intercept is the value of the dependent variable when the independent variable is zero. \n",
    "For example, in a salary prediction model, the slope indicates the increase in salary for each additional year of \n",
    "experience, while the intercept represents the starting salary for someone with zero experience."
   ]
  },
  {
   "cell_type": "code",
   "execution_count": null,
   "id": "be8f7a84-daa2-4632-8131-f2c715a7d1c6",
   "metadata": {},
   "outputs": [],
   "source": [
    "#Q4. Explain the concept of gradient descent. How is it used in machine learning?\n",
    "\n",
    "Gradient descent is an iterative optimization algorithm that minimize a function by adjusting parameters in the direction\n",
    "of steepest descent.\n",
    "\n",
    "Gradient descent iteratively adjusts model parameters to minimize a loss function, finding optimal values through \n",
    "incremental updates of gradients."
   ]
  },
  {
   "cell_type": "code",
   "execution_count": null,
   "id": "6e617bfe-2e30-46b7-92fa-d83c719e7519",
   "metadata": {},
   "outputs": [],
   "source": [
    "#Q5. Describe the multiple linear regression model. How does it differ from simple linear regression?\n",
    "\n",
    "multiple linear regression is a type of regression algorithm that models the relationship between multiple independent\n",
    "variables and single dependent variable .\n",
    "example: we have to predict the price of a house based on house location , rooms , sizes so , Here price is a dependent\n",
    "variable and house location , rooms , size is independent feature \n",
    "\n",
    "\n",
    "on other hand , simple linear regression is a type of regression algorithm that models the relationship between dependent variable \n",
    "and single independent variable.\n",
    "example : we have to predict the height of a people based on there weight,Here height is a dependent variable and \n",
    "weight is a independent variable"
   ]
  },
  {
   "cell_type": "code",
   "execution_count": null,
   "id": "b846d62e-698f-4989-a42a-4e297f90c7f5",
   "metadata": {},
   "outputs": [],
   "source": [
    "#Q6. Explain the concept of multicollinearity in multiple linear regression. How can you detect and\n",
    "#address this issue?\n",
    "\n",
    "Multicollinearity occurs when independent variables in a regression model are highly correlated. \n",
    "Detect it through correlation matrices or variance inflation factors (VIFs), and address it by removing \n",
    "correlated predictors or using techniques like regularization."
   ]
  },
  {
   "cell_type": "code",
   "execution_count": null,
   "id": "b5e85fbf-9d5c-4f83-b236-67160e03c8ff",
   "metadata": {},
   "outputs": [],
   "source": [
    "#Q7. Describe the polynomial regression model. How is it different from linear regression?\n",
    "\n",
    "Polynomial Regression is a regression algorithm that models the relationship between a dependent(y) and \n",
    "independent variable(x) as nth degree polynomial. It fits curve to data by using polynomial function instead of\n",
    "straight lines.\n",
    "Types of polynomial linear regression :-\n",
    "1. Simple polynomial regression \n",
    "2. Multiple polynomial regression \n",
    "\n",
    "on other hand , simple linear regression is a type of regression algorithm that models the relationship between dependent variable \n",
    "and single independent variable.\n",
    "example : we have to predict the height of a people based on there weight,Here height is a dependent variable and \n",
    "weight is a independent variable"
   ]
  },
  {
   "cell_type": "code",
   "execution_count": null,
   "id": "62427a7d-aeaa-43d9-aaee-7395a239221a",
   "metadata": {},
   "outputs": [],
   "source": [
    "#Q8. What are the advantages and disadvantages of polynomial regression compared to linear\n",
    "#regression? In what situations would you prefer to use polynomial regression?\n",
    "\n",
    "Advantages of polynomial regression include capturing nonlinear relationships, while disadvantages involve\n",
    "overfitting and complexity. Polynomial regression is preferred when data exhibit nonlinear patterns, \n",
    "such as in physics or engineering models, but caution is needed to avoid overfitting and ensure \n",
    "interpretability due to increased model complexity.\n",
    "\n",
    "Advantages of simple linear regression include simplicity, ease of interpretation, and computational \n",
    "efficiency. However, it assumes a linear relationship, limiting its applicability when data exhibit nonlinear \n",
    "patterns. Simple linear regression is preferable when analyzing relationships between two variables and when\n",
    "linearity is reasonable and meaningful."
   ]
  }
 ],
 "metadata": {
  "kernelspec": {
   "display_name": "Python 3 (ipykernel)",
   "language": "python",
   "name": "python3"
  },
  "language_info": {
   "codemirror_mode": {
    "name": "ipython",
    "version": 3
   },
   "file_extension": ".py",
   "mimetype": "text/x-python",
   "name": "python",
   "nbconvert_exporter": "python",
   "pygments_lexer": "ipython3",
   "version": "3.9.13"
  }
 },
 "nbformat": 4,
 "nbformat_minor": 5
}
