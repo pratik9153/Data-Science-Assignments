{
 "cells": [
  {
   "cell_type": "code",
   "execution_count": null,
   "id": "65da2888-2eed-4cae-a092-8de8dff4f859",
   "metadata": {},
   "outputs": [],
   "source": [
    "#Q1 \n",
    "\n",
    "probability mass function is a discrete probability distribution for random variables.\n",
    "\n",
    "example : tossing a coin , rolling a dice\n",
    "\n",
    "probability density function is a continuous probability distribution for random variables.\n",
    "\n",
    "example : height , weight\n",
    "\n"
   ]
  },
  {
   "cell_type": "code",
   "execution_count": null,
   "id": "2c2eae86-35a8-48fd-ac32-84ac8a379dfc",
   "metadata": {},
   "outputs": [],
   "source": [
    "#Q2\n",
    "\n",
    "Cumulative Density Function describe the probability distribution of random variables.\n",
    "Cumulative density function (CDF) calculates the probability of a random variable being less \n",
    "than or equal to a given value.\n",
    "\n",
    "it is useful for probability calculations, percentile determination, distribution comparison, and \n",
    "parameter estimation."
   ]
  },
  {
   "cell_type": "code",
   "execution_count": null,
   "id": "cc948ba1-6c76-49df-ad98-6e56651b694b",
   "metadata": {},
   "outputs": [],
   "source": [
    "#Q3.\n",
    "IQ scores in a large population sample.\n",
    "Blood pressure measurements in a healthy population.\n",
    "Weight of produce items, like apples or tomatoes, in a large shipment.\n",
    "Time taken to complete a task by a group of workers.\n",
    "\n",
    "    Mean (μ): Determines the center or average value of the distribution.\n",
    "    Standard deviation (σ): Controls the spread or variability of the distribution.\n",
    "    Larger standard deviation leads to wider distribution, smaller makes it narrower.\n",
    "    Shifting the mean changes the center point of the distribution.\n",
    "    Parameters collectively define the height, width, and symmetry of distribution."
   ]
  },
  {
   "cell_type": "code",
   "execution_count": null,
   "id": "f840b4a0-72fe-4439-b0ba-178b55a011f7",
   "metadata": {},
   "outputs": [],
   "source": [
    "#Q4\n",
    "    Widely applicable: Many natural phenomena and human-made processes follow a normal distribution, making it \n",
    "    relevant across various fields.\n",
    "\n",
    "    Statistical inference: Facilitates hypothesis testing, estimation, and prediction due to its well-understood \n",
    "    properties.\n",
    "\n",
    "    Central Limit Theorem: Forms the basis for many statistical methods, allowing for the approximation of \n",
    "    various distributions to normal.\n",
    "\n",
    "    Easy interpretation: The bell-shaped curve is intuitive, making it easier to understand and communicate \n",
    "    statistical findings.\n",
    "\n",
    "Examples of Normal Distribution:\n",
    "\n",
    "    Heights of adults in a population.\n",
    "    IQ scores in a large sample of individuals.\n",
    "    Blood pressure measurements in a healthy population."
   ]
  },
  {
   "cell_type": "code",
   "execution_count": null,
   "id": "cd81ea34-b4b4-4630-9629-6ecd079c066d",
   "metadata": {},
   "outputs": [],
   "source": [
    "#Q5\n",
    "Bernaulli Distribution is a discrete probability distribution for random variables which takes value 1 with\n",
    "p and value 0 with q=1-p.\n",
    "\n",
    "success with probability p and failure with probability q\n",
    "\n",
    "example : coin flipping \n",
    "\n",
    "On the other hand binomial distribution is also a discrete probability distribution for random variables , with p and\n",
    "n where p belongs to {0,1} and n is number of independent intervals.\n",
    "\n",
    "This a difference between Bernaulli and Binomial Distribution "
   ]
  },
  {
   "cell_type": "code",
   "execution_count": null,
   "id": "49a54a03-701a-4aac-9553-46877bf3a213",
   "metadata": {},
   "outputs": [],
   "source": [
    "#Q6\n",
    "P(X > 60) = 1 - P(X <= 60)\n",
    "Z = (X - μ) / σ\n",
    "Z = (60 - 50) / 10 = 1.00\n"
   ]
  },
  {
   "cell_type": "code",
   "execution_count": null,
   "id": "2ebb9ba8-3a32-44a8-a3d2-ff26f18eca9a",
   "metadata": {},
   "outputs": [],
   "source": [
    "#Q7\n",
    "In uniform distribution the probability of getting answer is equal .\n",
    "\n",
    "A variable x is said to be uniformly distributed if f(x) = 1/b-a\n",
    "example: Rolling a dice\n",
    "\n",
    "Basically there are two types of uniform distribution \n",
    "1.continuous uniform distribution : It is related to the events which are equally likely to occur.\n",
    "There are two parameter x and y , here means minimum value and y means maximum value \n",
    "\n",
    "2.discrete uniform distribution: Finite number of outcomes which are equally likely to occur.\n",
    "\n"
   ]
  },
  {
   "cell_type": "code",
   "execution_count": null,
   "id": "6f15f80c-ce9d-4ed4-bdfd-c29db7b470b3",
   "metadata": {},
   "outputs": [],
   "source": [
    "#Q8\n",
    "z-score is used measure how much a data point is far away from the mean.\n",
    "z-score are also used to transform the normal distribution into standard normal distribution.\n",
    "\n",
    "Z = X -u/std\n",
    "\n",
    "    Standardizes data for comparison across different distributions or samples.\n",
    "    Identifies outliers or extreme values in a dataset effectively.\n",
    "    Facilitates hypothesis testing and construction of confidence intervals accurately.\n",
    "    Allows for assessing relative position and probability within a distribution."
   ]
  },
  {
   "cell_type": "code",
   "execution_count": null,
   "id": "ee025efe-e194-46c3-bf93-707f97523f76",
   "metadata": {},
   "outputs": [],
   "source": [
    "#Q9\n",
    "\n",
    "central limit theorem says that sample distribution of mean always be normal distribution,as long as sample size is\n",
    "large enough.\n",
    "\n",
    "Regardless wether the population distribution is possion,binomial or ther distribution sample mean is always be\n",
    "normaly distributed .\n",
    "\n",
    "Widely used in statistics to analyze data and make predictions.\n",
    "Provides a basis for making inferences about population parameters.\n",
    "Converts the distribution of sample means to normal regardless of original distribution."
   ]
  },
  {
   "cell_type": "code",
   "execution_count": null,
   "id": "c0a182a6-4640-4cf9-8eab-0b0c9aaa8884",
   "metadata": {},
   "outputs": [],
   "source": [
    "#Q10\n",
    "\n",
    "    Independent and identically distributed (iid) random variables in the sample.\n",
    "    Sufficiently large sample size (typically n ≥ 30) for approximation to normal distribution.\n",
    "    Absence of heavy-tailed distributions in the population.\n",
    "    Finite variance in the population."
   ]
  }
 ],
 "metadata": {
  "kernelspec": {
   "display_name": "Python 3 (ipykernel)",
   "language": "python",
   "name": "python3"
  },
  "language_info": {
   "codemirror_mode": {
    "name": "ipython",
    "version": 3
   },
   "file_extension": ".py",
   "mimetype": "text/x-python",
   "name": "python",
   "nbconvert_exporter": "python",
   "pygments_lexer": "ipython3",
   "version": "3.9.13"
  }
 },
 "nbformat": 4,
 "nbformat_minor": 5
}
