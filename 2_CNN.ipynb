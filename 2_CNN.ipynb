{
  "nbformat": 4,
  "nbformat_minor": 0,
  "metadata": {
    "colab": {
      "provenance": [],
      "authorship_tag": "ABX9TyMLkFg+pVb3/A7CM+Q0wC0v",
      "include_colab_link": true
    },
    "kernelspec": {
      "name": "python3",
      "display_name": "Python 3"
    },
    "language_info": {
      "name": "python"
    }
  },
  "cells": [
    {
      "cell_type": "markdown",
      "metadata": {
        "id": "view-in-github",
        "colab_type": "text"
      },
      "source": [
        "<a href=\"https://colab.research.google.com/github/pratik9153/Data-Science-Assignments/blob/main/2_CNN.ipynb\" target=\"_parent\"><img src=\"https://colab.research.google.com/assets/colab-badge.svg\" alt=\"Open In Colab\"/></a>"
      ]
    },
    {
      "cell_type": "code",
      "execution_count": null,
      "metadata": {
        "id": "5iadiXNF2aqZ"
      },
      "outputs": [],
      "source": [
        "#a. Explain the difference between object detection and object classification in the\n",
        "#context of computer vision tasks. Provide examples to illustrate each concept.\n",
        "\n",
        "Object classification identifies the type of object in an image (e.g., dog, cat). Object detection locates and classifies objects within an\n",
        "image (e.g., detecting multiple dogs and cats with bounding boxes)."
      ]
    },
    {
      "cell_type": "code",
      "source": [
        "#a. Describe at least three scenarios or real-world applications where object detection\n",
        "#techniques are commonly used. Explain the significance of object detection in these scenarios\n",
        "#and how it benefits the respective applications.\n",
        "\n",
        "    Autonomous vehicles: Detects pedestrians and obstacles, ensuring safety.\n",
        "    Surveillance: Identifies suspicious activities, enhancing security.\n",
        "    Retail: Tracks inventory and customer behavior, improving management and marketing.\n",
        "\n"
      ],
      "metadata": {
        "id": "H97FCYM72maZ"
      },
      "execution_count": null,
      "outputs": []
    },
    {
      "cell_type": "code",
      "source": [
        "#a. Discuss whether image data can be considered a structured form of data. Provide reasoning\n",
        "#and examples to support your answer.\n",
        "\n",
        "Image data is unstructured as it lacks inherent organization into rows and columns. However, image metadata (dimensions, labels) and pixel\n",
        " values in matrices provide some structure for analysis.\n"
      ],
      "metadata": {
        "id": "Ji2jYxC62tr_"
      },
      "execution_count": null,
      "outputs": []
    },
    {
      "cell_type": "code",
      "source": [
        "#a. Explain how Convolutional Neural Networks (CNN) can extract and understand information\n",
        "#from an image. Discuss the key components and processes involved in analyzing image data\n",
        "#using CNNs.\n",
        "\n",
        "CNNs analyze images using convolutional layers for feature extraction, pooling layers for dimensionality reduction, and fully connected layers\n",
        "for classification, leveraging filters and kernels to detect patterns and structures.\n"
      ],
      "metadata": {
        "id": "e4eiPADU218F"
      },
      "execution_count": null,
      "outputs": []
    }
  ]
}