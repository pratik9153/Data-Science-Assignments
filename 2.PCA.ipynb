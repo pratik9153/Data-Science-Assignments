{
 "cells": [
  {
   "cell_type": "code",
   "execution_count": null,
   "id": "aadec2da-3db7-41a7-8f70-e225831b11d7",
   "metadata": {},
   "outputs": [],
   "source": [
    "#Q1. What is a projection and how is it used in PCA?\n",
    "\n",
    "A projection involves transforming data onto a lower-dimensional subspace. In PCA (Principal Component Analysis), \n",
    "projections are used to find the orthogonal axes that capture the maximum variance in the data."
   ]
  },
  {
   "cell_type": "code",
   "execution_count": null,
   "id": "376e19da-9bcb-4a24-8246-9eceb33ec3f0",
   "metadata": {},
   "outputs": [],
   "source": [
    "#Q2. How does the optimization problem in PCA work, and what is it trying to achieve?\n",
    "\n",
    "The optimization in PCA aims to find eigenvectors (principal components) that maximize the variance captured \n",
    "while minimizing reconstruction error.\n"
   ]
  },
  {
   "cell_type": "code",
   "execution_count": null,
   "id": "210c1db0-18ac-44df-a117-622ce6939cc4",
   "metadata": {},
   "outputs": [],
   "source": [
    "#Q3. What is the relationship between covariance matrices and PCA?\n",
    "\n",
    "PCA uses covariance matrices to determine the direction of maximum variance, which aligns with the principal \n",
    "components of the data."
   ]
  },
  {
   "cell_type": "code",
   "execution_count": null,
   "id": "2539ab1d-fa95-42ba-9289-8dbbe5a6bbc4",
   "metadata": {},
   "outputs": [],
   "source": [
    "#Q4. How does the choice of number of principal components impact the performance of PCA?\n",
    "\n",
    "The choice affects trade-off between dimensionality reduction and information retained, impacting model complexity, \n",
    "interpretability, and reconstruction accuracy."
   ]
  },
  {
   "cell_type": "code",
   "execution_count": null,
   "id": "1beaae72-6653-46d0-8aca-fb97969a29e8",
   "metadata": {},
   "outputs": [],
   "source": [
    "#Q5. How can PCA be used in feature selection, and what are the benefits of using it for this purpose?\n",
    "\n",
    "PCA can select features by considering the principal components with the highest variance. Benefits include \n",
    "reducing dimensionality, removing correlated features, and preserving most of the data's variance, which aids \n",
    "in training simpler and more efficient models."
   ]
  },
  {
   "cell_type": "code",
   "execution_count": null,
   "id": "268524bf-96e0-45fb-a3cd-f87e7d1d6d98",
   "metadata": {},
   "outputs": [],
   "source": [
    "#Q6. What are some common applications of PCA in data science and machine learning?\n",
    "\n",
    "Common applications of PCA include dimensionality reduction, feature extraction, visualization, denoising, and \n",
    "preprocessing for improved model performance in various domains."
   ]
  },
  {
   "cell_type": "code",
   "execution_count": null,
   "id": "683f5810-4916-4903-8743-3fd184e6fa7f",
   "metadata": {},
   "outputs": [],
   "source": [
    "#Q7.What is the relationship between spread and variance in PCA?\n",
    "\n",
    "Spread refers to the distribution's range, while variance measures the average deviation from the mean, both \n",
    "relevant in PCA analysis."
   ]
  },
  {
   "cell_type": "code",
   "execution_count": null,
   "id": "d4fd914a-057a-4ecf-bf00-e3ca58e14c57",
   "metadata": {},
   "outputs": [],
   "source": [
    "#Q8. How does PCA use the spread and variance of the data to identify principal components?\n",
    "\n",
    "PCA identifies principal components along directions of maximum variance, capturing the spread of data to \n",
    "summarize its underlying structure."
   ]
  },
  {
   "cell_type": "code",
   "execution_count": null,
   "id": "0367e59a-4712-4d9e-918a-1852e9fd5774",
   "metadata": {},
   "outputs": [],
   "source": [
    "#Q9. How does PCA handle data with high variance in some dimensions but low variance in others?\n",
    "\n",
    "PCA focuses on directions of maximum variance, effectively capturing high-variance dimensions while \n",
    "reducing the impact of low-variance ones."
   ]
  }
 ],
 "metadata": {
  "kernelspec": {
   "display_name": "Python 3 (ipykernel)",
   "language": "python",
   "name": "python3"
  },
  "language_info": {
   "codemirror_mode": {
    "name": "ipython",
    "version": 3
   },
   "file_extension": ".py",
   "mimetype": "text/x-python",
   "name": "python",
   "nbconvert_exporter": "python",
   "pygments_lexer": "ipython3",
   "version": "3.9.13"
  }
 },
 "nbformat": 4,
 "nbformat_minor": 5
}
